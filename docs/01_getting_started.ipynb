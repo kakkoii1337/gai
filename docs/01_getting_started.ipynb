{
 "cells": [
  {
   "cell_type": "markdown",
   "metadata": {},
   "source": [
    "# Gai\n",
    "\n",
    "## 1. Getting Started\n",
    "\n",
    "The following instructions are designed to be executed in a dev container environment.\n",
    "\n",
    "### Step 1 Start the API Server\n",
    "\n",
    "a) Click on Debug tool on the left side of the screen.\n",
    "\n",
    "b) Select \"Python Debugger: API Server\" configuration from the dropdown.\n",
    "\n",
    "c) Click on the green play button to start the API server.\n",
    "\n",
    "### Step 2 Start the Demo Server\n",
    "\n",
    "a) Press CTRL+SHIFT+P to open the command palette.\n",
    "\n",
    "b) Type \"Tasks: Run Task\" and press Enter.\n",
    "\n",
    "c) Select \"React: Demo Server\" from the dropdown.\n",
    "\n",
    "### Step 3 Open the Debug Browser\n",
    "\n",
    "a) Click on Debug tool on the left side of the screen.\n",
    "\n",
    "b) Select \"Browser: Demo\" configuration from the dropdown.\n",
    "\n",
    "c) Click on the green play button to start the API server.\n",
    "\n",
    "### Conclusion\n",
    "\n",
    "If all goes well, the following checks should work:\n",
    "\n",
    "a) Click on Debug tool on the left side of the screen. Look for the Call Stack section on the left side of the screen. It should show \"Vite + React << Browser: Demo\" and \"Python Debugger: API Server\" as RUNNING\n",
    "\n",
    "b) Bottom Left corner of Visual Studio Code should show \"Dev Container: gai\"\n",
    "\n",
    "c) Click on the TERMINAL tab should show \"Python Debug Console\" running the API server and \"React: Demo Server\" Task running.\n",
    "\n",
    "## 2. Provision a Persona\n",
    "\n",
    "Persona is an agent with personality which differentiates it from tool-oriented bots. In the following demo, you will create a basic assistant persona using the demo app.\n",
    "\n",
    "### Step 1 Create a Persona\n",
    "\n",
    "### Step 2 Start the Dialogue\n",
    "\n",
    "### Step 3 Arrange the Personas\n",
    "\n",
    "### Step 4 Run the Pipeline\n",
    "\n",
    "\n",
    "\n"
   ]
  }
 ],
 "metadata": {
  "kernelspec": {
   "display_name": ".venv",
   "language": "python",
   "name": "python3"
  },
  "language_info": {
   "codemirror_mode": {
    "name": "ipython",
    "version": 3
   },
   "file_extension": ".py",
   "mimetype": "text/x-python",
   "name": "python",
   "nbconvert_exporter": "python",
   "pygments_lexer": "ipython3",
   "version": "3.10.14"
  }
 },
 "nbformat": 4,
 "nbformat_minor": 2
}
