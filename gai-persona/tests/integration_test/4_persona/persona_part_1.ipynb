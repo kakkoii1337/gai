{
 "cells": [
  {
   "cell_type": "markdown",
   "metadata": {},
   "source": [
    "# Persona"
   ]
  },
  {
   "cell_type": "markdown",
   "metadata": {},
   "source": [
    " ## 1. Simple Persona with Context-Awareness"
   ]
  },
  {
   "cell_type": "markdown",
   "metadata": {},
   "source": [
    "### a) Sara (Standard)\n",
    "\n",
    "This is a vanilla \"friendly assistant\" persona with context-awareness."
   ]
  },
  {
   "cell_type": "code",
   "execution_count": 1,
   "metadata": {},
   "outputs": [
    {
     "name": "stdout",
     "output_type": "stream",
     "text": [
      "Machine validation successful.\n",
      "Machine validation successful.\n",
      "Once upon a time, in a small village nestled between the mountains and the sea, there lived a young girl named Lily. Lily was known for her kindness and her love for nature. Every day, she would venture into the forest, collecting flowers and leaves to create beautiful, intricate art. One day, while she was exploring deeper into the woods than she ever had before, she stumbled upon a hidden glade where a majestic unicorn grazed. The unicorn, sensing Lily's pure heart, approached her, and from that day forward, they became the best of friends, sharing countless adventures together.Machine validation successful.\n",
      "Machine validation successful.\n",
      "As the days turned into weeks, Lily and the unicorn's friendship grew stronger. They would spend hours together, exploring the forest, playing games, and sharing stories. Lily would often sit under her favorite tree, a grand oak that had seen centuries pass, and listen to the unicorn's tales of the olden times. The unicorn, in turn, loved to hear about Lily's dreams for the future. She spoke of her aspirations to become an artist, to capture the beauty of the world around her and share it with others. The unicorn, with its ancient wisdom, would nod and say, \"Your dreams are as vast and beautiful as the sea, dear Lily.\" And so, Lily continued her daily adventures with her magical friend, her heart filled with joy and her mind brimming with ideas for her art."
     ]
    }
   ],
   "source": [
    "import os\n",
    "os.environ[\"LOG_LEVEL\"]=\"WARNING\"\n",
    "\n",
    "# Provision a basic persona\n",
    "from gai.persona.persona_builder import PersonaBuilder\n",
    "from gai.persona.profile.pydantic.ProvisionAgentPydantic import ProvisionAgentPydantic\n",
    "persona_builder = PersonaBuilder(\n",
    "    provision=ProvisionAgentPydantic(        \n",
    "        Name=\"Sara\",\n",
    "       )\n",
    "    )\n",
    "\n",
    "# Assign LLM engine\n",
    "from gai.ttt.client.ttt_client import TTTClient\n",
    "persona_builder.set_ttt(ttt_client=TTTClient({\n",
    "    \"type\": \"ttt\",\n",
    "    \"url\": \"http://gai-ttt-svr:12031/gen/v1/chat/completions\",\n",
    "    \"timeout\": 60.0,\n",
    "    \"temperature\": 0.2,\n",
    "    \"max_tokens\": 500\n",
    "}))\n",
    "\n",
    "# Chat\n",
    "sara=persona_builder.build()\n",
    "response=sara.act(user_message=\"Tell me a one paragraph story.\")\n",
    "for chunk in response:\n",
    "    print(chunk, end=\"\", flush=True)\n",
    "\n",
    "# Continue\n",
    "response=sara.act(user_message=\"Please continue.\")\n",
    "for chunk in response:\n",
    "    print(chunk, end=\"\", flush=True)"
   ]
  },
  {
   "cell_type": "markdown",
   "metadata": {},
   "source": [
    "### b) Diana (Devil's Advocate)"
   ]
  },
  {
   "cell_type": "code",
   "execution_count": 2,
   "metadata": {},
   "outputs": [
    {
     "name": "stdout",
     "output_type": "stream",
     "text": [
      "Machine validation successful.\n",
      "Machine validation successful.\n",
      "Once, there was a man named Tom who had a peculiar habit of collecting everything he saw. From paper clips to feathers, nothing was safe from his insatiable desire to possess. His home, filled to the brim with his treasures, eventually became a labyrinth of clutter. One day, a friend advised him to let go of some of his collections, but Tom, attached to his possessions, refused. As a result, his home became more chaotic and difficult to navigate. The moral of the story? Sometimes, it's necessary to declutter and let go of things that no longer serve us.Machine validation successful.\n",
      "Machine validation successful.\n",
      "While it's true that Tom's obsession with collecting led to a chaotic living situation, it's also important to consider his perspective. Tom's collections could hold sentimental value or represent a form of self-expression. In a world that often values minimalism, it's also essential to remember that everyone has different standards for comfort and order. The idea of \"decluttering\" and letting go of things might be liberating for some, but for others, like Tom, it could feel like a loss of personal connection or identity. Thus, while the moral of the story might suggest that decluttering is always beneficial, it's essential to remember that everyone's relationship with their possessions is unique and subjective."
     ]
    }
   ],
   "source": [
    "import os\n",
    "os.environ[\"LOG_LEVEL\"]=\"INFO\"\n",
    "\n",
    "# Provision a basic persona\n",
    "from gai.persona.persona_builder import PersonaBuilder\n",
    "from gai.persona.profile.pydantic.ProvisionAgentPydantic import ProvisionAgentPydantic\n",
    "persona_builder = PersonaBuilder(\n",
    "    provision=ProvisionAgentPydantic(        \n",
    "        Name=\"Diana\",\n",
    "       )\n",
    "    )\n",
    "\n",
    "# Assign custom prompt\n",
    "persona_builder.set_prompt(\"Opposition Prompt\")\n",
    "\n",
    "# Assign LLM engine\n",
    "from gai.ttt.client.ttt_client import TTTClient\n",
    "persona_builder.set_ttt(ttt_client=TTTClient({\n",
    "    \"type\": \"ttt\",\n",
    "    \"url\": \"http://gai-ttt-svr:12031/gen/v1/chat/completions\",\n",
    "    \"timeout\": 60.0,\n",
    "    \"max_tokens\": 500,\n",
    "}))\n",
    "\n",
    "# Chat\n",
    "persona=persona_builder.build()\n",
    "response=persona.act(user_message=\"Tell me a one paragraph story.\")\n",
    "for chunk in response:\n",
    "    print(chunk, end=\"\", flush=True)\n",
    "\n",
    "# Continue\n",
    "response=persona.act(user_message=\"Please continue.\")\n",
    "for chunk in response:\n",
    "    print(chunk, end=\"\", flush=True)"
   ]
  },
  {
   "cell_type": "markdown",
   "metadata": {},
   "source": [
    "### c) Christine (Consultant)"
   ]
  },
  {
   "cell_type": "code",
   "execution_count": null,
   "metadata": {},
   "outputs": [
    {
     "name": "stdout",
     "output_type": "stream",
     "text": [
      "Machine validation successful.\n",
      "Machine validation successful.\n",
      "Once upon a time, in a small village nestled between towering mountains, there lived a young girl named Lily. She was known for her vibrant imagination and her love for storytelling. One day, while exploring the dense forest bordering her village, she stumbled upon a magical tree that could change its leaves' colors according to her wishes. Overjoyed, Lily decided to use her newfound power to bring happiness to her village. She painted the tree's leaves with colors of joy, peace, and love, and as the leaves changed, the villagers felt an overwhelming sense of contentment and unity. From that day forward, Lily became the village's storyteller, weaving tales of magic and wonder, her stories reflecting the real magic she had discovered in the heart of the forest. And so, the village thrived, its spirit nourished by the tales spun by the young girl and the magical tree. But the question remains, how long will this magic last?Machine validation successful.\n",
      "Machine validation successful.\n",
      "Based on the recap, it seems that the story revolves around a young girl named Lily who discovers a magical tree in the forest near her village. This tree has the ability to change its leaves' colors according to Lily's wishes, and she uses this power to bring happiness to her village. Lily becomes the village's storyteller, weaving tales of magic and wonder that reflect the real magic she found in the forest.\n",
      "\n",
      "The key points made by our team are:\n",
      "\n",
      "1. Lily's vibrant imagination and love for storytelling.\n",
      "2. The existence of a magical tree with color-changing leaves.\n",
      "3. Lily's use of the tree's power to bring happiness to her village.\n",
      "4. Lily's role as the village's storyteller.\n",
      "\n",
      "Now, considering these points, we need to assess how long this magic will last. There could be several factors influencing this. For instance, the health of the magical tree, the villagers' belief in the magic, or external forces that might disrupt this harmony.\n",
      "\n",
      "So, what do you think? How long do you believe this magic will last in the village?"
     ]
    }
   ],
   "source": [
    "import os\n",
    "os.environ[\"LOG_LEVEL\"]=\"INFO\"\n",
    "\n",
    "# Provision a basic persona\n",
    "from gai.persona.persona_builder import PersonaBuilder\n",
    "from gai.persona.profile.pydantic.ProvisionAgentPydantic import ProvisionAgentPydantic\n",
    "persona_builder = PersonaBuilder(\n",
    "    provision=ProvisionAgentPydantic(        \n",
    "        Name=\"Christine\",\n",
    "       )\n",
    "    )\n",
    "\n",
    "# Assign custom prompt\n",
    "persona_builder.set_prompt(\"Consultant Prompt\")\n",
    "\n",
    "# Assign LLM engine\n",
    "from gai.ttt.client.ttt_client import TTTClient\n",
    "persona_builder.set_ttt(ttt_client=TTTClient({\n",
    "    \"type\": \"ttt\",\n",
    "    \"url\": \"http://gai-ttt-svr:12031/gen/v1/chat/completions\",\n",
    "    \"timeout\": 60.0,\n",
    "    \"max_tokens\": 500,\n",
    "}))\n",
    "\n",
    "# Chat\n",
    "persona=persona_builder.build()\n",
    "response=persona.act(user_message=\"Tell me a one paragraph story.\")\n",
    "for chunk in response:\n",
    "    print(chunk, end=\"\", flush=True)\n",
    "\n",
    "# Continue\n",
    "response=persona.act(user_message=\"Please continue.\")\n",
    "for chunk in response:\n",
    "    print(chunk, end=\"\", flush=True)"
   ]
  },
  {
   "cell_type": "markdown",
   "metadata": {},
   "source": [
    "---\n",
    "\n",
    "## 2. Import / Export\n",
    "\n",
    "The process of persona provisioning may involve multiple steps, so we can export the intermediate results to a directory and continue later."
   ]
  },
  {
   "cell_type": "code",
   "execution_count": 7,
   "metadata": {},
   "outputs": [
    {
     "data": {
      "text/plain": [
       "<gai.persona.persona_builder.PersonaBuilder at 0x7fd0bea23a90>"
      ]
     },
     "execution_count": 7,
     "metadata": {},
     "output_type": "execute_result"
    }
   ],
   "source": [
    "import os\n",
    "os.environ[\"LOG_LEVEL\"]=\"WARNING\"\n",
    "\n",
    "# Provision a basic persona\n",
    "from gai.persona.persona_builder import PersonaBuilder\n",
    "from gai.persona.profile.pydantic.ProvisionAgentPydantic import ProvisionAgentPydantic\n",
    "persona_builder = PersonaBuilder(\n",
    "    provision=ProvisionAgentPydantic(        \n",
    "        Name=\"Sara\",\n",
    "       )\n",
    "    )\n",
    "# Assign LLM engine\n",
    "from gai.ttt.client.ttt_client import TTTClient\n",
    "persona_builder.set_ttt(ttt_client=TTTClient({\n",
    "    \"type\": \"ttt\",\n",
    "    \"url\": \"http://gai-ttt-svr:12031/gen/v1/chat/completions\",\n",
    "    \"timeout\": 60.0,\n",
    "    \"temperature\": 0.7,\n",
    "}))\n",
    "\n",
    "# Save provisioning details for intermediary use (if needed)\n",
    "export_dir=os.path.abspath(os.path.join(os.path.dirname(__name__),\"data\",\"Sara\"))\n",
    "await persona_builder.export_async(export_dir=export_dir)\n"
   ]
  },
  {
   "cell_type": "code",
   "execution_count": 8,
   "metadata": {},
   "outputs": [
    {
     "name": "stdout",
     "output_type": "stream",
     "text": [
      "Machine validation successful.\n",
      "Machine validation successful.\n",
      "Once upon a time, in a small village nestled between two hills, lived a young girl named Lily. She was known for her radiant smile and her kind heart. One day, while walking through the forest, she stumbled upon a wounded bird. Despite her fear of birds, Lily gently picked it up, tended to its wounds, and released it back into the sky. From that day forward, the forest birds would sing a special melody in Lily's honor, a reminder of the kindness she carried in her heart."
     ]
    }
   ],
   "source": [
    "# Load provisioning details and build persona\n",
    "import os\n",
    "from gai.persona.persona_builder import PersonaBuilder\n",
    "\n",
    "# Import\n",
    "persona_builder = PersonaBuilder()\n",
    "import_dir=os.path.abspath(os.path.join(os.path.dirname(__name__),\"data\",\"Sara\"))\n",
    "await persona_builder.import_async(import_dir=import_dir)\n",
    "\n",
    "# Build\n",
    "persona=persona_builder.build()\n",
    "\n",
    "# Chat\n",
    "response=persona.act(user_message=\"Tell me a one paragraph story.\")\n",
    "for chunk in response:\n",
    "    print(chunk, end=\"\", flush=True)\n"
   ]
  }
 ],
 "metadata": {
  "kernelspec": {
   "display_name": ".venv",
   "language": "python",
   "name": "python3"
  },
  "language_info": {
   "codemirror_mode": {
    "name": "ipython",
    "version": 3
   },
   "file_extension": ".py",
   "mimetype": "text/x-python",
   "name": "python",
   "nbconvert_exporter": "python",
   "pygments_lexer": "ipython3",
   "version": "3.10.16"
  }
 },
 "nbformat": 4,
 "nbformat_minor": 2
}
