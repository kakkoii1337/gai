{
 "cells": [
  {
   "cell_type": "markdown",
   "metadata": {},
   "source": [
    "# Persona"
   ]
  },
  {
   "cell_type": "markdown",
   "metadata": {},
   "source": [
    " ## 1. Simple Persona with Context-Awareness"
   ]
  },
  {
   "cell_type": "markdown",
   "metadata": {},
   "source": [
    "### a) Sara (Standard)\n",
    "\n",
    "This is a vanilla \"friendly assistant\" persona with context-awareness."
   ]
  },
  {
   "cell_type": "code",
   "execution_count": null,
   "metadata": {},
   "outputs": [
    {
     "name": "stdout",
     "output_type": "stream",
     "text": [
      "Machine validation successful.\n",
      "Machine validation successful.\n",
      "Once upon a time, in a small village nestled between two hills, lived a young girl named Lily. She was known for her radiant smile and her kind heart. One day, while walking through the forest, she stumbled upon a wounded bird. Despite her fear of birds, Lily gently picked it up, tended to its wounds, and released it back into the sky. From that day forward, the forest birds would sing a special melody in Lily's honor, a reminder of the kindness she carried in her heart.Machine validation successful.\n",
      "Machine validation successful.\n",
      "After the special melody from the forest birds became a well-known legend in the village, Lily grew up to be a beloved figure, always ready to help others. Her kindness and bravery were an inspiration to everyone around her. One day, a traveler passing through the village told a story of a far-off land where people lived in harmony with nature and animals. The story sparked a dream in Lily's heart, a dream to make her village a place where such harmony could exist. With her kind heart and determined spirit, Lily began to work towards this dream, inspiring everyone she met along the way."
     ]
    }
   ],
   "source": [
    "import os\n",
    "os.environ[\"LOG_LEVEL\"]=\"WARNING\"\n",
    "\n",
    "# Provision a basic persona\n",
    "from gai.persona.persona_builder import PersonaBuilder\n",
    "from gai.persona.profile.pydantic.ProvisionAgentPydantic import ProvisionAgentPydantic\n",
    "persona_builder = PersonaBuilder(\n",
    "    provision=ProvisionAgentPydantic(        \n",
    "        Name=\"Sara\",\n",
    "       )\n",
    "    )\n",
    "\n",
    "# Assign LLM engine\n",
    "from gai.ttt.client.ttt_client import TTTClient\n",
    "persona_builder.set_ttt(ttt_client=TTTClient({\n",
    "    \"type\": \"ttt\",\n",
    "    \"url\": \"http://gai-ttt-svr:12031/gen/v1/chat/completions\",\n",
    "    \"timeout\": 60.0,\n",
    "    \"temperature\": 0.2,\n",
    "}))\n",
    "\n",
    "# Chat\n",
    "sara=persona_builder.build()\n",
    "response=sara.act(user_message=\"Tell me a one paragraph story.\")\n",
    "for chunk in response:\n",
    "    print(chunk, end=\"\", flush=True)\n",
    "\n",
    "# Continue\n",
    "response=sara.act(user_message=\"Please continue.\")\n",
    "for chunk in response:\n",
    "    print(chunk, end=\"\", flush=True)"
   ]
  },
  {
   "cell_type": "markdown",
   "metadata": {},
   "source": [
    "### b) Diana (Devil's Advocate)"
   ]
  },
  {
   "cell_type": "code",
   "execution_count": null,
   "metadata": {},
   "outputs": [
    {
     "name": "stdout",
     "output_type": "stream",
     "text": [
      "Machine validation successful.\n",
      "Machine validation successful.\n",
      "Once upon a time, in a small town nestled between towering mountains, there lived a young girl named Lily. She was known for her radiant smile and her unwavering kindness. Despite her humble beginnings, Lily's spirit was as vast as the sky above her town. One day, she found a mysterious key while playing near the river. Intrigued, she decided to explore the old, abandoned mansion at the outskirts of the town. With each step, she felt a strange connection to the key. As she unlocked the final door, a blinding light enveloped her, and when it faded, she found herself in a magical realm, where she discovered her true destiny.Machine validation successful.\n",
      "Machine validation successful.\n",
      "Certainly, let's continue. In the context of the story, it's interesting to note that Lily, a young girl with a radiant smile and unwavering kindness, found a mysterious key while playing near the river. This key led her to explore the old, abandoned mansion at the outskirts of the town. It's quite unusual for a young girl to venture into such a place alone, especially considering the potential dangers it might hold. Furthermore, the key seems to have a strange connection with Lily, but we're not given any explanation as to why this might be the case. It's also worth considering the potential consequences of Lily's actions. For instance, what if the mansion wasn't abandoned for no reason? What if it held secrets or dangers that Lily wasn't prepared to face? Additionally, the blinding light that enveloped her once she unlocked the final door seems to suggest a magical realm, but again, we're not given any explanation as to how or why this might have happened. It's also unclear what Lily's true destiny might be in this new realm. Overall, while the story is intriguing, it lacks detail and explanation, leaving many questions unanswered."
     ]
    }
   ],
   "source": [
    "import os\n",
    "os.environ[\"LOG_LEVEL\"]=\"INFO\"\n",
    "\n",
    "# Provision a basic persona\n",
    "from gai.persona.persona_builder import PersonaBuilder\n",
    "from gai.persona.profile.pydantic.ProvisionAgentPydantic import ProvisionAgentPydantic\n",
    "persona_builder = PersonaBuilder(\n",
    "    provision=ProvisionAgentPydantic(        \n",
    "        Name=\"Diana\",\n",
    "       )\n",
    "    )\n",
    "\n",
    "# Assign custom prompt\n",
    "persona_builder.set_prompt(\"Opposition Prompt\")\n",
    "\n",
    "# Assign LLM engine\n",
    "from gai.ttt.client.ttt_client import TTTClient\n",
    "persona_builder.set_ttt(ttt_client=TTTClient({\n",
    "    \"type\": \"ttt\",\n",
    "    \"url\": \"http://gai-ttt-svr:12031/gen/v1/chat/completions\",\n",
    "    \"timeout\": 60.0,\n",
    "    \"max_tokens\": 500,\n",
    "}))\n",
    "\n",
    "# Chat\n",
    "persona=persona_builder.build()\n",
    "response=persona.act(user_message=\"Tell me a one paragraph story.\")\n",
    "for chunk in response:\n",
    "    print(chunk, end=\"\", flush=True)\n",
    "\n",
    "# Continue\n",
    "response=persona.act(user_message=\"Please continue.\")\n",
    "for chunk in response:\n",
    "    print(chunk, end=\"\", flush=True)"
   ]
  },
  {
   "cell_type": "markdown",
   "metadata": {},
   "source": [
    "### c) Christine (Consultant)"
   ]
  },
  {
   "cell_type": "code",
   "execution_count": null,
   "metadata": {},
   "outputs": [
    {
     "name": "stdout",
     "output_type": "stream",
     "text": [
      "Machine validation successful.\n",
      "Machine validation successful.\n",
      "Once upon a time, in a small village nestled between towering mountains, there lived a young girl named Lily. She was known for her vibrant imagination and her love for storytelling. One day, while exploring the dense forest bordering her village, she stumbled upon a magical tree that could change its leaves' colors according to her wishes. Overjoyed, Lily decided to use her newfound power to bring happiness to her village. She painted the tree's leaves with colors of joy, peace, and love, and as the leaves changed, the villagers felt an overwhelming sense of contentment and unity. From that day forward, Lily became the village's storyteller, weaving tales of magic and wonder, her stories reflecting the real magic she had discovered in the heart of the forest. And so, the village thrived, its spirit nourished by the tales spun by the young girl and the magical tree. But the question remains, how long will this magic last?Machine validation successful.\n",
      "Machine validation successful.\n",
      "Based on the recap, it seems that the story revolves around a young girl named Lily who discovers a magical tree in the forest near her village. This tree has the ability to change its leaves' colors according to Lily's wishes, and she uses this power to bring happiness to her village. Lily becomes the village's storyteller, weaving tales of magic and wonder that reflect the real magic she found in the forest.\n",
      "\n",
      "The key points made by our team are:\n",
      "\n",
      "1. Lily's vibrant imagination and love for storytelling.\n",
      "2. The existence of a magical tree with color-changing leaves.\n",
      "3. Lily's use of the tree's power to bring happiness to her village.\n",
      "4. Lily's role as the village's storyteller.\n",
      "\n",
      "Now, considering these points, we need to assess how long this magic will last. There could be several factors influencing this. For instance, the health of the magical tree, the villagers' belief in the magic, or external forces that might disrupt this harmony.\n",
      "\n",
      "So, what do you think? How long do you believe this magic will last in the village?"
     ]
    }
   ],
   "source": [
    "import os\n",
    "os.environ[\"LOG_LEVEL\"]=\"INFO\"\n",
    "\n",
    "# Provision a basic persona\n",
    "from gai.persona.persona_builder import PersonaBuilder\n",
    "from gai.persona.profile.pydantic.ProvisionAgentPydantic import ProvisionAgentPydantic\n",
    "persona_builder = PersonaBuilder(\n",
    "    provision=ProvisionAgentPydantic(        \n",
    "        Name=\"Christine\",\n",
    "       )\n",
    "    )\n",
    "\n",
    "# Assign custom prompt\n",
    "persona_builder.set_prompt(\"Consultant Prompt\")\n",
    "\n",
    "# Assign LLM engine\n",
    "from gai.ttt.client.ttt_client import TTTClient\n",
    "persona_builder.set_ttt(ttt_client=TTTClient({\n",
    "    \"type\": \"ttt\",\n",
    "    \"url\": \"http://gai-ttt-svr:12031/gen/v1/chat/completions\",\n",
    "    \"timeout\": 60.0,\n",
    "    \"max_tokens\": 500,\n",
    "}))\n",
    "\n",
    "# Chat\n",
    "persona=persona_builder.build()\n",
    "response=persona.act(user_message=\"Tell me a one paragraph story.\")\n",
    "for chunk in response:\n",
    "    print(chunk, end=\"\", flush=True)\n",
    "\n",
    "# Continue\n",
    "response=persona.act(user_message=\"Please continue.\")\n",
    "for chunk in response:\n",
    "    print(chunk, end=\"\", flush=True)"
   ]
  },
  {
   "cell_type": "markdown",
   "metadata": {},
   "source": [
    "---\n",
    "\n",
    "## 2. Import / Export\n",
    "\n",
    "The process of persona provisioning may involve multiple steps, so we can export the intermediate results to a directory and continue later."
   ]
  },
  {
   "cell_type": "code",
   "execution_count": 7,
   "metadata": {},
   "outputs": [
    {
     "data": {
      "text/plain": [
       "<gai.persona.persona_builder.PersonaBuilder at 0x7fd0bea23a90>"
      ]
     },
     "execution_count": 7,
     "metadata": {},
     "output_type": "execute_result"
    }
   ],
   "source": [
    "import os\n",
    "os.environ[\"LOG_LEVEL\"]=\"WARNING\"\n",
    "\n",
    "# Provision a basic persona\n",
    "from gai.persona.persona_builder import PersonaBuilder\n",
    "from gai.persona.profile.pydantic.ProvisionAgentPydantic import ProvisionAgentPydantic\n",
    "persona_builder = PersonaBuilder(\n",
    "    provision=ProvisionAgentPydantic(        \n",
    "        Name=\"Sara\",\n",
    "       )\n",
    "    )\n",
    "# Assign LLM engine\n",
    "from gai.ttt.client.ttt_client import TTTClient\n",
    "persona_builder.set_ttt(ttt_client=TTTClient({\n",
    "    \"type\": \"ttt\",\n",
    "    \"url\": \"http://gai-ttt-svr:12031/gen/v1/chat/completions\",\n",
    "    \"timeout\": 60.0,\n",
    "    \"temperature\": 0.7,\n",
    "}))\n",
    "\n",
    "# Save provisioning details for intermediary use (if needed)\n",
    "export_dir=os.path.abspath(os.path.join(os.path.dirname(__name__),\"data\",\"Sara\"))\n",
    "await persona_builder.export_async(export_dir=export_dir)\n"
   ]
  },
  {
   "cell_type": "code",
   "execution_count": 8,
   "metadata": {},
   "outputs": [
    {
     "name": "stdout",
     "output_type": "stream",
     "text": [
      "Machine validation successful.\n",
      "Machine validation successful.\n",
      "Once upon a time, in a small village nestled between two hills, lived a young girl named Lily. She was known for her radiant smile and her kind heart. One day, while walking through the forest, she stumbled upon a wounded bird. Despite her fear of birds, Lily gently picked it up, tended to its wounds, and released it back into the sky. From that day forward, the forest birds would sing a special melody in Lily's honor, a reminder of the kindness she carried in her heart."
     ]
    }
   ],
   "source": [
    "# Load provisioning details and build persona\n",
    "import os\n",
    "from gai.persona.persona_builder import PersonaBuilder\n",
    "\n",
    "# Import\n",
    "persona_builder = PersonaBuilder()\n",
    "import_dir=os.path.abspath(os.path.join(os.path.dirname(__name__),\"data\",\"Sara\"))\n",
    "await persona_builder.import_async(import_dir=import_dir)\n",
    "\n",
    "# Build\n",
    "persona=persona_builder.build()\n",
    "\n",
    "# Chat\n",
    "response=persona.act(user_message=\"Tell me a one paragraph story.\")\n",
    "for chunk in response:\n",
    "    print(chunk, end=\"\", flush=True)\n"
   ]
  }
 ],
 "metadata": {
  "kernelspec": {
   "display_name": ".venv",
   "language": "python",
   "name": "python3"
  },
  "language_info": {
   "codemirror_mode": {
    "name": "ipython",
    "version": 3
   },
   "file_extension": ".py",
   "mimetype": "text/x-python",
   "name": "python",
   "nbconvert_exporter": "python",
   "pygments_lexer": "ipython3",
   "version": "3.10.14"
  }
 },
 "nbformat": 4,
 "nbformat_minor": 2
}
