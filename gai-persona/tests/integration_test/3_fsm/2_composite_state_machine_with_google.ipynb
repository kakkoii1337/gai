{
 "cells": [
  {
   "cell_type": "markdown",
   "metadata": {},
   "source": [
    "# Agent State Machine"
   ]
  },
  {
   "cell_type": "markdown",
   "metadata": {},
   "source": [
    "## State 0. Init\n",
    "\n",
    "The starting point is to create the string representation of the following mermaid diagram as follows:\n"
   ]
  },
  {
   "cell_type": "code",
   "execution_count": 1,
   "metadata": {},
   "outputs": [],
   "source": [
    "state_diagram = \"\"\"stateDiagram-v2\n",
    "    INIT --> TOOL_CHOICE: next / on_TOOL_CHOICE\n",
    "\n",
    "    TOOL_CHOICE --> CRAFT_TEXT_PROMPT: next / on_CRAFT_PROMPT / use_text\n",
    "        CRAFT_TEXT_PROMPT --> GENERATE: next / on_GENERATE\n",
    "        GENERATE --> PROCESS: next / on_PROCESS / use_text\n",
    "        PROCESS --> END : next\n",
    "\n",
    "    TOOL_CHOICE --> CRAFT_TOOL_PROMPT: next / on_CRAFT_PROMPT / use_google\n",
    "        TOOL_CALL --> GOOGLE: next / on_GOOGLE / use_google\n",
    "        GOOGLE --> GENERATE: next / on_GENERATE\n",
    "\n",
    "    TOOL_CHOICE --> CRAFT_TOOL_PROMPT: next / on_CRAFT_PROMPT / use_retrieval\n",
    "        TOOL_CALL --> RETRIEVAL: next / on_RETRIEVAL / use_retrieval\n",
    "        RETRIEVAL --> GENERATE: next / on_GENERATE\n",
    "\n",
    "    CRAFT_TOOL_PROMPT --> TOOL_CALL: next / on_TOOL_CALL\n",
    "    \"\"\""
   ]
  },
  {
   "cell_type": "markdown",
   "metadata": {},
   "source": [
    "```mermaid\n",
    "stateDiagram-v2\n",
    "    INIT --> TOOL_CHOICE: next / on_TOOL_CHOICE\n",
    "\n",
    "    TOOL_CHOICE --> CRAFT_TEXT_PROMPT: next / on_CRAFT_PROMPT / use_text\n",
    "        CRAFT_TEXT_PROMPT --> GENERATE: next / on_GENERATE\n",
    "        GENERATE --> PROCESS: next / on_PROCESS / use_text\n",
    "        PROCESS --> END : next\n",
    "\n",
    "    TOOL_CHOICE --> CRAFT_TOOL_PROMPT: next / on_CRAFT_PROMPT / use_google\n",
    "        TOOL_CALL --> GOOGLE: next / on_GOOGLE / use_google\n",
    "        GOOGLE --> GENERATE: next / on_GENERATE\n",
    "\n",
    "    TOOL_CHOICE --> CRAFT_TOOL_PROMPT: next / on_CRAFT_PROMPT / use_retrieval\n",
    "        TOOL_CALL --> RETRIEVAL: next / on_RETRIEVAL / use_retrieval\n",
    "        RETRIEVAL --> GENERATE: next / on_GENERATE\n",
    "\n",
    "    CRAFT_TOOL_PROMPT --> TOOL_CALL: next / on_TOOL_CALL\n",
    "```"
   ]
  },
  {
   "cell_type": "code",
   "execution_count": 2,
   "metadata": {},
   "outputs": [
    {
     "name": "stdout",
     "output_type": "stream",
     "text": [
      "Machine validation successful.\n"
     ]
    }
   ],
   "source": [
    "# ARRANGE\n",
    "import os\n",
    "os.environ[\"LOG_LEVEL\"]=\"WARNING\"\n",
    "from gai.lib.common.notebook import highlight,print_colored\n",
    "import sys\n",
    "sys.path.insert(0, os.path.abspath(os.path.join(os.path.dirname(__name__), '..')))\n",
    "from TestAgentHelper import TestAgentHelper\n",
    "agent = TestAgentHelper.CreateAgent(\"What is the current time in Singapore?\",state_diagram=state_diagram)\n"
   ]
  },
  {
   "cell_type": "markdown",
   "metadata": {},
   "source": [
    "## State 1. TOOL_CHOICE\n",
    "\n",
    "The first state is managed by `use_TOOL_CHOICE_handler` state handler function.\n",
    "The agent should decide to use \"google\"."
   ]
  },
  {
   "cell_type": "code",
   "execution_count": 3,
   "metadata": {},
   "outputs": [
    {
     "name": "stdout",
     "output_type": "stream",
     "text": [
      "step=1\n",
      "state=TOOL_CHOICE\n",
      "tool_choice=required\n",
      "tool_name='google\n"
     ]
    },
    {
     "data": {
      "text/html": [
       "<div style=\"background-color: #cccccc; color: #333333; white-space: pre-wrap; padding: 10px;\">content=<i>{\n",
       "    \"result\": \"google\"\n",
       "}</i></div>"
      ],
      "text/plain": [
       "<IPython.core.display.HTML object>"
      ]
     },
     "metadata": {},
     "output_type": "display_data"
    },
    {
     "name": "stdout",
     "output_type": "stream",
     "text": [
      "\n",
      "\n",
      "MONOLOGUE\n",
      "\n"
     ]
    }
   ],
   "source": [
    "# ACT\n",
    "agent.next()\n",
    "\n",
    "# ASSERT\n",
    "TestAgentHelper.ShowAgent(agent)"
   ]
  },
  {
   "cell_type": "markdown",
   "metadata": {},
   "source": [
    "## State 2. CRAFT_TOOL_PROMPT\n",
    "\n",
    "CRAFT_TOOL_PROMPT is triggered because the agent recommends \"google\". System message should return \"\"."
   ]
  },
  {
   "cell_type": "code",
   "execution_count": 4,
   "metadata": {},
   "outputs": [
    {
     "name": "stdout",
     "output_type": "stream",
     "text": [
      "step=2\n",
      "state=CRAFT_TOOL_PROMPT\n",
      "tool_choice=required\n",
      "tool_name='google\n"
     ]
    },
    {
     "data": {
      "text/html": [
       "<div style=\"background-color: #cccccc; color: #333333; white-space: pre-wrap; padding: 10px;\">content=<i>{\n",
       "    \"system_message\": \"\"\n",
       "}</i></div>"
      ],
      "text/plain": [
       "<IPython.core.display.HTML object>"
      ]
     },
     "metadata": {},
     "output_type": "display_data"
    },
    {
     "name": "stdout",
     "output_type": "stream",
     "text": [
      "\n",
      "\n",
      "MONOLOGUE\n",
      "\n"
     ]
    },
    {
     "data": {
      "text/html": [
       "<font color=\"yellow\">System:\n",
       "\n",
       "</font>"
      ],
      "text/plain": [
       "<IPython.core.display.HTML object>"
      ]
     },
     "metadata": {},
     "output_type": "display_data"
    },
    {
     "name": "stdout",
     "output_type": "stream",
     "text": [
      "\n",
      "\n",
      "\n",
      "\n"
     ]
    },
    {
     "data": {
      "text/html": [
       "<font color=\"yellow\">User:\n",
       "\n",
       "</font>"
      ],
      "text/plain": [
       "<IPython.core.display.HTML object>"
      ]
     },
     "metadata": {},
     "output_type": "display_data"
    },
    {
     "name": "stdout",
     "output_type": "stream",
     "text": [
      "Alfred, What is the current time in Singapore?\n",
      "\n",
      "\n",
      "\n"
     ]
    },
    {
     "data": {
      "text/html": [
       "<font color=\"yellow\">Assistant:\n",
       "\n",
       "</font>"
      ],
      "text/plain": [
       "<IPython.core.display.HTML object>"
      ]
     },
     "metadata": {},
     "output_type": "display_data"
    },
    {
     "name": "stdout",
     "output_type": "stream",
     "text": [
      "\n",
      "\n",
      "\n",
      "\n"
     ]
    }
   ],
   "source": [
    "# ACT\n",
    "agent.next()\n",
    "\n",
    "# ASSERT\n",
    "TestAgentHelper.ShowAgent(agent)"
   ]
  },
  {
   "cell_type": "markdown",
   "metadata": {},
   "source": [
    "## State 3. TOOL_CALL\n",
    "\n"
   ]
  },
  {
   "cell_type": "code",
   "execution_count": 5,
   "metadata": {},
   "outputs": [
    {
     "name": "stdout",
     "output_type": "stream",
     "text": [
      "{\"type\": \"function\", \"name\": \"google\", \"arguments\": \"{\\\"search_query\\\": \\\"current time in Singapore\\\"}\"}\n",
      "step=3\n",
      "state=TOOL_CALL\n",
      "tool_choice=required\n",
      "tool_name='google\n"
     ]
    },
    {
     "data": {
      "text/html": [
       "<div style=\"background-color: #cccccc; color: #333333; white-space: pre-wrap; padding: 10px;\">content=<i>\"{\\\"type\\\": \\\"function\\\", \\\"name\\\": \\\"google\\\", \\\"arguments\\\": \\\"{\\\\\\\"search_query\\\\\\\": \\\\\\\"current time in Singapore\\\\\\\"}\\\"}\"</i></div>"
      ],
      "text/plain": [
       "<IPython.core.display.HTML object>"
      ]
     },
     "metadata": {},
     "output_type": "display_data"
    },
    {
     "name": "stdout",
     "output_type": "stream",
     "text": [
      "\n",
      "\n",
      "MONOLOGUE\n",
      "\n"
     ]
    },
    {
     "data": {
      "text/html": [
       "<font color=\"yellow\">System:\n",
       "\n",
       "</font>"
      ],
      "text/plain": [
       "<IPython.core.display.HTML object>"
      ]
     },
     "metadata": {},
     "output_type": "display_data"
    },
    {
     "name": "stdout",
     "output_type": "stream",
     "text": [
      "\n",
      "        BACKGROUND:\n",
      "        You are a web analyst. You are highly valued for your ability to search the web.\n",
      "        You are the only one in the conversation that can do that so you should play to your strength but do it sensibly.\n",
      "        \n",
      "        OBJECTIVE:        \n",
      "        Refer to the following <recap> for the background of the conversation: <recap> [] </recap>        \n",
      "        From the recap, ask yourself the question 'what objective is the user trying to achieve?'\n",
      "        With that as the context, answer the user's question by crafting a tool call using the most relevant arguments.\n",
      "        \n",
      "\n",
      "\n",
      "\n"
     ]
    },
    {
     "data": {
      "text/html": [
       "<font color=\"yellow\">User:\n",
       "\n",
       "</font>"
      ],
      "text/plain": [
       "<IPython.core.display.HTML object>"
      ]
     },
     "metadata": {},
     "output_type": "display_data"
    },
    {
     "name": "stdout",
     "output_type": "stream",
     "text": [
      "What is the current time in Singapore?\n",
      "\n",
      "\n",
      "\n"
     ]
    },
    {
     "data": {
      "text/html": [
       "<font color=\"yellow\">Assistant:\n",
       "\n",
       "</font>"
      ],
      "text/plain": [
       "<IPython.core.display.HTML object>"
      ]
     },
     "metadata": {},
     "output_type": "display_data"
    },
    {
     "name": "stdout",
     "output_type": "stream",
     "text": [
      "\n",
      "\n",
      "\n",
      "\n"
     ]
    }
   ],
   "source": [
    "# ACT\n",
    "agent.next()\n",
    "print(agent.content)\n",
    "\n",
    "# ASSERT\n",
    "TestAgentHelper.ShowAgent(agent)"
   ]
  },
  {
   "cell_type": "markdown",
   "metadata": {},
   "source": [
    "## State 4. GOOGLE\n",
    "\n"
   ]
  },
  {
   "cell_type": "code",
   "execution_count": 6,
   "metadata": {},
   "outputs": [
    {
     "name": "stdout",
     "output_type": "stream",
     "text": [
      "step=4\n",
      "state=GOOGLE\n",
      "tool_choice=none\n",
      "tool_name='text\n"
     ]
    },
    {
     "data": {
      "text/html": [
       "<div style=\"background-color: #cccccc; color: #333333; white-space: pre-wrap; padding: 10px;\">content=<i>[\n",
       "    {\n",
       "        \"subject\": \"current time in Singapore\",\n",
       "        \"topic\": \"Current local time in Singapore WorldTimeServer.com Your location: Your location Favorites Profile Login language English Viewing in English View in German View in French View in Spanish Current Time In Search GO Home Current Local Time What Time Is It Time Zones Time Zone Converter Time Zone News World Clock Meeting Planner Learn World Time Database Current Time in Singapore What Time Is It In Singapore? Local Time 8:05:20 PM Sunday, November 24, 2024 Singapore Time (SGT) +0800 UTC UTC/GMT is 12:05 on\",\n",
       "        \"relevance\": \"high\"\n",
       "    },\n",
       "    {\n",
       "        \"subject\": \"current time in Singapore\",\n",
       "        \"topic\": \"Central African Republic Chad Chile Chile - Easter Island Chile - Magallanes China Christmas Island (Indian Ocean) Cocos (Keeling) Islands Colombia Comoros Congo Congo, Democratic Republic of - (Eastern) Congo, Democratic Republic of - (Western) Cook Islands Costa Rica Cote D'Ivoire Croatia Cuba Cura\\u00e7ao Cyprus Czech Republic Denmark Djibouti Dominica Dominican Republic Ecuador Ecuador - Galapagos Islands Egypt El Salvador Equatorial Guinea Eritrea Estonia Ethiopia Falkland Islands (Malvinas) Faroe Islands Fiji Finland France French Guiana French Polynesia - Austral Islands French Polynesia - Gambier Islands French Polynesia - Marquesas Islands French Polynesia - Society Islands (including Tahiti) French Polynesia - Tuamotu Archipelago Gabon Gambia Georgia Germany Ghana Gibraltar Greece Greenland - Danmarkshavn Greenland - Greenland Greenland - Ittoqqortoormiit Greenland - Pituffik Grenada Guadeloupe Guam Guatemala Guernsey Guinea Guinea-Bissau Guyana Haiti Holy See Honduras Hong Kong\",\n",
       "        \"relevance\": \"high\"\n",
       "    },\n",
       "    {\n",
       "        \"subject\": \"current time in Singapore\",\n",
       "        \"topic\": \"Singapore\",\n",
       "        \"relevance\": \"high\"\n",
       "    }\n",
       "]</i></div>"
      ],
      "text/plain": [
       "<IPython.core.display.HTML object>"
      ]
     },
     "metadata": {},
     "output_type": "display_data"
    },
    {
     "name": "stdout",
     "output_type": "stream",
     "text": [
      "\n",
      "\n",
      "MONOLOGUE\n",
      "\n"
     ]
    },
    {
     "data": {
      "text/html": [
       "<font color=\"yellow\">System:\n",
       "\n",
       "</font>"
      ],
      "text/plain": [
       "<IPython.core.display.HTML object>"
      ]
     },
     "metadata": {},
     "output_type": "display_data"
    },
    {
     "name": "stdout",
     "output_type": "stream",
     "text": [
      "Take into consideration the conversation <recap> below: <recap>[]</recap>\n",
      "Refer to the following online search result from the google query `current time in Singapore`:\n",
      "`[{'subject': 'current time in Singapore', 'topic': 'Current local time in Singapore WorldTimeServer.com Your location: Your location Favorites Profile Login language English Viewing in English View in German View in French View in Spanish Current Time In Search GO Home Current Local Time What Time Is It Time Zones Time Zone Converter Time Zone News World Clock Meeting Planner Learn World Time Database Current Time in Singapore What Time Is It In Singapore? Local Time 8:05:20 PM Sunday, November 24, 2024 Singapore Time (SGT) +0800 UTC UTC/GMT is 12:05 on', 'relevance': 'high'}, {'subject': 'current time in Singapore', 'topic': \"Central African Republic Chad Chile Chile - Easter Island Chile - Magallanes China Christmas Island (Indian Ocean) Cocos (Keeling) Islands Colombia Comoros Congo Congo, Democratic Republic of - (Eastern) Congo, Democratic Republic of - (Western) Cook Islands Costa Rica Cote D'Ivoire Croatia Cuba Curaçao Cyprus Czech Republic Denmark Djibouti Dominica Dominican Republic Ecuador Ecuador - Galapagos Islands Egypt El Salvador Equatorial Guinea Eritrea Estonia Ethiopia Falkland Islands (Malvinas) Faroe Islands Fiji Finland France French Guiana French Polynesia - Austral Islands French Polynesia - Gambier Islands French Polynesia - Marquesas Islands French Polynesia - Society Islands (including Tahiti) French Polynesia - Tuamotu Archipelago Gabon Gambia Georgia Germany Ghana Gibraltar Greece Greenland - Danmarkshavn Greenland - Greenland Greenland - Ittoqqortoormiit Greenland - Pituffik Grenada Guadeloupe Guam Guatemala Guernsey Guinea Guinea-Bissau Guyana Haiti Holy See Honduras Hong Kong\", 'relevance': 'high'}, {'subject': 'current time in Singapore', 'topic': 'Singapore', 'relevance': 'high'}]`.\n",
      "Based on the recap and search result as context, answer the user's following question.\n",
      "            \n",
      "\n",
      "\n",
      "\n"
     ]
    },
    {
     "data": {
      "text/html": [
       "<font color=\"yellow\">User:\n",
       "\n",
       "</font>"
      ],
      "text/plain": [
       "<IPython.core.display.HTML object>"
      ]
     },
     "metadata": {},
     "output_type": "display_data"
    },
    {
     "name": "stdout",
     "output_type": "stream",
     "text": [
      "What is the current time in Singapore?\n",
      "\n",
      "\n",
      "\n"
     ]
    },
    {
     "data": {
      "text/html": [
       "<font color=\"yellow\">Assistant:\n",
       "\n",
       "</font>"
      ],
      "text/plain": [
       "<IPython.core.display.HTML object>"
      ]
     },
     "metadata": {},
     "output_type": "display_data"
    },
    {
     "name": "stdout",
     "output_type": "stream",
     "text": [
      "\n",
      "\n",
      "\n",
      "\n"
     ]
    }
   ],
   "source": [
    "# ACT\n",
    "agent.next()\n",
    "\n",
    "# ASSERT\n",
    "TestAgentHelper.ShowAgent(agent)"
   ]
  },
  {
   "cell_type": "markdown",
   "metadata": {},
   "source": [
    "## State 5. GENERATE\n",
    "\n"
   ]
  },
  {
   "cell_type": "code",
   "execution_count": 7,
   "metadata": {},
   "outputs": [
    {
     "name": "stdout",
     "output_type": "stream",
     "text": [
      "The current time in Singapore is 8:05:20 PM on Sunday, November 24, 2024. Singapore Time (SGT) is UTC+0800."
     ]
    },
    {
     "data": {
      "text/plain": [
       "'\\nIf it is not connected to the internet, the response will appear something like this:\\nAs of my last update, the current time in Singapore is 12:00 PM on March 20, 2023. However, please verify this information as it may have changed since my last update. Singapore is 8 hours ahead of Eastern Standard Time (EST) and 15 hours ahead of Pacific Standard Time (PST). To find the current time in Singapore, you can use an online time zone converter or check the local news or weather websites that display the current time.\\n'"
      ]
     },
     "execution_count": 7,
     "metadata": {},
     "output_type": "execute_result"
    }
   ],
   "source": [
    "# ACT\n",
    "agent.next()\n",
    "for chunk in agent.streamer:\n",
    "    print(chunk, end=\"\", flush=True)\n",
    "\n",
    "\"\"\"\n",
    "If it is not connected to the internet, the response will appear something like this:\n",
    "As of my last update, the current time in Singapore is 12:00 PM on March 20, 2023. However, please verify this information as it may have changed since my last update. Singapore is 8 hours ahead of Eastern Standard Time (EST) and 15 hours ahead of Pacific Standard Time (PST). To find the current time in Singapore, you can use an online time zone converter or check the local news or weather websites that display the current time.\n",
    "\"\"\"    \n",
    "\n"
   ]
  },
  {
   "cell_type": "code",
   "execution_count": 8,
   "metadata": {},
   "outputs": [
    {
     "name": "stdout",
     "output_type": "stream",
     "text": [
      "step=5\n",
      "state=GENERATE\n",
      "tool_choice=none\n",
      "tool_name='text\n"
     ]
    },
    {
     "data": {
      "text/html": [
       "<div style=\"background-color: #cccccc; color: #333333; white-space: pre-wrap; padding: 10px;\">content=<i>\"The current time in Singapore is 8:05:20 PM on Sunday, November 24, 2024. Singapore Time (SGT) is UTC+0800.\"</i></div>"
      ],
      "text/plain": [
       "<IPython.core.display.HTML object>"
      ]
     },
     "metadata": {},
     "output_type": "display_data"
    },
    {
     "name": "stdout",
     "output_type": "stream",
     "text": [
      "\n",
      "\n",
      "MONOLOGUE\n",
      "\n"
     ]
    },
    {
     "data": {
      "text/html": [
       "<font color=\"yellow\">System:\n",
       "\n",
       "</font>"
      ],
      "text/plain": [
       "<IPython.core.display.HTML object>"
      ]
     },
     "metadata": {},
     "output_type": "display_data"
    },
    {
     "name": "stdout",
     "output_type": "stream",
     "text": [
      "Take into consideration the conversation <recap> below: <recap>[]</recap>\n",
      "Refer to the following online search result from the google query `current time in Singapore`:\n",
      "`[{'subject': 'current time in Singapore', 'topic': 'Current local time in Singapore WorldTimeServer.com Your location: Your location Favorites Profile Login language English Viewing in English View in German View in French View in Spanish Current Time In Search GO Home Current Local Time What Time Is It Time Zones Time Zone Converter Time Zone News World Clock Meeting Planner Learn World Time Database Current Time in Singapore What Time Is It In Singapore? Local Time 8:05:20 PM Sunday, November 24, 2024 Singapore Time (SGT) +0800 UTC UTC/GMT is 12:05 on', 'relevance': 'high'}, {'subject': 'current time in Singapore', 'topic': \"Central African Republic Chad Chile Chile - Easter Island Chile - Magallanes China Christmas Island (Indian Ocean) Cocos (Keeling) Islands Colombia Comoros Congo Congo, Democratic Republic of - (Eastern) Congo, Democratic Republic of - (Western) Cook Islands Costa Rica Cote D'Ivoire Croatia Cuba Curaçao Cyprus Czech Republic Denmark Djibouti Dominica Dominican Republic Ecuador Ecuador - Galapagos Islands Egypt El Salvador Equatorial Guinea Eritrea Estonia Ethiopia Falkland Islands (Malvinas) Faroe Islands Fiji Finland France French Guiana French Polynesia - Austral Islands French Polynesia - Gambier Islands French Polynesia - Marquesas Islands French Polynesia - Society Islands (including Tahiti) French Polynesia - Tuamotu Archipelago Gabon Gambia Georgia Germany Ghana Gibraltar Greece Greenland - Danmarkshavn Greenland - Greenland Greenland - Ittoqqortoormiit Greenland - Pituffik Grenada Guadeloupe Guam Guatemala Guernsey Guinea Guinea-Bissau Guyana Haiti Holy See Honduras Hong Kong\", 'relevance': 'high'}, {'subject': 'current time in Singapore', 'topic': 'Singapore', 'relevance': 'high'}]`.\n",
      "Based on the recap and search result as context, answer the user's following question.\n",
      "            \n",
      "\n",
      "\n",
      "\n"
     ]
    },
    {
     "data": {
      "text/html": [
       "<font color=\"yellow\">User:\n",
       "\n",
       "</font>"
      ],
      "text/plain": [
       "<IPython.core.display.HTML object>"
      ]
     },
     "metadata": {},
     "output_type": "display_data"
    },
    {
     "name": "stdout",
     "output_type": "stream",
     "text": [
      "What is the current time in Singapore?\n",
      "\n",
      "\n",
      "\n"
     ]
    },
    {
     "data": {
      "text/html": [
       "<font color=\"yellow\">Assistant:\n",
       "\n",
       "</font>"
      ],
      "text/plain": [
       "<IPython.core.display.HTML object>"
      ]
     },
     "metadata": {},
     "output_type": "display_data"
    },
    {
     "name": "stdout",
     "output_type": "stream",
     "text": [
      "\n",
      "\n",
      "\n",
      "\n"
     ]
    }
   ],
   "source": [
    "# ASSERT\n",
    "TestAgentHelper.ShowAgent(agent)\n"
   ]
  },
  {
   "cell_type": "markdown",
   "metadata": {},
   "source": [
    "## State 6. PROCESS\n",
    "\n"
   ]
  },
  {
   "cell_type": "code",
   "execution_count": 9,
   "metadata": {},
   "outputs": [
    {
     "name": "stdout",
     "output_type": "stream",
     "text": [
      "step=6\n",
      "state=PROCESS\n",
      "tool_choice=none\n",
      "tool_name='text\n"
     ]
    },
    {
     "data": {
      "text/html": [
       "<div style=\"background-color: #cccccc; color: #333333; white-space: pre-wrap; padding: 10px;\">content=<i>\"The current time in Singapore is 8:05:20 PM on Sunday, November 24, 2024. Singapore Time (SGT) is UTC+0800.\"</i></div>"
      ],
      "text/plain": [
       "<IPython.core.display.HTML object>"
      ]
     },
     "metadata": {},
     "output_type": "display_data"
    },
    {
     "name": "stdout",
     "output_type": "stream",
     "text": [
      "\n",
      "\n",
      "MONOLOGUE\n",
      "\n"
     ]
    },
    {
     "data": {
      "text/html": [
       "<font color=\"yellow\">System:\n",
       "\n",
       "</font>"
      ],
      "text/plain": [
       "<IPython.core.display.HTML object>"
      ]
     },
     "metadata": {},
     "output_type": "display_data"
    },
    {
     "name": "stdout",
     "output_type": "stream",
     "text": [
      "Take into consideration the conversation <recap> below: <recap>[]</recap>\n",
      "Refer to the following online search result from the google query `current time in Singapore`:\n",
      "`[{'subject': 'current time in Singapore', 'topic': 'Current local time in Singapore WorldTimeServer.com Your location: Your location Favorites Profile Login language English Viewing in English View in German View in French View in Spanish Current Time In Search GO Home Current Local Time What Time Is It Time Zones Time Zone Converter Time Zone News World Clock Meeting Planner Learn World Time Database Current Time in Singapore What Time Is It In Singapore? Local Time 8:05:20 PM Sunday, November 24, 2024 Singapore Time (SGT) +0800 UTC UTC/GMT is 12:05 on', 'relevance': 'high'}, {'subject': 'current time in Singapore', 'topic': \"Central African Republic Chad Chile Chile - Easter Island Chile - Magallanes China Christmas Island (Indian Ocean) Cocos (Keeling) Islands Colombia Comoros Congo Congo, Democratic Republic of - (Eastern) Congo, Democratic Republic of - (Western) Cook Islands Costa Rica Cote D'Ivoire Croatia Cuba Curaçao Cyprus Czech Republic Denmark Djibouti Dominica Dominican Republic Ecuador Ecuador - Galapagos Islands Egypt El Salvador Equatorial Guinea Eritrea Estonia Ethiopia Falkland Islands (Malvinas) Faroe Islands Fiji Finland France French Guiana French Polynesia - Austral Islands French Polynesia - Gambier Islands French Polynesia - Marquesas Islands French Polynesia - Society Islands (including Tahiti) French Polynesia - Tuamotu Archipelago Gabon Gambia Georgia Germany Ghana Gibraltar Greece Greenland - Danmarkshavn Greenland - Greenland Greenland - Ittoqqortoormiit Greenland - Pituffik Grenada Guadeloupe Guam Guatemala Guernsey Guinea Guinea-Bissau Guyana Haiti Holy See Honduras Hong Kong\", 'relevance': 'high'}, {'subject': 'current time in Singapore', 'topic': 'Singapore', 'relevance': 'high'}]`.\n",
      "Based on the recap and search result as context, answer the user's following question.\n",
      "            \n",
      "\n",
      "\n",
      "\n"
     ]
    },
    {
     "data": {
      "text/html": [
       "<font color=\"yellow\">User:\n",
       "\n",
       "</font>"
      ],
      "text/plain": [
       "<IPython.core.display.HTML object>"
      ]
     },
     "metadata": {},
     "output_type": "display_data"
    },
    {
     "name": "stdout",
     "output_type": "stream",
     "text": [
      "What is the current time in Singapore?\n",
      "\n",
      "\n",
      "\n"
     ]
    },
    {
     "data": {
      "text/html": [
       "<font color=\"yellow\">Alfred:\n",
       "\n",
       "</font>"
      ],
      "text/plain": [
       "<IPython.core.display.HTML object>"
      ]
     },
     "metadata": {},
     "output_type": "display_data"
    },
    {
     "name": "stdout",
     "output_type": "stream",
     "text": [
      "The current time in Singapore is 8:05:20 PM on Sunday, November 24, 2024. Singapore Time (SGT) is UTC+0800.\n",
      "\n",
      "\n",
      "\n"
     ]
    }
   ],
   "source": [
    "# ACT\n",
    "agent.next()\n",
    "\n",
    "# ASSERT\n",
    "TestAgentHelper.ShowAgent(agent)\n"
   ]
  }
 ],
 "metadata": {
  "kernelspec": {
   "display_name": ".venv",
   "language": "python",
   "name": "python3"
  },
  "language_info": {
   "codemirror_mode": {
    "name": "ipython",
    "version": 3
   },
   "file_extension": ".py",
   "mimetype": "text/x-python",
   "name": "python",
   "nbconvert_exporter": "python",
   "pygments_lexer": "ipython3",
   "version": "3.10.14"
  }
 },
 "nbformat": 4,
 "nbformat_minor": 2
}
