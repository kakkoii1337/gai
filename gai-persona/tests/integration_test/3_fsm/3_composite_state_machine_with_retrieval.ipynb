{
 "cells": [
  {
   "cell_type": "markdown",
   "metadata": {},
   "source": [
    "# Agent State Machine"
   ]
  },
  {
   "cell_type": "markdown",
   "metadata": {},
   "source": [
    "**ARRANGE:** index the document"
   ]
  },
  {
   "cell_type": "code",
   "execution_count": 2,
   "metadata": {},
   "outputs": [
    {
     "name": "stderr",
     "output_type": "stream",
     "text": [
      "\u001b[45m\u001b[30mDEBUG   \u001b[0m \u001b[35mhttppost:url=http://gai-rag-svr:12036/gen/v1/rag/index-file\u001b[0m\n",
      "\u001b[45m\u001b[30mDEBUG   \u001b[0m \u001b[35mhttppost:data=None\u001b[0m\n",
      "\u001b[45m\u001b[30mDEBUG   \u001b[0m \u001b[35mhttppost:files={'file': ('where_to_find_the_best_chicken_rice_in_singapore.txt',\n",
      "          <_io.BufferedReader name='/workspaces/gai/gai-persona/tests/integration_test/3_fsm/where_to_find_the_best_chicken_rice_in_singapore.txt'>,\n",
      "          'application/pdf'),\n",
      " 'req': (None,\n",
      "         '{\"Id\":null,\"CollectionName\":\"demo\",\"FilePath\":\"/workspaces/gai/gai-persona/tests/integration_test/3_fsm/where_to_find_the_best_chicken_rice_in_singapore.txt\",\"FileType\":\"\",\"Source\":\"\",\"ByteSize\":null,\"Title\":\"\",\"Abstract\":null,\"Authors\":\"\",\"Publisher\":\"\",\"PublishedDate\":\"\",\"Comments\":\"\",\"Keywords\":\"\",\"ChunkGroupId\":null,\"ChunkSize\":null,\"ChunkOverlap\":null,\"ChunkCount\":null}',\n",
      "         'application/json')}\u001b[0m\n",
      "\u001b[41m\u001b[30mERROR   \u001b[0m \u001b[31mindex_document_async: Error indexing file. error=Connection Error. Is the service Running?\u001b[0m\n"
     ]
    },
    {
     "ename": "Exception",
     "evalue": "Connection Error. Is the service Running?",
     "output_type": "error",
     "traceback": [
      "\u001b[0;31m---------------------------------------------------------------------------\u001b[0m",
      "\u001b[0;31mConnectError\u001b[0m                              Traceback (most recent call last)",
      "File \u001b[0;32m~/.venv/lib/python3.10/site-packages/httpx/_transports/default.py:72\u001b[0m, in \u001b[0;36mmap_httpcore_exceptions\u001b[0;34m()\u001b[0m\n\u001b[1;32m     71\u001b[0m \u001b[38;5;28;01mtry\u001b[39;00m:\n\u001b[0;32m---> 72\u001b[0m     \u001b[38;5;28;01myield\u001b[39;00m\n\u001b[1;32m     73\u001b[0m \u001b[38;5;28;01mexcept\u001b[39;00m \u001b[38;5;167;01mException\u001b[39;00m \u001b[38;5;28;01mas\u001b[39;00m exc:\n",
      "File \u001b[0;32m~/.venv/lib/python3.10/site-packages/httpx/_transports/default.py:377\u001b[0m, in \u001b[0;36mAsyncHTTPTransport.handle_async_request\u001b[0;34m(self, request)\u001b[0m\n\u001b[1;32m    376\u001b[0m \u001b[38;5;28;01mwith\u001b[39;00m map_httpcore_exceptions():\n\u001b[0;32m--> 377\u001b[0m     resp \u001b[38;5;241m=\u001b[39m \u001b[38;5;28;01mawait\u001b[39;00m \u001b[38;5;28mself\u001b[39m\u001b[38;5;241m.\u001b[39m_pool\u001b[38;5;241m.\u001b[39mhandle_async_request(req)\n\u001b[1;32m    379\u001b[0m \u001b[38;5;28;01massert\u001b[39;00m \u001b[38;5;28misinstance\u001b[39m(resp\u001b[38;5;241m.\u001b[39mstream, typing\u001b[38;5;241m.\u001b[39mAsyncIterable)\n",
      "File \u001b[0;32m~/.venv/lib/python3.10/site-packages/httpcore/_async/connection_pool.py:256\u001b[0m, in \u001b[0;36mAsyncConnectionPool.handle_async_request\u001b[0;34m(self, request)\u001b[0m\n\u001b[1;32m    255\u001b[0m     \u001b[38;5;28;01mawait\u001b[39;00m \u001b[38;5;28mself\u001b[39m\u001b[38;5;241m.\u001b[39m_close_connections(closing)\n\u001b[0;32m--> 256\u001b[0m     \u001b[38;5;28;01mraise\u001b[39;00m exc \u001b[38;5;28;01mfrom\u001b[39;00m \u001b[38;5;28;01mNone\u001b[39;00m\n\u001b[1;32m    258\u001b[0m \u001b[38;5;66;03m# Return the response. Note that in this case we still have to manage\u001b[39;00m\n\u001b[1;32m    259\u001b[0m \u001b[38;5;66;03m# the point at which the response is closed.\u001b[39;00m\n",
      "File \u001b[0;32m~/.venv/lib/python3.10/site-packages/httpcore/_async/connection_pool.py:236\u001b[0m, in \u001b[0;36mAsyncConnectionPool.handle_async_request\u001b[0;34m(self, request)\u001b[0m\n\u001b[1;32m    234\u001b[0m \u001b[38;5;28;01mtry\u001b[39;00m:\n\u001b[1;32m    235\u001b[0m     \u001b[38;5;66;03m# Send the request on the assigned connection.\u001b[39;00m\n\u001b[0;32m--> 236\u001b[0m     response \u001b[38;5;241m=\u001b[39m \u001b[38;5;28;01mawait\u001b[39;00m connection\u001b[38;5;241m.\u001b[39mhandle_async_request(\n\u001b[1;32m    237\u001b[0m         pool_request\u001b[38;5;241m.\u001b[39mrequest\n\u001b[1;32m    238\u001b[0m     )\n\u001b[1;32m    239\u001b[0m \u001b[38;5;28;01mexcept\u001b[39;00m ConnectionNotAvailable:\n\u001b[1;32m    240\u001b[0m     \u001b[38;5;66;03m# In some cases a connection may initially be available to\u001b[39;00m\n\u001b[1;32m    241\u001b[0m     \u001b[38;5;66;03m# handle a request, but then become unavailable.\u001b[39;00m\n\u001b[1;32m    242\u001b[0m     \u001b[38;5;66;03m#\u001b[39;00m\n\u001b[1;32m    243\u001b[0m     \u001b[38;5;66;03m# In this case we clear the connection and try again.\u001b[39;00m\n",
      "File \u001b[0;32m~/.venv/lib/python3.10/site-packages/httpcore/_async/connection.py:101\u001b[0m, in \u001b[0;36mAsyncHTTPConnection.handle_async_request\u001b[0;34m(self, request)\u001b[0m\n\u001b[1;32m    100\u001b[0m     \u001b[38;5;28mself\u001b[39m\u001b[38;5;241m.\u001b[39m_connect_failed \u001b[38;5;241m=\u001b[39m \u001b[38;5;28;01mTrue\u001b[39;00m\n\u001b[0;32m--> 101\u001b[0m     \u001b[38;5;28;01mraise\u001b[39;00m exc\n\u001b[1;32m    103\u001b[0m \u001b[38;5;28;01mreturn\u001b[39;00m \u001b[38;5;28;01mawait\u001b[39;00m \u001b[38;5;28mself\u001b[39m\u001b[38;5;241m.\u001b[39m_connection\u001b[38;5;241m.\u001b[39mhandle_async_request(request)\n",
      "File \u001b[0;32m~/.venv/lib/python3.10/site-packages/httpcore/_async/connection.py:78\u001b[0m, in \u001b[0;36mAsyncHTTPConnection.handle_async_request\u001b[0;34m(self, request)\u001b[0m\n\u001b[1;32m     77\u001b[0m \u001b[38;5;28;01mif\u001b[39;00m \u001b[38;5;28mself\u001b[39m\u001b[38;5;241m.\u001b[39m_connection \u001b[38;5;129;01mis\u001b[39;00m \u001b[38;5;28;01mNone\u001b[39;00m:\n\u001b[0;32m---> 78\u001b[0m     stream \u001b[38;5;241m=\u001b[39m \u001b[38;5;28;01mawait\u001b[39;00m \u001b[38;5;28mself\u001b[39m\u001b[38;5;241m.\u001b[39m_connect(request)\n\u001b[1;32m     80\u001b[0m     ssl_object \u001b[38;5;241m=\u001b[39m stream\u001b[38;5;241m.\u001b[39mget_extra_info(\u001b[38;5;124m\"\u001b[39m\u001b[38;5;124mssl_object\u001b[39m\u001b[38;5;124m\"\u001b[39m)\n",
      "File \u001b[0;32m~/.venv/lib/python3.10/site-packages/httpcore/_async/connection.py:124\u001b[0m, in \u001b[0;36mAsyncHTTPConnection._connect\u001b[0;34m(self, request)\u001b[0m\n\u001b[1;32m    123\u001b[0m \u001b[38;5;28;01masync\u001b[39;00m \u001b[38;5;28;01mwith\u001b[39;00m Trace(\u001b[38;5;124m\"\u001b[39m\u001b[38;5;124mconnect_tcp\u001b[39m\u001b[38;5;124m\"\u001b[39m, logger, request, kwargs) \u001b[38;5;28;01mas\u001b[39;00m trace:\n\u001b[0;32m--> 124\u001b[0m     stream \u001b[38;5;241m=\u001b[39m \u001b[38;5;28;01mawait\u001b[39;00m \u001b[38;5;28mself\u001b[39m\u001b[38;5;241m.\u001b[39m_network_backend\u001b[38;5;241m.\u001b[39mconnect_tcp(\u001b[38;5;241m*\u001b[39m\u001b[38;5;241m*\u001b[39mkwargs)\n\u001b[1;32m    125\u001b[0m     trace\u001b[38;5;241m.\u001b[39mreturn_value \u001b[38;5;241m=\u001b[39m stream\n",
      "File \u001b[0;32m~/.venv/lib/python3.10/site-packages/httpcore/_backends/auto.py:31\u001b[0m, in \u001b[0;36mAutoBackend.connect_tcp\u001b[0;34m(self, host, port, timeout, local_address, socket_options)\u001b[0m\n\u001b[1;32m     30\u001b[0m \u001b[38;5;28;01mawait\u001b[39;00m \u001b[38;5;28mself\u001b[39m\u001b[38;5;241m.\u001b[39m_init_backend()\n\u001b[0;32m---> 31\u001b[0m \u001b[38;5;28;01mreturn\u001b[39;00m \u001b[38;5;28;01mawait\u001b[39;00m \u001b[38;5;28mself\u001b[39m\u001b[38;5;241m.\u001b[39m_backend\u001b[38;5;241m.\u001b[39mconnect_tcp(\n\u001b[1;32m     32\u001b[0m     host,\n\u001b[1;32m     33\u001b[0m     port,\n\u001b[1;32m     34\u001b[0m     timeout\u001b[38;5;241m=\u001b[39mtimeout,\n\u001b[1;32m     35\u001b[0m     local_address\u001b[38;5;241m=\u001b[39mlocal_address,\n\u001b[1;32m     36\u001b[0m     socket_options\u001b[38;5;241m=\u001b[39msocket_options,\n\u001b[1;32m     37\u001b[0m )\n",
      "File \u001b[0;32m~/.venv/lib/python3.10/site-packages/httpcore/_backends/anyio.py:113\u001b[0m, in \u001b[0;36mAnyIOBackend.connect_tcp\u001b[0;34m(self, host, port, timeout, local_address, socket_options)\u001b[0m\n\u001b[1;32m    108\u001b[0m exc_map \u001b[38;5;241m=\u001b[39m {\n\u001b[1;32m    109\u001b[0m     \u001b[38;5;167;01mTimeoutError\u001b[39;00m: ConnectTimeout,\n\u001b[1;32m    110\u001b[0m     \u001b[38;5;167;01mOSError\u001b[39;00m: ConnectError,\n\u001b[1;32m    111\u001b[0m     anyio\u001b[38;5;241m.\u001b[39mBrokenResourceError: ConnectError,\n\u001b[1;32m    112\u001b[0m }\n\u001b[0;32m--> 113\u001b[0m \u001b[38;5;28;01mwith\u001b[39;00m map_exceptions(exc_map):\n\u001b[1;32m    114\u001b[0m     \u001b[38;5;28;01mwith\u001b[39;00m anyio\u001b[38;5;241m.\u001b[39mfail_after(timeout):\n",
      "File \u001b[0;32m/usr/local/lib/python3.10/contextlib.py:153\u001b[0m, in \u001b[0;36m_GeneratorContextManager.__exit__\u001b[0;34m(self, typ, value, traceback)\u001b[0m\n\u001b[1;32m    152\u001b[0m \u001b[38;5;28;01mtry\u001b[39;00m:\n\u001b[0;32m--> 153\u001b[0m     \u001b[38;5;28;43mself\u001b[39;49m\u001b[38;5;241;43m.\u001b[39;49m\u001b[43mgen\u001b[49m\u001b[38;5;241;43m.\u001b[39;49m\u001b[43mthrow\u001b[49m\u001b[43m(\u001b[49m\u001b[43mtyp\u001b[49m\u001b[43m,\u001b[49m\u001b[43m \u001b[49m\u001b[43mvalue\u001b[49m\u001b[43m,\u001b[49m\u001b[43m \u001b[49m\u001b[43mtraceback\u001b[49m\u001b[43m)\u001b[49m\n\u001b[1;32m    154\u001b[0m \u001b[38;5;28;01mexcept\u001b[39;00m \u001b[38;5;167;01mStopIteration\u001b[39;00m \u001b[38;5;28;01mas\u001b[39;00m exc:\n\u001b[1;32m    155\u001b[0m     \u001b[38;5;66;03m# Suppress StopIteration *unless* it's the same exception that\u001b[39;00m\n\u001b[1;32m    156\u001b[0m     \u001b[38;5;66;03m# was passed to throw().  This prevents a StopIteration\u001b[39;00m\n\u001b[1;32m    157\u001b[0m     \u001b[38;5;66;03m# raised inside the \"with\" statement from being suppressed.\u001b[39;00m\n",
      "File \u001b[0;32m~/.venv/lib/python3.10/site-packages/httpcore/_exceptions.py:14\u001b[0m, in \u001b[0;36mmap_exceptions\u001b[0;34m(map)\u001b[0m\n\u001b[1;32m     13\u001b[0m     \u001b[38;5;28;01mif\u001b[39;00m \u001b[38;5;28misinstance\u001b[39m(exc, from_exc):\n\u001b[0;32m---> 14\u001b[0m         \u001b[38;5;28;01mraise\u001b[39;00m to_exc(exc) \u001b[38;5;28;01mfrom\u001b[39;00m \u001b[38;5;21;01mexc\u001b[39;00m\n\u001b[1;32m     15\u001b[0m \u001b[38;5;28;01mraise\u001b[39;00m\n",
      "\u001b[0;31mConnectError\u001b[0m: [Errno -2] Name or service not known",
      "\nThe above exception was the direct cause of the following exception:\n",
      "\u001b[0;31mConnectError\u001b[0m                              Traceback (most recent call last)",
      "File \u001b[0;32m~/.venv/lib/python3.10/site-packages/gai/lib/common/http_utils.py:188\u001b[0m, in \u001b[0;36mhttp_post_async\u001b[0;34m(url, data, files, timeout)\u001b[0m\n\u001b[1;32m    187\u001b[0m         files[\u001b[38;5;124m\"\u001b[39m\u001b[38;5;124mstream\u001b[39m\u001b[38;5;124m\"\u001b[39m] \u001b[38;5;241m=\u001b[39m (\u001b[38;5;28;01mNone\u001b[39;00m, data[\u001b[38;5;124m\"\u001b[39m\u001b[38;5;124mstream\u001b[39m\u001b[38;5;124m\"\u001b[39m])\n\u001b[0;32m--> 188\u001b[0m     response \u001b[38;5;241m=\u001b[39m \u001b[38;5;28;01mawait\u001b[39;00m client\u001b[38;5;241m.\u001b[39mpost(url, files\u001b[38;5;241m=\u001b[39mfiles, headers\u001b[38;5;241m=\u001b[39mheaders )\n\u001b[1;32m    189\u001b[0m \u001b[38;5;28;01melse\u001b[39;00m:\n",
      "File \u001b[0;32m~/.venv/lib/python3.10/site-packages/httpx/_client.py:1905\u001b[0m, in \u001b[0;36mAsyncClient.post\u001b[0;34m(self, url, content, data, files, json, params, headers, cookies, auth, follow_redirects, timeout, extensions)\u001b[0m\n\u001b[1;32m   1900\u001b[0m \u001b[38;5;250m\u001b[39m\u001b[38;5;124;03m\"\"\"\u001b[39;00m\n\u001b[1;32m   1901\u001b[0m \u001b[38;5;124;03mSend a `POST` request.\u001b[39;00m\n\u001b[1;32m   1902\u001b[0m \n\u001b[1;32m   1903\u001b[0m \u001b[38;5;124;03m**Parameters**: See `httpx.request`.\u001b[39;00m\n\u001b[1;32m   1904\u001b[0m \u001b[38;5;124;03m\"\"\"\u001b[39;00m\n\u001b[0;32m-> 1905\u001b[0m \u001b[38;5;28;01mreturn\u001b[39;00m \u001b[38;5;28;01mawait\u001b[39;00m \u001b[38;5;28mself\u001b[39m\u001b[38;5;241m.\u001b[39mrequest(\n\u001b[1;32m   1906\u001b[0m     \u001b[38;5;124m\"\u001b[39m\u001b[38;5;124mPOST\u001b[39m\u001b[38;5;124m\"\u001b[39m,\n\u001b[1;32m   1907\u001b[0m     url,\n\u001b[1;32m   1908\u001b[0m     content\u001b[38;5;241m=\u001b[39mcontent,\n\u001b[1;32m   1909\u001b[0m     data\u001b[38;5;241m=\u001b[39mdata,\n\u001b[1;32m   1910\u001b[0m     files\u001b[38;5;241m=\u001b[39mfiles,\n\u001b[1;32m   1911\u001b[0m     json\u001b[38;5;241m=\u001b[39mjson,\n\u001b[1;32m   1912\u001b[0m     params\u001b[38;5;241m=\u001b[39mparams,\n\u001b[1;32m   1913\u001b[0m     headers\u001b[38;5;241m=\u001b[39mheaders,\n\u001b[1;32m   1914\u001b[0m     cookies\u001b[38;5;241m=\u001b[39mcookies,\n\u001b[1;32m   1915\u001b[0m     auth\u001b[38;5;241m=\u001b[39mauth,\n\u001b[1;32m   1916\u001b[0m     follow_redirects\u001b[38;5;241m=\u001b[39mfollow_redirects,\n\u001b[1;32m   1917\u001b[0m     timeout\u001b[38;5;241m=\u001b[39mtimeout,\n\u001b[1;32m   1918\u001b[0m     extensions\u001b[38;5;241m=\u001b[39mextensions,\n\u001b[1;32m   1919\u001b[0m )\n",
      "File \u001b[0;32m~/.venv/lib/python3.10/site-packages/httpx/_client.py:1585\u001b[0m, in \u001b[0;36mAsyncClient.request\u001b[0;34m(self, method, url, content, data, files, json, params, headers, cookies, auth, follow_redirects, timeout, extensions)\u001b[0m\n\u001b[1;32m   1572\u001b[0m request \u001b[38;5;241m=\u001b[39m \u001b[38;5;28mself\u001b[39m\u001b[38;5;241m.\u001b[39mbuild_request(\n\u001b[1;32m   1573\u001b[0m     method\u001b[38;5;241m=\u001b[39mmethod,\n\u001b[1;32m   1574\u001b[0m     url\u001b[38;5;241m=\u001b[39murl,\n\u001b[0;32m   (...)\u001b[0m\n\u001b[1;32m   1583\u001b[0m     extensions\u001b[38;5;241m=\u001b[39mextensions,\n\u001b[1;32m   1584\u001b[0m )\n\u001b[0;32m-> 1585\u001b[0m \u001b[38;5;28;01mreturn\u001b[39;00m \u001b[38;5;28;01mawait\u001b[39;00m \u001b[38;5;28mself\u001b[39m\u001b[38;5;241m.\u001b[39msend(request, auth\u001b[38;5;241m=\u001b[39mauth, follow_redirects\u001b[38;5;241m=\u001b[39mfollow_redirects)\n",
      "File \u001b[0;32m~/.venv/lib/python3.10/site-packages/httpx/_client.py:1674\u001b[0m, in \u001b[0;36mAsyncClient.send\u001b[0;34m(self, request, stream, auth, follow_redirects)\u001b[0m\n\u001b[1;32m   1672\u001b[0m auth \u001b[38;5;241m=\u001b[39m \u001b[38;5;28mself\u001b[39m\u001b[38;5;241m.\u001b[39m_build_request_auth(request, auth)\n\u001b[0;32m-> 1674\u001b[0m response \u001b[38;5;241m=\u001b[39m \u001b[38;5;28;01mawait\u001b[39;00m \u001b[38;5;28mself\u001b[39m\u001b[38;5;241m.\u001b[39m_send_handling_auth(\n\u001b[1;32m   1675\u001b[0m     request,\n\u001b[1;32m   1676\u001b[0m     auth\u001b[38;5;241m=\u001b[39mauth,\n\u001b[1;32m   1677\u001b[0m     follow_redirects\u001b[38;5;241m=\u001b[39mfollow_redirects,\n\u001b[1;32m   1678\u001b[0m     history\u001b[38;5;241m=\u001b[39m[],\n\u001b[1;32m   1679\u001b[0m )\n\u001b[1;32m   1680\u001b[0m \u001b[38;5;28;01mtry\u001b[39;00m:\n",
      "File \u001b[0;32m~/.venv/lib/python3.10/site-packages/httpx/_client.py:1702\u001b[0m, in \u001b[0;36mAsyncClient._send_handling_auth\u001b[0;34m(self, request, auth, follow_redirects, history)\u001b[0m\n\u001b[1;32m   1701\u001b[0m \u001b[38;5;28;01mwhile\u001b[39;00m \u001b[38;5;28;01mTrue\u001b[39;00m:\n\u001b[0;32m-> 1702\u001b[0m     response \u001b[38;5;241m=\u001b[39m \u001b[38;5;28;01mawait\u001b[39;00m \u001b[38;5;28mself\u001b[39m\u001b[38;5;241m.\u001b[39m_send_handling_redirects(\n\u001b[1;32m   1703\u001b[0m         request,\n\u001b[1;32m   1704\u001b[0m         follow_redirects\u001b[38;5;241m=\u001b[39mfollow_redirects,\n\u001b[1;32m   1705\u001b[0m         history\u001b[38;5;241m=\u001b[39mhistory,\n\u001b[1;32m   1706\u001b[0m     )\n\u001b[1;32m   1707\u001b[0m     \u001b[38;5;28;01mtry\u001b[39;00m:\n",
      "File \u001b[0;32m~/.venv/lib/python3.10/site-packages/httpx/_client.py:1739\u001b[0m, in \u001b[0;36mAsyncClient._send_handling_redirects\u001b[0;34m(self, request, follow_redirects, history)\u001b[0m\n\u001b[1;32m   1737\u001b[0m     \u001b[38;5;28;01mawait\u001b[39;00m hook(request)\n\u001b[0;32m-> 1739\u001b[0m response \u001b[38;5;241m=\u001b[39m \u001b[38;5;28;01mawait\u001b[39;00m \u001b[38;5;28mself\u001b[39m\u001b[38;5;241m.\u001b[39m_send_single_request(request)\n\u001b[1;32m   1740\u001b[0m \u001b[38;5;28;01mtry\u001b[39;00m:\n",
      "File \u001b[0;32m~/.venv/lib/python3.10/site-packages/httpx/_client.py:1776\u001b[0m, in \u001b[0;36mAsyncClient._send_single_request\u001b[0;34m(self, request)\u001b[0m\n\u001b[1;32m   1775\u001b[0m \u001b[38;5;28;01mwith\u001b[39;00m request_context(request\u001b[38;5;241m=\u001b[39mrequest):\n\u001b[0;32m-> 1776\u001b[0m     response \u001b[38;5;241m=\u001b[39m \u001b[38;5;28;01mawait\u001b[39;00m transport\u001b[38;5;241m.\u001b[39mhandle_async_request(request)\n\u001b[1;32m   1778\u001b[0m \u001b[38;5;28;01massert\u001b[39;00m \u001b[38;5;28misinstance\u001b[39m(response\u001b[38;5;241m.\u001b[39mstream, AsyncByteStream)\n",
      "File \u001b[0;32m~/.venv/lib/python3.10/site-packages/httpx/_transports/default.py:376\u001b[0m, in \u001b[0;36mAsyncHTTPTransport.handle_async_request\u001b[0;34m(self, request)\u001b[0m\n\u001b[1;32m    364\u001b[0m req \u001b[38;5;241m=\u001b[39m httpcore\u001b[38;5;241m.\u001b[39mRequest(\n\u001b[1;32m    365\u001b[0m     method\u001b[38;5;241m=\u001b[39mrequest\u001b[38;5;241m.\u001b[39mmethod,\n\u001b[1;32m    366\u001b[0m     url\u001b[38;5;241m=\u001b[39mhttpcore\u001b[38;5;241m.\u001b[39mURL(\n\u001b[0;32m   (...)\u001b[0m\n\u001b[1;32m    374\u001b[0m     extensions\u001b[38;5;241m=\u001b[39mrequest\u001b[38;5;241m.\u001b[39mextensions,\n\u001b[1;32m    375\u001b[0m )\n\u001b[0;32m--> 376\u001b[0m \u001b[38;5;28;01mwith\u001b[39;00m map_httpcore_exceptions():\n\u001b[1;32m    377\u001b[0m     resp \u001b[38;5;241m=\u001b[39m \u001b[38;5;28;01mawait\u001b[39;00m \u001b[38;5;28mself\u001b[39m\u001b[38;5;241m.\u001b[39m_pool\u001b[38;5;241m.\u001b[39mhandle_async_request(req)\n",
      "File \u001b[0;32m/usr/local/lib/python3.10/contextlib.py:153\u001b[0m, in \u001b[0;36m_GeneratorContextManager.__exit__\u001b[0;34m(self, typ, value, traceback)\u001b[0m\n\u001b[1;32m    152\u001b[0m \u001b[38;5;28;01mtry\u001b[39;00m:\n\u001b[0;32m--> 153\u001b[0m     \u001b[38;5;28;43mself\u001b[39;49m\u001b[38;5;241;43m.\u001b[39;49m\u001b[43mgen\u001b[49m\u001b[38;5;241;43m.\u001b[39;49m\u001b[43mthrow\u001b[49m\u001b[43m(\u001b[49m\u001b[43mtyp\u001b[49m\u001b[43m,\u001b[49m\u001b[43m \u001b[49m\u001b[43mvalue\u001b[49m\u001b[43m,\u001b[49m\u001b[43m \u001b[49m\u001b[43mtraceback\u001b[49m\u001b[43m)\u001b[49m\n\u001b[1;32m    154\u001b[0m \u001b[38;5;28;01mexcept\u001b[39;00m \u001b[38;5;167;01mStopIteration\u001b[39;00m \u001b[38;5;28;01mas\u001b[39;00m exc:\n\u001b[1;32m    155\u001b[0m     \u001b[38;5;66;03m# Suppress StopIteration *unless* it's the same exception that\u001b[39;00m\n\u001b[1;32m    156\u001b[0m     \u001b[38;5;66;03m# was passed to throw().  This prevents a StopIteration\u001b[39;00m\n\u001b[1;32m    157\u001b[0m     \u001b[38;5;66;03m# raised inside the \"with\" statement from being suppressed.\u001b[39;00m\n",
      "File \u001b[0;32m~/.venv/lib/python3.10/site-packages/httpx/_transports/default.py:89\u001b[0m, in \u001b[0;36mmap_httpcore_exceptions\u001b[0;34m()\u001b[0m\n\u001b[1;32m     88\u001b[0m message \u001b[38;5;241m=\u001b[39m \u001b[38;5;28mstr\u001b[39m(exc)\n\u001b[0;32m---> 89\u001b[0m \u001b[38;5;28;01mraise\u001b[39;00m mapped_exc(message) \u001b[38;5;28;01mfrom\u001b[39;00m \u001b[38;5;21;01mexc\u001b[39;00m\n",
      "\u001b[0;31mConnectError\u001b[0m: [Errno -2] Name or service not known",
      "\nDuring handling of the above exception, another exception occurred:\n",
      "\u001b[0;31mException\u001b[0m                                 Traceback (most recent call last)",
      "Cell \u001b[0;32mIn[2], line 12\u001b[0m\n\u001b[1;32m      6\u001b[0m rag \u001b[38;5;241m=\u001b[39m RagClientAsync({\n\u001b[1;32m      7\u001b[0m     \u001b[38;5;124m\"\u001b[39m\u001b[38;5;124mtype\u001b[39m\u001b[38;5;124m\"\u001b[39m: \u001b[38;5;124m\"\u001b[39m\u001b[38;5;124mrag\u001b[39m\u001b[38;5;124m\"\u001b[39m,\n\u001b[1;32m      8\u001b[0m     \u001b[38;5;124m\"\u001b[39m\u001b[38;5;124murl\u001b[39m\u001b[38;5;124m\"\u001b[39m: \u001b[38;5;124m\"\u001b[39m\u001b[38;5;124mhttp://gai-rag-svr:12036/gen/v1/rag\u001b[39m\u001b[38;5;124m\"\u001b[39m,\n\u001b[1;32m      9\u001b[0m     \u001b[38;5;124m\"\u001b[39m\u001b[38;5;124mws_url\u001b[39m\u001b[38;5;124m\"\u001b[39m: \u001b[38;5;124m\"\u001b[39m\u001b[38;5;124mws://gai-rag-svr:12036/gen/v1/rag/index-file/ws\u001b[39m\u001b[38;5;124m\"\u001b[39m\n\u001b[1;32m     10\u001b[0m })\n\u001b[1;32m     11\u001b[0m cwd \u001b[38;5;241m=\u001b[39m os\u001b[38;5;241m.\u001b[39mgetcwd()\n\u001b[0;32m---> 12\u001b[0m \u001b[38;5;28;01mawait\u001b[39;00m rag\u001b[38;5;241m.\u001b[39mindex_document_async(collection_name\u001b[38;5;241m=\u001b[39m\u001b[38;5;124m\"\u001b[39m\u001b[38;5;124mdemo\u001b[39m\u001b[38;5;124m\"\u001b[39m, file_path\u001b[38;5;241m=\u001b[39m\u001b[38;5;124mf\u001b[39m\u001b[38;5;124m\"\u001b[39m\u001b[38;5;132;01m{\u001b[39;00mcwd\u001b[38;5;132;01m}\u001b[39;00m\u001b[38;5;124m/where_to_find_the_best_chicken_rice_in_singapore.txt\u001b[39m\u001b[38;5;124m\"\u001b[39m)\n",
      "File \u001b[0;32m~/.venv/lib/python3.10/site-packages/gai/rag/client/rag_client_async.py:200\u001b[0m, in \u001b[0;36mRagClientAsync.index_document_async\u001b[0;34m(self, collection_name, file_path, file_type, title, source, authors, publisher, published_date, comments, keywords, async_callback)\u001b[0m\n\u001b[1;32m    198\u001b[0m \u001b[38;5;28;01mexcept\u001b[39;00m \u001b[38;5;167;01mException\u001b[39;00m \u001b[38;5;28;01mas\u001b[39;00m e:\n\u001b[1;32m    199\u001b[0m     logger\u001b[38;5;241m.\u001b[39merror(\u001b[38;5;124mf\u001b[39m\u001b[38;5;124m\"\u001b[39m\u001b[38;5;124mindex_document_async: Error indexing file. error=\u001b[39m\u001b[38;5;132;01m{\u001b[39;00me\u001b[38;5;132;01m}\u001b[39;00m\u001b[38;5;124m\"\u001b[39m)\n\u001b[0;32m--> 200\u001b[0m     \u001b[38;5;28;01mraise\u001b[39;00m e\n\u001b[1;32m    201\u001b[0m \u001b[38;5;28;01mfinally\u001b[39;00m:\n\u001b[1;32m    202\u001b[0m     \u001b[38;5;66;03m# Cancel listener task if it was started\u001b[39;00m\n\u001b[1;32m    203\u001b[0m     \u001b[38;5;28;01mif\u001b[39;00m listen_task:\n",
      "File \u001b[0;32m~/.venv/lib/python3.10/site-packages/gai/rag/client/rag_client_async.py:193\u001b[0m, in \u001b[0;36mRagClientAsync.index_document_async\u001b[0;34m(self, collection_name, file_path, file_type, title, source, authors, publisher, published_date, comments, keywords, async_callback)\u001b[0m\n\u001b[1;32m    187\u001b[0m \u001b[38;5;28;01mwith\u001b[39;00m \u001b[38;5;28mopen\u001b[39m(create_doc_header_req\u001b[38;5;241m.\u001b[39mFilePath, mode) \u001b[38;5;28;01mas\u001b[39;00m f:\n\u001b[1;32m    188\u001b[0m     files \u001b[38;5;241m=\u001b[39m {\n\u001b[1;32m    189\u001b[0m         \u001b[38;5;124m\"\u001b[39m\u001b[38;5;124mfile\u001b[39m\u001b[38;5;124m\"\u001b[39m: (os\u001b[38;5;241m.\u001b[39mpath\u001b[38;5;241m.\u001b[39mbasename(create_doc_header_req\u001b[38;5;241m.\u001b[39mFilePath), f, \u001b[38;5;124m\"\u001b[39m\u001b[38;5;124mapplication/pdf\u001b[39m\u001b[38;5;124m\"\u001b[39m),\n\u001b[1;32m    190\u001b[0m         \u001b[38;5;124m\"\u001b[39m\u001b[38;5;124mreq\u001b[39m\u001b[38;5;124m\"\u001b[39m: (\u001b[38;5;28;01mNone\u001b[39;00m, create_doc_header_req\u001b[38;5;241m.\u001b[39mjson(), \u001b[38;5;124m\"\u001b[39m\u001b[38;5;124mapplication/json\u001b[39m\u001b[38;5;124m\"\u001b[39m),\n\u001b[1;32m    191\u001b[0m     }\n\u001b[0;32m--> 193\u001b[0m     response \u001b[38;5;241m=\u001b[39m \u001b[38;5;28;01mawait\u001b[39;00m http_post_async(url\u001b[38;5;241m=\u001b[39murl, files\u001b[38;5;241m=\u001b[39mfiles)\n\u001b[1;32m    194\u001b[0m     \u001b[38;5;28;01mif\u001b[39;00m \u001b[38;5;129;01mnot\u001b[39;00m response:\n\u001b[1;32m    195\u001b[0m         \u001b[38;5;28;01mraise\u001b[39;00m \u001b[38;5;167;01mException\u001b[39;00m(\u001b[38;5;124m\"\u001b[39m\u001b[38;5;124mNo response received\u001b[39m\u001b[38;5;124m\"\u001b[39m)\n",
      "File \u001b[0;32m~/.venv/lib/python3.10/site-packages/gai/lib/common/http_utils.py:201\u001b[0m, in \u001b[0;36mhttp_post_async\u001b[0;34m(url, data, files, timeout)\u001b[0m\n\u001b[1;32m    198\u001b[0m         \u001b[38;5;28;01mawait\u001b[39;00m _handle_failed_response_async(response)\n\u001b[1;32m    200\u001b[0m \u001b[38;5;28;01mexcept\u001b[39;00m httpx\u001b[38;5;241m.\u001b[39mConnectError \u001b[38;5;28;01mas\u001b[39;00m e:\n\u001b[0;32m--> 201\u001b[0m     \u001b[38;5;28;01mraise\u001b[39;00m \u001b[38;5;167;01mException\u001b[39;00m(\u001b[38;5;124m\"\u001b[39m\u001b[38;5;124mConnection Error. Is the service Running?\u001b[39m\u001b[38;5;124m\"\u001b[39m)\n\u001b[1;32m    202\u001b[0m \u001b[38;5;28;01mexcept\u001b[39;00m \u001b[38;5;167;01mException\u001b[39;00m \u001b[38;5;28;01mas\u001b[39;00m e:\n\u001b[1;32m    203\u001b[0m     logger\u001b[38;5;241m.\u001b[39merror(\u001b[38;5;124mf\u001b[39m\u001b[38;5;124m\"\u001b[39m\u001b[38;5;124mhttp_utils.http_post_async: \u001b[39m\u001b[38;5;132;01m{\u001b[39;00m\u001b[38;5;28mstr\u001b[39m(e)\u001b[38;5;132;01m}\u001b[39;00m\u001b[38;5;124m\"\u001b[39m)\n",
      "\u001b[0;31mException\u001b[0m: Connection Error. Is the service Running?"
     ]
    }
   ],
   "source": [
    "# Index test doc\n",
    "import os\n",
    "os.environ[\"LOG_LEVEL\"]=\"DEBUG\"\n",
    "\n",
    "from gai.rag.client.rag_client_async import RagClientAsync\n",
    "rag = RagClientAsync({\n",
    "    \"type\": \"rag\",\n",
    "    \"url\": \"http://gai-rag-svr:12036/gen/v1/rag\",\n",
    "    \"ws_url\": \"ws://gai-rag-svr:12036/gen/v1/rag/index-file/ws\"\n",
    "})\n",
    "cwd = os.getcwd()\n",
    "await rag.index_document_async(collection_name=\"demo\", file_path=f\"{cwd}/where_to_find_the_best_chicken_rice_in_singapore.txt\")"
   ]
  },
  {
   "cell_type": "markdown",
   "metadata": {},
   "source": [
    "## State 0. Init\n",
    "\n",
    "The starting point is to create the string representation of the following mermaid diagram as follows:\n"
   ]
  },
  {
   "cell_type": "code",
   "execution_count": 1,
   "metadata": {},
   "outputs": [],
   "source": [
    "state_diagram = \"\"\"stateDiagram-v2\n",
    "    INIT --> TOOL_CHOICE: next / on_TOOL_CHOICE\n",
    "\n",
    "    TOOL_CHOICE --> CRAFT_TEXT_PROMPT: next / on_CRAFT_PROMPT / use_text\n",
    "        CRAFT_TEXT_PROMPT --> GENERATE: next / on_GENERATE\n",
    "        GENERATE --> PROCESS: next / on_PROCESS / use_text\n",
    "        PROCESS --> END : next\n",
    "\n",
    "    TOOL_CHOICE --> CRAFT_TOOL_PROMPT: next / on_CRAFT_PROMPT / use_google\n",
    "        TOOL_CALL --> GOOGLE: next / on_GOOGLE / use_google\n",
    "        GOOGLE --> GENERATE: next / on_GENERATE\n",
    "\n",
    "    TOOL_CHOICE --> CRAFT_TOOL_PROMPT: next / on_CRAFT_PROMPT / use_retrieval\n",
    "        TOOL_CALL --> RETRIEVAL: next / on_RETRIEVAL / use_retrieval\n",
    "        RETRIEVAL --> GENERATE: next / on_GENERATE\n",
    "\n",
    "    CRAFT_TOOL_PROMPT --> TOOL_CALL: next / on_TOOL_CALL\n",
    "    \"\"\""
   ]
  },
  {
   "cell_type": "markdown",
   "metadata": {},
   "source": [
    "```mermaid\n",
    "stateDiagram-v2\n",
    "    INIT --> TOOL_CHOICE: next / on_TOOL_CHOICE\n",
    "\n",
    "    TOOL_CHOICE --> CRAFT_TEXT_PROMPT: next / on_CRAFT_PROMPT / use_text\n",
    "        CRAFT_TEXT_PROMPT --> GENERATE: next / on_GENERATE\n",
    "        GENERATE --> PROCESS: next / on_PROCESS / use_text\n",
    "        PROCESS --> END : next\n",
    "\n",
    "    TOOL_CHOICE --> CRAFT_TOOL_PROMPT: next / on_CRAFT_PROMPT / use_google\n",
    "        TOOL_CALL --> GOOGLE: next / on_GOOGLE / use_google\n",
    "        GOOGLE --> GENERATE: next / on_GENERATE\n",
    "\n",
    "    TOOL_CHOICE --> CRAFT_TOOL_PROMPT: next / on_CRAFT_PROMPT / use_retrieval\n",
    "        TOOL_CALL --> RETRIEVAL: next / on_RETRIEVAL / use_retrieval\n",
    "        RETRIEVAL --> GENERATE: next / on_GENERATE\n",
    "\n",
    "    CRAFT_TOOL_PROMPT --> TOOL_CALL: next / on_TOOL_CALL\n",
    "```"
   ]
  },
  {
   "cell_type": "code",
   "execution_count": 2,
   "metadata": {},
   "outputs": [
    {
     "name": "stdout",
     "output_type": "stream",
     "text": [
      "Machine validation successful.\n"
     ]
    }
   ],
   "source": [
    "# ARRANGE\n",
    "import os\n",
    "os.environ[\"LOG_LEVEL\"]=\"WARNING\"\n",
    "from gai.lib.common.notebook import highlight,print_colored\n",
    "import sys\n",
    "sys.path.insert(0, os.path.abspath(os.path.join(os.path.dirname(__name__), '..')))\n",
    "from TestAgentHelper import TestAgentHelper\n",
    "agent = TestAgentHelper.CreateAgent(\"Which famous chicken rice in Singapore also sells char siew?\",state_diagram=state_diagram)\n"
   ]
  },
  {
   "cell_type": "markdown",
   "metadata": {},
   "source": [
    "## State 1. TOOL_CHOICE\n",
    "\n",
    "The first state is managed by `use_TOOL_CHOICE_handler` state handler function.\n",
    "The agent should decide to use \"retrieval\"."
   ]
  },
  {
   "cell_type": "code",
   "execution_count": null,
   "metadata": {},
   "outputs": [],
   "source": [
    "# ACT\n",
    "agent.next()\n",
    "\n",
    "# ASSERT\n",
    "TestAgentHelper.ShowAgent(agent)"
   ]
  },
  {
   "cell_type": "markdown",
   "metadata": {},
   "source": [
    "## State 2. CRAFT_TOOL_PROMPT\n",
    "\n",
    "CRAFT_TOOL_PROMPT is triggered because the agent recommends \"retrieval\". System message should return \"\"."
   ]
  },
  {
   "cell_type": "code",
   "execution_count": 4,
   "metadata": {},
   "outputs": [
    {
     "name": "stdout",
     "output_type": "stream",
     "text": [
      "step=2\n",
      "state=CRAFT_TOOL_PROMPT\n",
      "tool_choice=required\n",
      "tool_name='retrieval\n"
     ]
    },
    {
     "data": {
      "text/html": [
       "<div style=\"background-color: #cccccc; color: #333333; white-space: pre-wrap; padding: 10px;\">content=<i>{\n",
       "    \"system_message\": \"\"\n",
       "}</i></div>"
      ],
      "text/plain": [
       "<IPython.core.display.HTML object>"
      ]
     },
     "metadata": {},
     "output_type": "display_data"
    },
    {
     "name": "stdout",
     "output_type": "stream",
     "text": [
      "\n",
      "\n",
      "MONOLOGUE\n",
      "\n"
     ]
    },
    {
     "data": {
      "text/html": [
       "<font color=\"yellow\">System:\n",
       "\n",
       "</font>"
      ],
      "text/plain": [
       "<IPython.core.display.HTML object>"
      ]
     },
     "metadata": {},
     "output_type": "display_data"
    },
    {
     "name": "stdout",
     "output_type": "stream",
     "text": [
      "\n",
      "\n",
      "\n",
      "\n"
     ]
    },
    {
     "data": {
      "text/html": [
       "<font color=\"yellow\">User:\n",
       "\n",
       "</font>"
      ],
      "text/plain": [
       "<IPython.core.display.HTML object>"
      ]
     },
     "metadata": {},
     "output_type": "display_data"
    },
    {
     "name": "stdout",
     "output_type": "stream",
     "text": [
      "Alfred, Which famous chicken rice in Singapore also sells char siew?\n",
      "\n",
      "\n",
      "\n"
     ]
    },
    {
     "data": {
      "text/html": [
       "<font color=\"yellow\">Assistant:\n",
       "\n",
       "</font>"
      ],
      "text/plain": [
       "<IPython.core.display.HTML object>"
      ]
     },
     "metadata": {},
     "output_type": "display_data"
    },
    {
     "name": "stdout",
     "output_type": "stream",
     "text": [
      "\n",
      "\n",
      "\n",
      "\n"
     ]
    }
   ],
   "source": [
    "# ACT\n",
    "agent.next()\n",
    "\n",
    "# ASSERT\n",
    "TestAgentHelper.ShowAgent(agent)"
   ]
  },
  {
   "cell_type": "markdown",
   "metadata": {},
   "source": [
    "## State 3. TOOL_CALL\n"
   ]
  },
  {
   "cell_type": "code",
   "execution_count": 6,
   "metadata": {},
   "outputs": [
    {
     "name": "stderr",
     "output_type": "stream",
     "text": [
      "\u001b[45m\u001b[30mDEBUG   \u001b[0m \u001b[35mhttppost:url=http://localhost:12031/gen/v1/chat/completions\u001b[0m\n",
      "\u001b[45m\u001b[30mDEBUG   \u001b[0m \u001b[35mhttppost:data={'json_schema': None,\n",
      " 'max_new_tokens': 1000,\n",
      " 'max_tokens': 2000,\n",
      " 'messages': [{'content': '', 'role': 'system'},\n",
      "              {'content': 'Alfred, Which famous chicken rice in Singapore also '\n",
      "                          'sells char siew?',\n",
      "               'role': 'user'},\n",
      "              {'content': '', 'role': 'assistant'}],\n",
      " 'stop_conditions': None,\n",
      " 'stream': False,\n",
      " 'temperature': 1e-08,\n",
      " 'tool_choice': 'required',\n",
      " 'tools': ['function',\n",
      "           {'arguments': {'properties': {'search_query': {'description': 'The '\n",
      "                                                                         'most '\n",
      "                                                                         'effective '\n",
      "                                                                         'search '\n",
      "                                                                         'query '\n",
      "                                                                         'for '\n",
      "                                                                         'semantic '\n",
      "                                                                         'search '\n",
      "                                                                         'that '\n",
      "                                                                         'will '\n",
      "                                                                         'return '\n",
      "                                                                         'the '\n",
      "                                                                         'most '\n",
      "                                                                         'precise '\n",
      "                                                                         'result.',\n",
      "                                                          'type': 'string'}},\n",
      "                          'required': ['search_query'],\n",
      "                          'type': 'object'},\n",
      "            'description': '\\n'\n",
      "                           '                            The `retrieval` '\n",
      "                           'function is a powerful tool that allows the AI to '\n",
      "                           'access articles outside of its knowledge domain '\n",
      "                           'from external sources. \\n'\n",
      "                           '                            The external articles '\n",
      "                           'are stored in an archive and organised by '\n",
      "                           '<titles>:\\n'\n",
      "                           \"{ titles: [['MICHELIN Guide Singapore 2016: Where \"\n",
      "                           \"to Find the Best Chicken Rice in Singapore']] }\\n\"\n",
      "                           '                            and <keywords>:\\n'\n",
      "                           '                            { keywords: '\n",
      "                           \"[['Singapore', 'Chicken Rice', 'Food']] }\\n\"\n",
      "                           '                            **IMPORTANT**: Use '\n",
      "                           'this tool when any of the <titles> or <keywords> '\n",
      "                           \"may be relevant to user's question.\\n\"\n",
      "                           \"                            The 'search_query' \"\n",
      "                           'parameter should be crafted in a way that it '\n",
      "                           'returns the most precise result based on the '\n",
      "                           'conversation context.\\n'\n",
      "                           '                        ',\n",
      "            'name': 'retrieval'}],\n",
      " 'top_k': None,\n",
      " 'top_p': None}\u001b[0m\n"
     ]
    },
    {
     "name": "stdout",
     "output_type": "stream",
     "text": [
      "{\"type\": \"function\", \"name\": \"retrieval\", \"arguments\": \"{\\\"search_query\\\": \\\"famous chicken rice in singapore also sells char siew\\\"}\"}\n",
      "step=3\n",
      "state=TOOL_CALL\n",
      "tool_choice=required\n",
      "tool_name='retrieval\n"
     ]
    },
    {
     "data": {
      "text/html": [
       "<div style=\"background-color: #cccccc; color: #333333; white-space: pre-wrap; padding: 10px;\">content=<i>\"{\\\"type\\\": \\\"function\\\", \\\"name\\\": \\\"retrieval\\\", \\\"arguments\\\": \\\"{\\\\\\\"search_query\\\\\\\": \\\\\\\"famous chicken rice in singapore also sells char siew\\\\\\\"}\\\"}\"</i></div>"
      ],
      "text/plain": [
       "<IPython.core.display.HTML object>"
      ]
     },
     "metadata": {},
     "output_type": "display_data"
    },
    {
     "name": "stdout",
     "output_type": "stream",
     "text": [
      "\n",
      "\n",
      "MONOLOGUE\n",
      "\n"
     ]
    },
    {
     "data": {
      "text/html": [
       "<font color=\"yellow\">System:\n",
       "\n",
       "</font>"
      ],
      "text/plain": [
       "<IPython.core.display.HTML object>"
      ]
     },
     "metadata": {},
     "output_type": "display_data"
    },
    {
     "name": "stdout",
     "output_type": "stream",
     "text": [
      "\n",
      "\n",
      "\n",
      "\n"
     ]
    },
    {
     "data": {
      "text/html": [
       "<font color=\"yellow\">User:\n",
       "\n",
       "</font>"
      ],
      "text/plain": [
       "<IPython.core.display.HTML object>"
      ]
     },
     "metadata": {},
     "output_type": "display_data"
    },
    {
     "name": "stdout",
     "output_type": "stream",
     "text": [
      "Alfred, Which famous chicken rice in Singapore also sells char siew?\n",
      "\n",
      "\n",
      "\n"
     ]
    },
    {
     "data": {
      "text/html": [
       "<font color=\"yellow\">Assistant:\n",
       "\n",
       "</font>"
      ],
      "text/plain": [
       "<IPython.core.display.HTML object>"
      ]
     },
     "metadata": {},
     "output_type": "display_data"
    },
    {
     "name": "stdout",
     "output_type": "stream",
     "text": [
      "\n",
      "\n",
      "\n",
      "\n"
     ]
    }
   ],
   "source": [
    "# ACT\n",
    "agent.next()\n",
    "print(agent.content)\n",
    "\n",
    "# ASSERT\n",
    "TestAgentHelper.ShowAgent(agent)"
   ]
  },
  {
   "cell_type": "markdown",
   "metadata": {},
   "source": [
    "## State 4. RETRIEVAL\n",
    "\n"
   ]
  },
  {
   "cell_type": "code",
   "execution_count": 7,
   "metadata": {},
   "outputs": [
    {
     "name": "stderr",
     "output_type": "stream",
     "text": [
      "\u001b[45m\u001b[30mDEBUG   \u001b[0m \u001b[35mhttppost:url=http://localhost:12036/gen/v1/rag/retrieve\u001b[0m\n",
      "\u001b[45m\u001b[30mDEBUG   \u001b[0m \u001b[35mhttppost:data={'collection_name': 'demo',\n",
      " 'n_results': 4,\n",
      " 'query_texts': 'Which famous chicken rice in Singapore also sells char siew?'}\u001b[0m\n",
      "\u001b[45m\u001b[30mDEBUG   \u001b[0m \u001b[35mhttppost:files=None\u001b[0m\n"
     ]
    },
    {
     "name": "stdout",
     "output_type": "stream",
     "text": [
      "step=4\n",
      "state=RETRIEVAL\n",
      "tool_choice=none\n",
      "tool_name='text\n"
     ]
    },
    {
     "data": {
      "text/html": [
       "<div style=\"background-color: #cccccc; color: #333333; white-space: pre-wrap; padding: 10px;\">content=<i>[\n",
       "    \"well as salt-baked chicken. With the diversity presented in a single dish, Singapore's chicken rice definitely draws in curious diners to uncover more of the Lion City's chicken rice culture. Being equally fascinated with Singapore's chicken rice, the MICHELIN Guide inspectors share with us where to get the best ones in Singapore, so read on below! Boon Tong Kee (Balestier Road) 399, 401, 403 Balestier Road, 329801 Singapore $\",\n",
       "    \"15 September 2023 There are many dishes that are very much representative of Singapore, and one of the most iconic of them is, of course, chicken rice. Loosely referred to as Singapore's national dish, the ubiquitous Hainanese chicken rice requires a meticulous preparation process. To make this classic chicken rice dish, the chicken is first scalded until cooked through before it is dipped in ice-cold water to keep the meat soft and tender. Served with chicken broth, ginger sauce, black soy sauce, and chilli, the highlight is the rice that has been cooked with the chicken's oils. The end-product may look deceptively simple, but it is very delicious. Singapore's offerings also go beyond the traditional Hainanese chicken rice. There is also kampung -style chicken rice where the poultry used is leaner. Soya sauce chicken rice is also a popular choice, as well as salt-baked chicken. With the diversity presented in a single dish, Singapore's chicken rice\",\n",
       "    \"\\u00b7 Cantonese Roast Meats A household brand that's popular both in Singapore and overseas, Hawker Chan Soya Sauce Chicken Rice & Noodle 's soya sauce chicken is well-known far and wide. The chicken is cooked in the chef's secret sauce for several hours, and it yields tender and flavourful meat. First-time diners are recommended to try the signature soya sauce chicken rice to experience its charming qualities. More Details Xing Yun Hainanese Boneless Chicken Rice Yuhua Market & Hawker Centre, #01-202, Blk 347, Jurong East Avenue 1, Jurong East, 600347 Singapore $ \\u00b7\",\n",
       "    \"\\u00b7 Street Food Located in the Maxwell Food Centre, Tian Tian Hainanese Chicken Rice is a popular Hainanese chicken rice stall has been around since 1987 and is well-known overseas. There is always a long queue, so one can only imagine how enticing the chicken rice here is. The meat is tender and is drizzled with a secret sauce to enhance its umami. Don't forget to enjoy it with the fragrant rice! More Details People's Park Hainanese Chicken Rice People's Park Complex Food Centre, #01-1098, 32 New Market Road, 050032 Singapore $ \\u00b7\"\n",
       "]</i></div>"
      ],
      "text/plain": [
       "<IPython.core.display.HTML object>"
      ]
     },
     "metadata": {},
     "output_type": "display_data"
    },
    {
     "name": "stdout",
     "output_type": "stream",
     "text": [
      "\n",
      "\n",
      "MONOLOGUE\n",
      "\n"
     ]
    },
    {
     "data": {
      "text/html": [
       "<font color=\"yellow\">System:\n",
       "\n",
       "</font>"
      ],
      "text/plain": [
       "<IPython.core.display.HTML object>"
      ]
     },
     "metadata": {},
     "output_type": "display_data"
    },
    {
     "name": "stdout",
     "output_type": "stream",
     "text": [
      "👩‍🔬, use only the information provided to you by the user to answer the user''s question. \n",
      "            If the information is insufficient for 👩‍🔬 to derive an answer, just say ''I cannot find relevant information in my document store to answer the question correctly.'' \n",
      "            👩‍🔬 is to provide an in-depth analysis to the question based only on the information provided by the user and nothing more.\n",
      "            👩‍🔬 will give a real-life example to support illustrating your point and contrasting it with a counter-example. \n",
      "            👩‍🔬 will also proofread and edit the content before responding. \n",
      "            👩‍🔬 will provide your own reasoned subjective perspective, noting where your view differs from or expands on the contents.\n",
      "            Rules:\n",
      "                - Consolidate the materials provided by the user and then organise them point by point.\n",
      "                - Provide as much details as you can extract from the materials provided by the user.\n",
      "                - Begin your report by saying `According to my document store,...`\n",
      "                - Always provide your answers in point form.\n",
      "\n",
      "\n",
      "\n"
     ]
    },
    {
     "data": {
      "text/html": [
       "<font color=\"yellow\">User:\n",
       "\n",
       "</font>"
      ],
      "text/plain": [
       "<IPython.core.display.HTML object>"
      ]
     },
     "metadata": {},
     "output_type": "display_data"
    },
    {
     "name": "stdout",
     "output_type": "stream",
     "text": [
      "\n",
      "            Refer to the following context: `[\"well as salt-baked chicken. With the diversity presented in a single dish, Singapore's chicken rice definitely draws in curious diners to uncover more of the Lion City's chicken rice culture. Being equally fascinated with Singapore's chicken rice, the MICHELIN Guide inspectors share with us where to get the best ones in Singapore, so read on below! Boon Tong Kee (Balestier Road) 399, 401, 403 Balestier Road, 329801 Singapore $\", \"15 September 2023 There are many dishes that are very much representative of Singapore, and one of the most iconic of them is, of course, chicken rice. Loosely referred to as Singapore's national dish, the ubiquitous Hainanese chicken rice requires a meticulous preparation process. To make this classic chicken rice dish, the chicken is first scalded until cooked through before it is dipped in ice-cold water to keep the meat soft and tender. Served with chicken broth, ginger sauce, black soy sauce, and chilli, the highlight is the rice that has been cooked with the chicken's oils. The end-product may look deceptively simple, but it is very delicious. Singapore's offerings also go beyond the traditional Hainanese chicken rice. There is also kampung -style chicken rice where the poultry used is leaner. Soya sauce chicken rice is also a popular choice, as well as salt-baked chicken. With the diversity presented in a single dish, Singapore's chicken rice\", \"· Cantonese Roast Meats A household brand that's popular both in Singapore and overseas, Hawker Chan Soya Sauce Chicken Rice & Noodle 's soya sauce chicken is well-known far and wide. The chicken is cooked in the chef's secret sauce for several hours, and it yields tender and flavourful meat. First-time diners are recommended to try the signature soya sauce chicken rice to experience its charming qualities. More Details Xing Yun Hainanese Boneless Chicken Rice Yuhua Market & Hawker Centre, #01-202, Blk 347, Jurong East Avenue 1, Jurong East, 600347 Singapore $ ·\", \"· Street Food Located in the Maxwell Food Centre, Tian Tian Hainanese Chicken Rice is a popular Hainanese chicken rice stall has been around since 1987 and is well-known overseas. There is always a long queue, so one can only imagine how enticing the chicken rice here is. The meat is tender and is drizzled with a secret sauce to enhance its umami. Don't forget to enjoy it with the fragrant rice! More Details People's Park Hainanese Chicken Rice People's Park Complex Food Centre, #01-1098, 32 New Market Road, 050032 Singapore $ ·\"]`. \n",
      "            Based on the earlier context, answer the question Which famous chicken rice in Singapore also sells char siew?.\"\n",
      "            \n",
      "\n",
      "\n",
      "\n"
     ]
    },
    {
     "data": {
      "text/html": [
       "<font color=\"yellow\">Assistant:\n",
       "\n",
       "</font>"
      ],
      "text/plain": [
       "<IPython.core.display.HTML object>"
      ]
     },
     "metadata": {},
     "output_type": "display_data"
    },
    {
     "name": "stdout",
     "output_type": "stream",
     "text": [
      "\n",
      "\n",
      "\n",
      "\n"
     ]
    }
   ],
   "source": [
    "# ACT\n",
    "agent.next()\n",
    "\n",
    "# ASSERT\n",
    "TestAgentHelper.ShowAgent(agent)"
   ]
  },
  {
   "cell_type": "markdown",
   "metadata": {},
   "source": [
    "## State 5. GENERATE\n",
    "\n"
   ]
  },
  {
   "cell_type": "code",
   "execution_count": 8,
   "metadata": {},
   "outputs": [
    {
     "name": "stderr",
     "output_type": "stream",
     "text": [
      "\u001b[45m\u001b[30mDEBUG   \u001b[0m \u001b[35mhttppost:url=http://localhost:12031/gen/v1/chat/completions\u001b[0m\n",
      "\u001b[45m\u001b[30mDEBUG   \u001b[0m \u001b[35mhttppost:data={'json_schema': None,\n",
      " 'max_new_tokens': 1000,\n",
      " 'max_tokens': 2000,\n",
      " 'messages': [{'content': '👩\\u200d🔬, use only the information provided to you '\n",
      "                          \"by the user to answer the user''s question. If the \"\n",
      "                          'information is insufficient for 👩\\u200d🔬 to derive '\n",
      "                          \"an answer, just say ''I cannot find relevant \"\n",
      "                          'information in my document store to answer the '\n",
      "                          \"question correctly.'' 👩\\u200d🔬 is to provide an \"\n",
      "                          'in-depth analysis to the question based only on the '\n",
      "                          'information provided by the user and nothing more. '\n",
      "                          '👩\\u200d🔬 will give a real-life example to support '\n",
      "                          'illustrating your point and contrasting it with a '\n",
      "                          'counter-example. 👩\\u200d🔬 will also proofread and '\n",
      "                          'edit the content before responding. 👩\\u200d🔬 will '\n",
      "                          'provide your own reasoned subjective perspective, '\n",
      "                          'noting where your view differs from or expands on '\n",
      "                          'the contents. Rules: - Consolidate the materials '\n",
      "                          'provided by the user and then organise them point '\n",
      "                          'by point. - Provide as much details as you can '\n",
      "                          'extract from the materials provided by the user. - '\n",
      "                          'Begin your report by saying `According to my '\n",
      "                          'document store,...` - Always provide your answers '\n",
      "                          'in point form.',\n",
      "               'role': 'system'},\n",
      "              {'content': '\\n'\n",
      "                          '            Refer to the following context: `[\"well '\n",
      "                          'as salt-baked chicken. With the diversity presented '\n",
      "                          \"in a single dish, Singapore's chicken rice \"\n",
      "                          'definitely draws in curious diners to uncover more '\n",
      "                          \"of the Lion City's chicken rice culture. Being \"\n",
      "                          \"equally fascinated with Singapore's chicken rice, \"\n",
      "                          'the MICHELIN Guide inspectors share with us where '\n",
      "                          'to get the best ones in Singapore, so read on '\n",
      "                          'below! Boon Tong Kee (Balestier Road) 399, 401, 403 '\n",
      "                          'Balestier Road, 329801 Singapore $\", \"15 September '\n",
      "                          '2023 There are many dishes that are very much '\n",
      "                          'representative of Singapore, and one of the most '\n",
      "                          'iconic of them is, of course, chicken rice. Loosely '\n",
      "                          \"referred to as Singapore's national dish, the \"\n",
      "                          'ubiquitous Hainanese chicken rice requires a '\n",
      "                          'meticulous preparation process. To make this '\n",
      "                          'classic chicken rice dish, the chicken is first '\n",
      "                          'scalded until cooked through before it is dipped in '\n",
      "                          'ice-cold water to keep the meat soft and tender. '\n",
      "                          'Served with chicken broth, ginger sauce, black soy '\n",
      "                          'sauce, and chilli, the highlight is the rice that '\n",
      "                          \"has been cooked with the chicken's oils. The \"\n",
      "                          'end-product may look deceptively simple, but it is '\n",
      "                          \"very delicious. Singapore's offerings also go \"\n",
      "                          'beyond the traditional Hainanese chicken rice. '\n",
      "                          'There is also kampung -style chicken rice where the '\n",
      "                          'poultry used is leaner. Soya sauce chicken rice is '\n",
      "                          'also a popular choice, as well as salt-baked '\n",
      "                          'chicken. With the diversity presented in a single '\n",
      "                          'dish, Singapore\\'s chicken rice\", \"· Cantonese '\n",
      "                          \"Roast Meats A household brand that's popular both \"\n",
      "                          'in Singapore and overseas, Hawker Chan Soya Sauce '\n",
      "                          \"Chicken Rice & Noodle 's soya sauce chicken is \"\n",
      "                          'well-known far and wide. The chicken is cooked in '\n",
      "                          \"the chef's secret sauce for several hours, and it \"\n",
      "                          'yields tender and flavourful meat. First-time '\n",
      "                          'diners are recommended to try the signature soya '\n",
      "                          'sauce chicken rice to experience its charming '\n",
      "                          'qualities. More Details Xing Yun Hainanese Boneless '\n",
      "                          'Chicken Rice Yuhua Market & Hawker Centre, #01-202, '\n",
      "                          'Blk 347, Jurong East Avenue 1, Jurong East, 600347 '\n",
      "                          'Singapore $ ·\", \"· Street Food Located in the '\n",
      "                          'Maxwell Food Centre, Tian Tian Hainanese Chicken '\n",
      "                          'Rice is a popular Hainanese chicken rice stall has '\n",
      "                          'been around since 1987 and is well-known overseas. '\n",
      "                          'There is always a long queue, so one can only '\n",
      "                          'imagine how enticing the chicken rice here is. The '\n",
      "                          'meat is tender and is drizzled with a secret sauce '\n",
      "                          \"to enhance its umami. Don't forget to enjoy it with \"\n",
      "                          \"the fragrant rice! More Details People's Park \"\n",
      "                          \"Hainanese Chicken Rice People's Park Complex Food \"\n",
      "                          'Centre, #01-1098, 32 New Market Road, 050032 '\n",
      "                          'Singapore $ ·\"]`. \\n'\n",
      "                          '            Based on the earlier context, answer '\n",
      "                          'the question Which famous chicken rice in Singapore '\n",
      "                          'also sells char siew?.\"\\n'\n",
      "                          '            ',\n",
      "               'role': 'user'},\n",
      "              {'content': '', 'role': 'assistant'}],\n",
      " 'stop_conditions': None,\n",
      " 'stream': True,\n",
      " 'temperature': 1e-08,\n",
      " 'tool_choice': 'none',\n",
      " 'tools': None,\n",
      " 'top_k': None,\n",
      " 'top_p': None}\u001b[0m\n"
     ]
    },
    {
     "name": "stdout",
     "output_type": "stream",
     "text": [
      " According to my document store, there is no information provided about any famous chicken rice in Singapore that also sells char siew. However, it is worth noting that the context does not mention any other dishes served by the restaurants mentioned. Therefore, it is possible that some of these restaurants may serve char siew as part of their menu, but this information is not provided in the context.\n",
      "\n",
      "To answer your question more definitively, I would need additional information about which specific restaurants or chains of restaurants in Singapore are known for both chicken rice and char siew. Once I have that information, I can search my document store for more detailed information about those restaurants and their menus.\n",
      "\n",
      "For example, let's say we know that the restaurant \"Lau Pa Sat\" is famous for both chicken rice and char siew. In that case, I could search my document store for more information about Lau Pa Sat and find out that they do indeed serve char siew as part of their menu.\n",
      "\n",
      "In conclusion, while the context does not provide information about any famous chicken rice in Singapore that also sells char siew, it is possible that some of the restaurants mentioned in the context may serve char siew as part of their menu. To confirm this, we would need more specific information about which restaurants are known for both chicken rice and char siew."
     ]
    }
   ],
   "source": [
    "# ACT\n",
    "agent.next()\n",
    "for chunk in agent.streamer:\n",
    "    print(chunk, end=\"\", flush=True)"
   ]
  },
  {
   "cell_type": "code",
   "execution_count": 9,
   "metadata": {},
   "outputs": [
    {
     "name": "stdout",
     "output_type": "stream",
     "text": [
      "step=5\n",
      "state=GENERATE\n",
      "tool_choice=none\n",
      "tool_name='text\n"
     ]
    },
    {
     "data": {
      "text/html": [
       "<div style=\"background-color: #cccccc; color: #333333; white-space: pre-wrap; padding: 10px;\">content=<i>\" According to my document store, there is no information provided about any famous chicken rice in Singapore that also sells char siew. However, it is worth noting that the context does not mention any other dishes served by the restaurants mentioned. Therefore, it is possible that some of these restaurants may serve char siew as part of their menu, but this information is not provided in the context.\\n\\nTo answer your question more definitively, I would need additional information about which specific restaurants or chains of restaurants in Singapore are known for both chicken rice and char siew. Once I have that information, I can search my document store for more detailed information about those restaurants and their menus.\\n\\nFor example, let's say we know that the restaurant \\\"Lau Pa Sat\\\" is famous for both chicken rice and char siew. In that case, I could search my document store for more information about Lau Pa Sat and find out that they do indeed serve char siew as part of their menu.\\n\\nIn conclusion, while the context does not provide information about any famous chicken rice in Singapore that also sells char siew, it is possible that some of the restaurants mentioned in the context may serve char siew as part of their menu. To confirm this, we would need more specific information about which restaurants are known for both chicken rice and char siew.\"</i></div>"
      ],
      "text/plain": [
       "<IPython.core.display.HTML object>"
      ]
     },
     "metadata": {},
     "output_type": "display_data"
    },
    {
     "name": "stdout",
     "output_type": "stream",
     "text": [
      "\n",
      "\n",
      "MONOLOGUE\n",
      "\n"
     ]
    },
    {
     "data": {
      "text/html": [
       "<font color=\"yellow\">System:\n",
       "\n",
       "</font>"
      ],
      "text/plain": [
       "<IPython.core.display.HTML object>"
      ]
     },
     "metadata": {},
     "output_type": "display_data"
    },
    {
     "name": "stdout",
     "output_type": "stream",
     "text": [
      "👩‍🔬, use only the information provided to you by the user to answer the user''s question. \n",
      "            If the information is insufficient for 👩‍🔬 to derive an answer, just say ''I cannot find relevant information in my document store to answer the question correctly.'' \n",
      "            👩‍🔬 is to provide an in-depth analysis to the question based only on the information provided by the user and nothing more.\n",
      "            👩‍🔬 will give a real-life example to support illustrating your point and contrasting it with a counter-example. \n",
      "            👩‍🔬 will also proofread and edit the content before responding. \n",
      "            👩‍🔬 will provide your own reasoned subjective perspective, noting where your view differs from or expands on the contents.\n",
      "            Rules:\n",
      "                - Consolidate the materials provided by the user and then organise them point by point.\n",
      "                - Provide as much details as you can extract from the materials provided by the user.\n",
      "                - Begin your report by saying `According to my document store,...`\n",
      "                - Always provide your answers in point form.\n",
      "\n",
      "\n",
      "\n"
     ]
    },
    {
     "data": {
      "text/html": [
       "<font color=\"yellow\">User:\n",
       "\n",
       "</font>"
      ],
      "text/plain": [
       "<IPython.core.display.HTML object>"
      ]
     },
     "metadata": {},
     "output_type": "display_data"
    },
    {
     "name": "stdout",
     "output_type": "stream",
     "text": [
      "\n",
      "            Refer to the following context: `[\"well as salt-baked chicken. With the diversity presented in a single dish, Singapore's chicken rice definitely draws in curious diners to uncover more of the Lion City's chicken rice culture. Being equally fascinated with Singapore's chicken rice, the MICHELIN Guide inspectors share with us where to get the best ones in Singapore, so read on below! Boon Tong Kee (Balestier Road) 399, 401, 403 Balestier Road, 329801 Singapore $\", \"15 September 2023 There are many dishes that are very much representative of Singapore, and one of the most iconic of them is, of course, chicken rice. Loosely referred to as Singapore's national dish, the ubiquitous Hainanese chicken rice requires a meticulous preparation process. To make this classic chicken rice dish, the chicken is first scalded until cooked through before it is dipped in ice-cold water to keep the meat soft and tender. Served with chicken broth, ginger sauce, black soy sauce, and chilli, the highlight is the rice that has been cooked with the chicken's oils. The end-product may look deceptively simple, but it is very delicious. Singapore's offerings also go beyond the traditional Hainanese chicken rice. There is also kampung -style chicken rice where the poultry used is leaner. Soya sauce chicken rice is also a popular choice, as well as salt-baked chicken. With the diversity presented in a single dish, Singapore's chicken rice\", \"· Cantonese Roast Meats A household brand that's popular both in Singapore and overseas, Hawker Chan Soya Sauce Chicken Rice & Noodle 's soya sauce chicken is well-known far and wide. The chicken is cooked in the chef's secret sauce for several hours, and it yields tender and flavourful meat. First-time diners are recommended to try the signature soya sauce chicken rice to experience its charming qualities. More Details Xing Yun Hainanese Boneless Chicken Rice Yuhua Market & Hawker Centre, #01-202, Blk 347, Jurong East Avenue 1, Jurong East, 600347 Singapore $ ·\", \"· Street Food Located in the Maxwell Food Centre, Tian Tian Hainanese Chicken Rice is a popular Hainanese chicken rice stall has been around since 1987 and is well-known overseas. There is always a long queue, so one can only imagine how enticing the chicken rice here is. The meat is tender and is drizzled with a secret sauce to enhance its umami. Don't forget to enjoy it with the fragrant rice! More Details People's Park Hainanese Chicken Rice People's Park Complex Food Centre, #01-1098, 32 New Market Road, 050032 Singapore $ ·\"]`. \n",
      "            Based on the earlier context, answer the question Which famous chicken rice in Singapore also sells char siew?.\"\n",
      "            \n",
      "\n",
      "\n",
      "\n"
     ]
    },
    {
     "data": {
      "text/html": [
       "<font color=\"yellow\">Assistant:\n",
       "\n",
       "</font>"
      ],
      "text/plain": [
       "<IPython.core.display.HTML object>"
      ]
     },
     "metadata": {},
     "output_type": "display_data"
    },
    {
     "name": "stdout",
     "output_type": "stream",
     "text": [
      "\n",
      "\n",
      "\n",
      "\n"
     ]
    }
   ],
   "source": [
    "# ASSERT\n",
    "TestAgentHelper.ShowAgent(agent)\n"
   ]
  },
  {
   "cell_type": "markdown",
   "metadata": {},
   "source": [
    "## State 6. PROCESS\n",
    "\n"
   ]
  },
  {
   "cell_type": "code",
   "execution_count": 10,
   "metadata": {},
   "outputs": [
    {
     "name": "stdout",
     "output_type": "stream",
     "text": [
      "step=6\n",
      "state=PROCESS\n",
      "tool_choice=none\n",
      "tool_name='text\n"
     ]
    },
    {
     "data": {
      "text/html": [
       "<div style=\"background-color: #cccccc; color: #333333; white-space: pre-wrap; padding: 10px;\">content=<i>\" According to my document store, there is no information provided about any famous chicken rice in Singapore that also sells char siew. However, it is worth noting that the context does not mention any other dishes served by the restaurants mentioned. Therefore, it is possible that some of these restaurants may serve char siew as part of their menu, but this information is not provided in the context.\\n\\nTo answer your question more definitively, I would need additional information about which specific restaurants or chains of restaurants in Singapore are known for both chicken rice and char siew. Once I have that information, I can search my document store for more detailed information about those restaurants and their menus.\\n\\nFor example, let's say we know that the restaurant \\\"Lau Pa Sat\\\" is famous for both chicken rice and char siew. In that case, I could search my document store for more information about Lau Pa Sat and find out that they do indeed serve char siew as part of their menu.\\n\\nIn conclusion, while the context does not provide information about any famous chicken rice in Singapore that also sells char siew, it is possible that some of the restaurants mentioned in the context may serve char siew as part of their menu. To confirm this, we would need more specific information about which restaurants are known for both chicken rice and char siew.\"</i></div>"
      ],
      "text/plain": [
       "<IPython.core.display.HTML object>"
      ]
     },
     "metadata": {},
     "output_type": "display_data"
    },
    {
     "name": "stdout",
     "output_type": "stream",
     "text": [
      "\n",
      "\n",
      "MONOLOGUE\n",
      "\n"
     ]
    },
    {
     "data": {
      "text/html": [
       "<font color=\"yellow\">System:\n",
       "\n",
       "</font>"
      ],
      "text/plain": [
       "<IPython.core.display.HTML object>"
      ]
     },
     "metadata": {},
     "output_type": "display_data"
    },
    {
     "name": "stdout",
     "output_type": "stream",
     "text": [
      "👩‍🔬, use only the information provided to you by the user to answer the user''s question. \n",
      "            If the information is insufficient for 👩‍🔬 to derive an answer, just say ''I cannot find relevant information in my document store to answer the question correctly.'' \n",
      "            👩‍🔬 is to provide an in-depth analysis to the question based only on the information provided by the user and nothing more.\n",
      "            👩‍🔬 will give a real-life example to support illustrating your point and contrasting it with a counter-example. \n",
      "            👩‍🔬 will also proofread and edit the content before responding. \n",
      "            👩‍🔬 will provide your own reasoned subjective perspective, noting where your view differs from or expands on the contents.\n",
      "            Rules:\n",
      "                - Consolidate the materials provided by the user and then organise them point by point.\n",
      "                - Provide as much details as you can extract from the materials provided by the user.\n",
      "                - Begin your report by saying `According to my document store,...`\n",
      "                - Always provide your answers in point form.\n",
      "\n",
      "\n",
      "\n"
     ]
    },
    {
     "data": {
      "text/html": [
       "<font color=\"yellow\">User:\n",
       "\n",
       "</font>"
      ],
      "text/plain": [
       "<IPython.core.display.HTML object>"
      ]
     },
     "metadata": {},
     "output_type": "display_data"
    },
    {
     "name": "stdout",
     "output_type": "stream",
     "text": [
      "\n",
      "            Refer to the following context: `[\"well as salt-baked chicken. With the diversity presented in a single dish, Singapore's chicken rice definitely draws in curious diners to uncover more of the Lion City's chicken rice culture. Being equally fascinated with Singapore's chicken rice, the MICHELIN Guide inspectors share with us where to get the best ones in Singapore, so read on below! Boon Tong Kee (Balestier Road) 399, 401, 403 Balestier Road, 329801 Singapore $\", \"15 September 2023 There are many dishes that are very much representative of Singapore, and one of the most iconic of them is, of course, chicken rice. Loosely referred to as Singapore's national dish, the ubiquitous Hainanese chicken rice requires a meticulous preparation process. To make this classic chicken rice dish, the chicken is first scalded until cooked through before it is dipped in ice-cold water to keep the meat soft and tender. Served with chicken broth, ginger sauce, black soy sauce, and chilli, the highlight is the rice that has been cooked with the chicken's oils. The end-product may look deceptively simple, but it is very delicious. Singapore's offerings also go beyond the traditional Hainanese chicken rice. There is also kampung -style chicken rice where the poultry used is leaner. Soya sauce chicken rice is also a popular choice, as well as salt-baked chicken. With the diversity presented in a single dish, Singapore's chicken rice\", \"· Cantonese Roast Meats A household brand that's popular both in Singapore and overseas, Hawker Chan Soya Sauce Chicken Rice & Noodle 's soya sauce chicken is well-known far and wide. The chicken is cooked in the chef's secret sauce for several hours, and it yields tender and flavourful meat. First-time diners are recommended to try the signature soya sauce chicken rice to experience its charming qualities. More Details Xing Yun Hainanese Boneless Chicken Rice Yuhua Market & Hawker Centre, #01-202, Blk 347, Jurong East Avenue 1, Jurong East, 600347 Singapore $ ·\", \"· Street Food Located in the Maxwell Food Centre, Tian Tian Hainanese Chicken Rice is a popular Hainanese chicken rice stall has been around since 1987 and is well-known overseas. There is always a long queue, so one can only imagine how enticing the chicken rice here is. The meat is tender and is drizzled with a secret sauce to enhance its umami. Don't forget to enjoy it with the fragrant rice! More Details People's Park Hainanese Chicken Rice People's Park Complex Food Centre, #01-1098, 32 New Market Road, 050032 Singapore $ ·\"]`. \n",
      "            Based on the earlier context, answer the question Which famous chicken rice in Singapore also sells char siew?.\"\n",
      "            \n",
      "\n",
      "\n",
      "\n"
     ]
    },
    {
     "data": {
      "text/html": [
       "<font color=\"yellow\">Alfred:\n",
       "\n",
       "</font>"
      ],
      "text/plain": [
       "<IPython.core.display.HTML object>"
      ]
     },
     "metadata": {},
     "output_type": "display_data"
    },
    {
     "name": "stdout",
     "output_type": "stream",
     "text": [
      " According to my document store, there is no information provided about any famous chicken rice in Singapore that also sells char siew. However, it is worth noting that the context does not mention any other dishes served by the restaurants mentioned. Therefore, it is possible that some of these restaurants may serve char siew as part of their menu, but this information is not provided in the context.\n",
      "\n",
      "To answer your question more definitively, I would need additional information about which specific restaurants or chains of restaurants in Singapore are known for both chicken rice and char siew. Once I have that information, I can search my document store for more detailed information about those restaurants and their menus.\n",
      "\n",
      "For example, let's say we know that the restaurant \"Lau Pa Sat\" is famous for both chicken rice and char siew. In that case, I could search my document store for more information about Lau Pa Sat and find out that they do indeed serve char siew as part of their menu.\n",
      "\n",
      "In conclusion, while the context does not provide information about any famous chicken rice in Singapore that also sells char siew, it is possible that some of the restaurants mentioned in the context may serve char siew as part of their menu. To confirm this, we would need more specific information about which restaurants are known for both chicken rice and char siew.\n",
      "\n",
      "\n",
      "\n"
     ]
    }
   ],
   "source": [
    "# ACT\n",
    "agent.next()\n",
    "\n",
    "# ASSERT\n",
    "TestAgentHelper.ShowAgent(agent)\n"
   ]
  }
 ],
 "metadata": {
  "kernelspec": {
   "display_name": ".venv",
   "language": "python",
   "name": "python3"
  },
  "language_info": {
   "codemirror_mode": {
    "name": "ipython",
    "version": 3
   },
   "file_extension": ".py",
   "mimetype": "text/x-python",
   "name": "python",
   "nbconvert_exporter": "python",
   "pygments_lexer": "ipython3",
   "version": "3.10.14"
  }
 },
 "nbformat": 4,
 "nbformat_minor": 2
}
