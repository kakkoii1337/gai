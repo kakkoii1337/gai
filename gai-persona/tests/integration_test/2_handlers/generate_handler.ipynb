{
 "cells": [
  {
   "cell_type": "markdown",
   "metadata": {},
   "source": [
    "### on_GENERATE_Handler"
   ]
  },
  {
   "cell_type": "markdown",
   "metadata": {},
   "source": [
    "stream"
   ]
  },
  {
   "cell_type": "code",
   "execution_count": 1,
   "metadata": {},
   "outputs": [
    {
     "name": "stderr",
     "output_type": "stream",
     "text": [
      "\u001b[42m\u001b[30mINFO    \u001b[0m \u001b[32mMESSAGES:\n",
      "\n",
      "User:\n",
      "Tell me a one paragraph story\n",
      "\n",
      "Assistant:\n",
      "\n",
      "\u001b[0m\n",
      "\u001b[45m\u001b[30mDEBUG   \u001b[0m \u001b[35mhttppost:url=http://gai-ttt-svr:12031/gen/v1/chat/completions\u001b[0m\n",
      "\u001b[45m\u001b[30mDEBUG   \u001b[0m \u001b[35mhttppost:data={'json_schema': None,\n",
      " 'max_new_tokens': 300,\n",
      " 'max_tokens': 300,\n",
      " 'messages': [{'content': 'Tell me a one paragraph story', 'role': 'user'},\n",
      "              {'content': '', 'role': 'assistant'}],\n",
      " 'stop_conditions': None,\n",
      " 'stream': True,\n",
      " 'temperature': 0.7,\n",
      " 'tool_choice': 'none',\n",
      " 'tools': None,\n",
      " 'top_k': 50,\n",
      " 'top_p': 0.9}\u001b[0m\n"
     ]
    },
    {
     "name": "stdout",
     "output_type": "stream",
     "text": [
      " In the heart of a bustling city, a young violinist named Amelia found an old, dusty violin in a forgotten antique shop. Upon taking it home, she discovered it was enchanted, playing beautiful melodies even without her touching the strings. Word spread about her magical instrument, and soon, Amelia was invited to perform at a grand concert hall. The enchanted violin's music touched the hearts of all who heard it, turning the concert into a sold-out event that brought joy and wonder to the city. With her newfound fame, Amelia used her talents to inspire others, proving that even the most unlikely treasures can bring magic and happiness to the world."
     ]
    }
   ],
   "source": [
    "import os\n",
    "os.environ[\"LOG_LEVEL\"]=\"DEBUG\"\n",
    "\n",
    "# ARRANGE\n",
    "from gai.ttt.client.ttt_client import TTTClient\n",
    "ttt=TTTClient({\n",
    "    \"type\": \"ttt\",\n",
    "    \"url\": \"http://gai-ttt-svr:12031/gen/v1/chat/completions\",\n",
    "    \"max_new_tokens\":300,\n",
    "    \"max_tokens\":300,\n",
    "    \"temperature\": 0.7,\n",
    "    \"top_p\":0.9,\n",
    "    \"top_k\": 50\n",
    "})\n",
    "from gai.lib.dialogue.MonologueMessageBuilder import MonologueMessageBuilder\n",
    "messages = MonologueMessageBuilder(\n",
    "    ).AddUserMessage(\"Tell me a one paragraph story\"\n",
    "    ).AddAssistantMessage(\n",
    "    ).Build()\n",
    "\n",
    "# ACT\n",
    "from gai.persona.fsm.handlers.use_GENERATE_handler import use_GENERATE_handler\n",
    "handler = use_GENERATE_handler()\n",
    "handler.stream = True\n",
    "handler.monologue_messages = messages\n",
    "handler.ttt = ttt\n",
    "handler.on_GENERATE()\n",
    "for chunk in handler.streamer:\n",
    "    print(chunk, end='', flush=True)\n",
    "\n"
   ]
  }
 ],
 "metadata": {
  "kernelspec": {
   "display_name": ".venv",
   "language": "python",
   "name": "python3"
  },
  "language_info": {
   "codemirror_mode": {
    "name": "ipython",
    "version": 3
   },
   "file_extension": ".py",
   "mimetype": "text/x-python",
   "name": "python",
   "nbconvert_exporter": "python",
   "pygments_lexer": "ipython3",
   "version": "3.10.14"
  }
 },
 "nbformat": 4,
 "nbformat_minor": 2
}
