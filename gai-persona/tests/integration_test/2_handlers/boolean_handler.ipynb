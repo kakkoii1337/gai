{
 "cells": [
  {
   "cell_type": "markdown",
   "metadata": {},
   "source": [
    "### on_BOOLEAN_Handler"
   ]
  },
  {
   "cell_type": "code",
   "execution_count": 1,
   "metadata": {},
   "outputs": [
    {
     "name": "stderr",
     "output_type": "stream",
     "text": [
      "\u001b[45m\u001b[30mDEBUG   \u001b[0m \u001b[35mhttppost:url=http://gai-ttt-svr:12031/gen/v1/chat/completions\u001b[0m\n",
      "\u001b[45m\u001b[30mDEBUG   \u001b[0m \u001b[35mhttppost:data={'json_schema': {'properties': {'result': {'type': 'boolean'}},\n",
      "                 'required': ['result'],\n",
      "                 'title': 'Predicate',\n",
      "                 'type': 'object'},\n",
      " 'max_tokens': None,\n",
      " 'messages': [{'content': 'Is this true or false: `The sun rises from the '\n",
      "                          'east?`',\n",
      "               'role': 'user'},\n",
      "              {'content': '', 'role': 'assistant'}],\n",
      " 'stop_conditions': None,\n",
      " 'stream': False,\n",
      " 'temperature': 0,\n",
      " 'tool_choice': 'none',\n",
      " 'tools': None,\n",
      " 'top_k': None,\n",
      " 'top_p': None}\u001b[0m\n"
     ]
    },
    {
     "data": {
      "text/html": [
       "<font color=\"yellow\">True</font>"
      ],
      "text/plain": [
       "<IPython.core.display.HTML object>"
      ]
     },
     "metadata": {},
     "output_type": "display_data"
    }
   ],
   "source": [
    "import os\n",
    "os.environ[\"LOG_LEVEL\"] = \"DEBUG\"\n",
    "from gai.ttt.client.ttt_client import TTTClient\n",
    "\n",
    "from gai.persona.fsm.handlers.use_BOOLEAN_handler import use_BOOLEAN_handler\n",
    "handler = use_BOOLEAN_handler()\n",
    "handler.ttt=TTTClient({\n",
    "    \"type\": \"ttt\",\n",
    "    \"url\": \"http://gai-ttt-svr:12031/gen/v1/chat/completions\"\n",
    "})\n",
    "handler.user_message=\"The sun rises from the east?\"\n",
    "handler.on_BOOLEAN()\n",
    "\n",
    "from gai.lib.common.notebook import highlight\n",
    "highlight(handler.content)\n",
    "assert handler.content == True"
   ]
  },
  {
   "cell_type": "code",
   "execution_count": 2,
   "metadata": {},
   "outputs": [
    {
     "name": "stderr",
     "output_type": "stream",
     "text": [
      "\u001b[45m\u001b[30mDEBUG   \u001b[0m \u001b[35mhttppost:url=http://gai-ttt-svr:12031/gen/v1/chat/completions\u001b[0m\n"
     ]
    },
    {
     "name": "stderr",
     "output_type": "stream",
     "text": [
      "\u001b[45m\u001b[30mDEBUG   \u001b[0m \u001b[35mhttppost:data={'json_schema': {'properties': {'result': {'type': 'boolean'}},\n",
      "                 'required': ['result'],\n",
      "                 'title': 'Predicate',\n",
      "                 'type': 'object'},\n",
      " 'max_tokens': None,\n",
      " 'messages': [{'content': 'Is this true or false: `The sun sets in the east?`',\n",
      "               'role': 'user'},\n",
      "              {'content': '', 'role': 'assistant'}],\n",
      " 'stop_conditions': None,\n",
      " 'stream': False,\n",
      " 'temperature': 0,\n",
      " 'tool_choice': 'none',\n",
      " 'tools': None,\n",
      " 'top_k': None,\n",
      " 'top_p': None}\u001b[0m\n"
     ]
    },
    {
     "data": {
      "text/html": [
       "<font color=\"yellow\">False</font>"
      ],
      "text/plain": [
       "<IPython.core.display.HTML object>"
      ]
     },
     "metadata": {},
     "output_type": "display_data"
    }
   ],
   "source": [
    "import os\n",
    "os.environ[\"LOG_LEVEL\"] = \"DEBUG\"\n",
    "from gai.ttt.client.ttt_client import TTTClient\n",
    "\n",
    "from gai.persona.fsm.handlers.use_BOOLEAN_handler import use_BOOLEAN_handler\n",
    "handler = use_BOOLEAN_handler()\n",
    "handler.ttt=TTTClient({\n",
    "    \"type\": \"ttt\",\n",
    "    \"url\": \"http://gai-ttt-svr:12031/gen/v1/chat/completions\"\n",
    "})\n",
    "handler.user_message=\"The sun sets in the east?\"\n",
    "handler.on_BOOLEAN()\n",
    "\n",
    "from gai.lib.common.notebook import highlight\n",
    "highlight(handler.content)\n",
    "assert handler.content == False\n"
   ]
  }
 ],
 "metadata": {
  "kernelspec": {
   "display_name": ".venv",
   "language": "python",
   "name": "python3"
  },
  "language_info": {
   "codemirror_mode": {
    "name": "ipython",
    "version": 3
   },
   "file_extension": ".py",
   "mimetype": "text/x-python",
   "name": "python",
   "nbconvert_exporter": "python",
   "pygments_lexer": "ipython3",
   "version": "3.10.16"
  }
 },
 "nbformat": 4,
 "nbformat_minor": 2
}
