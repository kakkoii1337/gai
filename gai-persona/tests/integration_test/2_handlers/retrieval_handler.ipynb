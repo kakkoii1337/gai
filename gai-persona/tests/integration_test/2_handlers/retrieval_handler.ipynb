{
 "cells": [
  {
   "cell_type": "markdown",
   "metadata": {},
   "source": [
    "### on_RETRIEVAL_Handler"
   ]
  },
  {
   "cell_type": "markdown",
   "metadata": {},
   "source": [
    "a) For text file"
   ]
  },
  {
   "cell_type": "markdown",
   "metadata": {},
   "source": [
    "**ARRANGE:** index the document"
   ]
  },
  {
   "cell_type": "code",
   "execution_count": null,
   "metadata": {},
   "outputs": [
    {
     "name": "stderr",
     "output_type": "stream",
     "text": [
      "\u001b[45m\u001b[30mDEBUG   \u001b[0m \u001b[35mhttppost:url=http://localhost:12036/gen/v1/rag/index-file\u001b[0m\n",
      "\u001b[45m\u001b[30mDEBUG   \u001b[0m \u001b[35mhttppost:data=None\u001b[0m\n",
      "\u001b[45m\u001b[30mDEBUG   \u001b[0m \u001b[35mhttppost:files={'file': ('where_to_find_the_best_chicken_rice_in_singapore.txt',\n",
      "          <_io.BufferedReader name='/home/kakkoii1337/github/kakkoii1337/gai-core/gai-sdk/gai-persona/tests/integration_test/2_handlers/where_to_find_the_best_chicken_rice_in_singapore.txt'>,\n",
      "          'application/pdf'),\n",
      " 'req': (None,\n",
      "         '{\"Id\":null,\"CollectionName\":\"demo\",\"FilePath\":\"/home/kakkoii1337/github/kakkoii1337/gai-core/gai-sdk/gai-persona/tests/integration_test/2_handlers/where_to_find_the_best_chicken_rice_in_singapore.txt\",\"FileType\":\"\",\"Source\":\"\",\"ByteSize\":null,\"Title\":\"\",\"Abstract\":null,\"Authors\":\"\",\"Publisher\":\"\",\"PublishedDate\":\"\",\"Comments\":\"\",\"Keywords\":\"\",\"ChunkGroupId\":null,\"ChunkSize\":null,\"ChunkOverlap\":null,\"ChunkCount\":null}',\n",
      "         'application/json')}\u001b[0m\n"
     ]
    },
    {
     "data": {
      "text/plain": [
       "IndexedDocChunkIdsPydantic(DocumentId='PPa4WO6HZIWHS4cFAWTeiAtpyA1QYHRLTNtLQyzCBHA', ChunkgroupId='7c128d24-e6de-4c50-8498-789145416a89', ChunkIds=['3106ed38-b569-4ece-bbb5-9d8a6743bce9', 'ff5f2907-8fb6-47db-b4e3-dccf9c7a7138', '57e00076-8032-46ac-9b1c-585a28ad790e', 'b7d6c414-89ec-4f34-bea8-13af8240b7be', 'a0e5fd66-9610-438e-a662-15fc7e1b0a03', '30523fa1-28ec-4d6e-ac2c-aee58c88c145', 'd3077146-eec2-4a7b-8e46-8698ca7b2055', '15820bea-3621-492d-96a4-e9c53c424b98', '0488dfa8-9407-4325-9ba8-89fa0b3c9665', 'a13b70c9-eb86-4993-89f8-5e69105a288c', 'e5cdadb0-c6c7-422f-9ee4-6fae71e66d24', 'e429ba9f-0183-4f41-9198-da9350e52e45', '6116212e-7e50-4878-9e5d-ba96a8575f35', 'c75888c6-6d87-41d1-b95f-d14bec4d1dd6', '2c5f8a26-2e67-4f3e-9799-6166fad91ce6', 'e593fe23-d89f-436c-b35a-26e3578940a8', '351511fb-d89a-4d81-9265-f0b5fb03245e', '10b91d2f-18f2-4622-82c3-be36ab81d2e1', '28e9a326-eddf-41cd-bb24-f77b67f56181', '6b084c80-e331-4684-82a3-b48e90031385', '43e9a7f9-4248-4a23-9d11-0fdf43095310', '666761d2-4cb6-4d40-bfdc-af941ba1ad54', '6f21cde3-d1e8-4d10-a8f8-a3153bae5a18'])"
      ]
     },
     "execution_count": 1,
     "metadata": {},
     "output_type": "execute_result"
    }
   ],
   "source": [
    "# Index test doc\n",
    "import os\n",
    "os.environ[\"LOG_LEVEL\"]=\"DEBUG\"\n",
    "\n",
    "from gai.rag.client.rag_client_async import RagClientAsync\n",
    "rag = RagClientAsync({\n",
    "    \"type\": \"rag\",\n",
    "    \"url\": \"http://gai-rag-svr:12036/gen/v1/rag\",\n",
    "    \"ws_url\": \"ws://gai-rag-svr:12036/gen/v1/rag/index-file/ws\"\n",
    "})\n",
    "cwd = os.getcwd()\n",
    "\n",
    "await rag.index_document_async(collection_name=\"demo\", file_path=f\"{cwd}/where_to_find_the_best_chicken_rice_in_singapore.txt\")"
   ]
  },
  {
   "cell_type": "markdown",
   "metadata": {},
   "source": [
    "**ACT:** Perform retrieval on the document"
   ]
  },
  {
   "cell_type": "code",
   "execution_count": 1,
   "metadata": {},
   "outputs": [
    {
     "name": "stderr",
     "output_type": "stream",
     "text": [
      "\u001b[45m\u001b[30mDEBUG   \u001b[0m \u001b[35mhttppost:url=http://gai-rag-svr:12036/gen/v1/rag/retrieve\u001b[0m\n",
      "\u001b[45m\u001b[30mDEBUG   \u001b[0m \u001b[35mhttppost:data={'collection_name': 'demo',\n",
      " 'n_results': 4,\n",
      " 'query_texts': 'Which of the stall sells char siew?'}\u001b[0m\n",
      "\u001b[45m\u001b[30mDEBUG   \u001b[0m \u001b[35mhttppost:files=None\u001b[0m\n"
     ]
    },
    {
     "ename": "Exception",
     "evalue": "Connection Error. Is the service Running?",
     "output_type": "error",
     "traceback": [
      "\u001b[0;31m---------------------------------------------------------------------------\u001b[0m",
      "\u001b[0;31mConnectError\u001b[0m                              Traceback (most recent call last)",
      "File \u001b[0;32m~/.venv/lib/python3.10/site-packages/httpx/_transports/default.py:72\u001b[0m, in \u001b[0;36mmap_httpcore_exceptions\u001b[0;34m()\u001b[0m\n\u001b[1;32m     71\u001b[0m \u001b[38;5;28;01mtry\u001b[39;00m:\n\u001b[0;32m---> 72\u001b[0m     \u001b[38;5;28;01myield\u001b[39;00m\n\u001b[1;32m     73\u001b[0m \u001b[38;5;28;01mexcept\u001b[39;00m \u001b[38;5;167;01mException\u001b[39;00m \u001b[38;5;28;01mas\u001b[39;00m exc:\n",
      "File \u001b[0;32m~/.venv/lib/python3.10/site-packages/httpx/_transports/default.py:377\u001b[0m, in \u001b[0;36mAsyncHTTPTransport.handle_async_request\u001b[0;34m(self, request)\u001b[0m\n\u001b[1;32m    376\u001b[0m \u001b[38;5;28;01mwith\u001b[39;00m map_httpcore_exceptions():\n\u001b[0;32m--> 377\u001b[0m     resp \u001b[38;5;241m=\u001b[39m \u001b[38;5;28;01mawait\u001b[39;00m \u001b[38;5;28mself\u001b[39m\u001b[38;5;241m.\u001b[39m_pool\u001b[38;5;241m.\u001b[39mhandle_async_request(req)\n\u001b[1;32m    379\u001b[0m \u001b[38;5;28;01massert\u001b[39;00m \u001b[38;5;28misinstance\u001b[39m(resp\u001b[38;5;241m.\u001b[39mstream, typing\u001b[38;5;241m.\u001b[39mAsyncIterable)\n",
      "File \u001b[0;32m~/.venv/lib/python3.10/site-packages/httpcore/_async/connection_pool.py:256\u001b[0m, in \u001b[0;36mAsyncConnectionPool.handle_async_request\u001b[0;34m(self, request)\u001b[0m\n\u001b[1;32m    255\u001b[0m     \u001b[38;5;28;01mawait\u001b[39;00m \u001b[38;5;28mself\u001b[39m\u001b[38;5;241m.\u001b[39m_close_connections(closing)\n\u001b[0;32m--> 256\u001b[0m     \u001b[38;5;28;01mraise\u001b[39;00m exc \u001b[38;5;28;01mfrom\u001b[39;00m \u001b[38;5;28;01mNone\u001b[39;00m\n\u001b[1;32m    258\u001b[0m \u001b[38;5;66;03m# Return the response. Note that in this case we still have to manage\u001b[39;00m\n\u001b[1;32m    259\u001b[0m \u001b[38;5;66;03m# the point at which the response is closed.\u001b[39;00m\n",
      "File \u001b[0;32m~/.venv/lib/python3.10/site-packages/httpcore/_async/connection_pool.py:236\u001b[0m, in \u001b[0;36mAsyncConnectionPool.handle_async_request\u001b[0;34m(self, request)\u001b[0m\n\u001b[1;32m    234\u001b[0m \u001b[38;5;28;01mtry\u001b[39;00m:\n\u001b[1;32m    235\u001b[0m     \u001b[38;5;66;03m# Send the request on the assigned connection.\u001b[39;00m\n\u001b[0;32m--> 236\u001b[0m     response \u001b[38;5;241m=\u001b[39m \u001b[38;5;28;01mawait\u001b[39;00m connection\u001b[38;5;241m.\u001b[39mhandle_async_request(\n\u001b[1;32m    237\u001b[0m         pool_request\u001b[38;5;241m.\u001b[39mrequest\n\u001b[1;32m    238\u001b[0m     )\n\u001b[1;32m    239\u001b[0m \u001b[38;5;28;01mexcept\u001b[39;00m ConnectionNotAvailable:\n\u001b[1;32m    240\u001b[0m     \u001b[38;5;66;03m# In some cases a connection may initially be available to\u001b[39;00m\n\u001b[1;32m    241\u001b[0m     \u001b[38;5;66;03m# handle a request, but then become unavailable.\u001b[39;00m\n\u001b[1;32m    242\u001b[0m     \u001b[38;5;66;03m#\u001b[39;00m\n\u001b[1;32m    243\u001b[0m     \u001b[38;5;66;03m# In this case we clear the connection and try again.\u001b[39;00m\n",
      "File \u001b[0;32m~/.venv/lib/python3.10/site-packages/httpcore/_async/connection.py:101\u001b[0m, in \u001b[0;36mAsyncHTTPConnection.handle_async_request\u001b[0;34m(self, request)\u001b[0m\n\u001b[1;32m    100\u001b[0m     \u001b[38;5;28mself\u001b[39m\u001b[38;5;241m.\u001b[39m_connect_failed \u001b[38;5;241m=\u001b[39m \u001b[38;5;28;01mTrue\u001b[39;00m\n\u001b[0;32m--> 101\u001b[0m     \u001b[38;5;28;01mraise\u001b[39;00m exc\n\u001b[1;32m    103\u001b[0m \u001b[38;5;28;01mreturn\u001b[39;00m \u001b[38;5;28;01mawait\u001b[39;00m \u001b[38;5;28mself\u001b[39m\u001b[38;5;241m.\u001b[39m_connection\u001b[38;5;241m.\u001b[39mhandle_async_request(request)\n",
      "File \u001b[0;32m~/.venv/lib/python3.10/site-packages/httpcore/_async/connection.py:78\u001b[0m, in \u001b[0;36mAsyncHTTPConnection.handle_async_request\u001b[0;34m(self, request)\u001b[0m\n\u001b[1;32m     77\u001b[0m \u001b[38;5;28;01mif\u001b[39;00m \u001b[38;5;28mself\u001b[39m\u001b[38;5;241m.\u001b[39m_connection \u001b[38;5;129;01mis\u001b[39;00m \u001b[38;5;28;01mNone\u001b[39;00m:\n\u001b[0;32m---> 78\u001b[0m     stream \u001b[38;5;241m=\u001b[39m \u001b[38;5;28;01mawait\u001b[39;00m \u001b[38;5;28mself\u001b[39m\u001b[38;5;241m.\u001b[39m_connect(request)\n\u001b[1;32m     80\u001b[0m     ssl_object \u001b[38;5;241m=\u001b[39m stream\u001b[38;5;241m.\u001b[39mget_extra_info(\u001b[38;5;124m\"\u001b[39m\u001b[38;5;124mssl_object\u001b[39m\u001b[38;5;124m\"\u001b[39m)\n",
      "File \u001b[0;32m~/.venv/lib/python3.10/site-packages/httpcore/_async/connection.py:124\u001b[0m, in \u001b[0;36mAsyncHTTPConnection._connect\u001b[0;34m(self, request)\u001b[0m\n\u001b[1;32m    123\u001b[0m \u001b[38;5;28;01masync\u001b[39;00m \u001b[38;5;28;01mwith\u001b[39;00m Trace(\u001b[38;5;124m\"\u001b[39m\u001b[38;5;124mconnect_tcp\u001b[39m\u001b[38;5;124m\"\u001b[39m, logger, request, kwargs) \u001b[38;5;28;01mas\u001b[39;00m trace:\n\u001b[0;32m--> 124\u001b[0m     stream \u001b[38;5;241m=\u001b[39m \u001b[38;5;28;01mawait\u001b[39;00m \u001b[38;5;28mself\u001b[39m\u001b[38;5;241m.\u001b[39m_network_backend\u001b[38;5;241m.\u001b[39mconnect_tcp(\u001b[38;5;241m*\u001b[39m\u001b[38;5;241m*\u001b[39mkwargs)\n\u001b[1;32m    125\u001b[0m     trace\u001b[38;5;241m.\u001b[39mreturn_value \u001b[38;5;241m=\u001b[39m stream\n",
      "File \u001b[0;32m~/.venv/lib/python3.10/site-packages/httpcore/_backends/auto.py:31\u001b[0m, in \u001b[0;36mAutoBackend.connect_tcp\u001b[0;34m(self, host, port, timeout, local_address, socket_options)\u001b[0m\n\u001b[1;32m     30\u001b[0m \u001b[38;5;28;01mawait\u001b[39;00m \u001b[38;5;28mself\u001b[39m\u001b[38;5;241m.\u001b[39m_init_backend()\n\u001b[0;32m---> 31\u001b[0m \u001b[38;5;28;01mreturn\u001b[39;00m \u001b[38;5;28;01mawait\u001b[39;00m \u001b[38;5;28mself\u001b[39m\u001b[38;5;241m.\u001b[39m_backend\u001b[38;5;241m.\u001b[39mconnect_tcp(\n\u001b[1;32m     32\u001b[0m     host,\n\u001b[1;32m     33\u001b[0m     port,\n\u001b[1;32m     34\u001b[0m     timeout\u001b[38;5;241m=\u001b[39mtimeout,\n\u001b[1;32m     35\u001b[0m     local_address\u001b[38;5;241m=\u001b[39mlocal_address,\n\u001b[1;32m     36\u001b[0m     socket_options\u001b[38;5;241m=\u001b[39msocket_options,\n\u001b[1;32m     37\u001b[0m )\n",
      "File \u001b[0;32m~/.venv/lib/python3.10/site-packages/httpcore/_backends/anyio.py:113\u001b[0m, in \u001b[0;36mAnyIOBackend.connect_tcp\u001b[0;34m(self, host, port, timeout, local_address, socket_options)\u001b[0m\n\u001b[1;32m    108\u001b[0m exc_map \u001b[38;5;241m=\u001b[39m {\n\u001b[1;32m    109\u001b[0m     \u001b[38;5;167;01mTimeoutError\u001b[39;00m: ConnectTimeout,\n\u001b[1;32m    110\u001b[0m     \u001b[38;5;167;01mOSError\u001b[39;00m: ConnectError,\n\u001b[1;32m    111\u001b[0m     anyio\u001b[38;5;241m.\u001b[39mBrokenResourceError: ConnectError,\n\u001b[1;32m    112\u001b[0m }\n\u001b[0;32m--> 113\u001b[0m \u001b[38;5;28;01mwith\u001b[39;00m map_exceptions(exc_map):\n\u001b[1;32m    114\u001b[0m     \u001b[38;5;28;01mwith\u001b[39;00m anyio\u001b[38;5;241m.\u001b[39mfail_after(timeout):\n",
      "File \u001b[0;32m/usr/local/lib/python3.10/contextlib.py:153\u001b[0m, in \u001b[0;36m_GeneratorContextManager.__exit__\u001b[0;34m(self, typ, value, traceback)\u001b[0m\n\u001b[1;32m    152\u001b[0m \u001b[38;5;28;01mtry\u001b[39;00m:\n\u001b[0;32m--> 153\u001b[0m     \u001b[38;5;28;43mself\u001b[39;49m\u001b[38;5;241;43m.\u001b[39;49m\u001b[43mgen\u001b[49m\u001b[38;5;241;43m.\u001b[39;49m\u001b[43mthrow\u001b[49m\u001b[43m(\u001b[49m\u001b[43mtyp\u001b[49m\u001b[43m,\u001b[49m\u001b[43m \u001b[49m\u001b[43mvalue\u001b[49m\u001b[43m,\u001b[49m\u001b[43m \u001b[49m\u001b[43mtraceback\u001b[49m\u001b[43m)\u001b[49m\n\u001b[1;32m    154\u001b[0m \u001b[38;5;28;01mexcept\u001b[39;00m \u001b[38;5;167;01mStopIteration\u001b[39;00m \u001b[38;5;28;01mas\u001b[39;00m exc:\n\u001b[1;32m    155\u001b[0m     \u001b[38;5;66;03m# Suppress StopIteration *unless* it's the same exception that\u001b[39;00m\n\u001b[1;32m    156\u001b[0m     \u001b[38;5;66;03m# was passed to throw().  This prevents a StopIteration\u001b[39;00m\n\u001b[1;32m    157\u001b[0m     \u001b[38;5;66;03m# raised inside the \"with\" statement from being suppressed.\u001b[39;00m\n",
      "File \u001b[0;32m~/.venv/lib/python3.10/site-packages/httpcore/_exceptions.py:14\u001b[0m, in \u001b[0;36mmap_exceptions\u001b[0;34m(map)\u001b[0m\n\u001b[1;32m     13\u001b[0m     \u001b[38;5;28;01mif\u001b[39;00m \u001b[38;5;28misinstance\u001b[39m(exc, from_exc):\n\u001b[0;32m---> 14\u001b[0m         \u001b[38;5;28;01mraise\u001b[39;00m to_exc(exc) \u001b[38;5;28;01mfrom\u001b[39;00m \u001b[38;5;21;01mexc\u001b[39;00m\n\u001b[1;32m     15\u001b[0m \u001b[38;5;28;01mraise\u001b[39;00m\n",
      "\u001b[0;31mConnectError\u001b[0m: [Errno -2] Name or service not known",
      "\nThe above exception was the direct cause of the following exception:\n",
      "\u001b[0;31mConnectError\u001b[0m                              Traceback (most recent call last)",
      "File \u001b[0;32m~/.venv/lib/python3.10/site-packages/gai/lib/common/http_utils.py:193\u001b[0m, in \u001b[0;36mhttp_post_async\u001b[0;34m(url, data, files, timeout)\u001b[0m\n\u001b[1;32m    192\u001b[0m     \u001b[38;5;28;01melse\u001b[39;00m:\n\u001b[0;32m--> 193\u001b[0m         response \u001b[38;5;241m=\u001b[39m \u001b[38;5;28;01mawait\u001b[39;00m client\u001b[38;5;241m.\u001b[39mpost(url, json\u001b[38;5;241m=\u001b[39mdata, headers\u001b[38;5;241m=\u001b[39mheaders)\n\u001b[1;32m    195\u001b[0m \u001b[38;5;28;01mif\u001b[39;00m response\u001b[38;5;241m.\u001b[39mstatus_code \u001b[38;5;241m==\u001b[39m \u001b[38;5;241m200\u001b[39m:\n",
      "File \u001b[0;32m~/.venv/lib/python3.10/site-packages/httpx/_client.py:1905\u001b[0m, in \u001b[0;36mAsyncClient.post\u001b[0;34m(self, url, content, data, files, json, params, headers, cookies, auth, follow_redirects, timeout, extensions)\u001b[0m\n\u001b[1;32m   1900\u001b[0m \u001b[38;5;250m\u001b[39m\u001b[38;5;124;03m\"\"\"\u001b[39;00m\n\u001b[1;32m   1901\u001b[0m \u001b[38;5;124;03mSend a `POST` request.\u001b[39;00m\n\u001b[1;32m   1902\u001b[0m \n\u001b[1;32m   1903\u001b[0m \u001b[38;5;124;03m**Parameters**: See `httpx.request`.\u001b[39;00m\n\u001b[1;32m   1904\u001b[0m \u001b[38;5;124;03m\"\"\"\u001b[39;00m\n\u001b[0;32m-> 1905\u001b[0m \u001b[38;5;28;01mreturn\u001b[39;00m \u001b[38;5;28;01mawait\u001b[39;00m \u001b[38;5;28mself\u001b[39m\u001b[38;5;241m.\u001b[39mrequest(\n\u001b[1;32m   1906\u001b[0m     \u001b[38;5;124m\"\u001b[39m\u001b[38;5;124mPOST\u001b[39m\u001b[38;5;124m\"\u001b[39m,\n\u001b[1;32m   1907\u001b[0m     url,\n\u001b[1;32m   1908\u001b[0m     content\u001b[38;5;241m=\u001b[39mcontent,\n\u001b[1;32m   1909\u001b[0m     data\u001b[38;5;241m=\u001b[39mdata,\n\u001b[1;32m   1910\u001b[0m     files\u001b[38;5;241m=\u001b[39mfiles,\n\u001b[1;32m   1911\u001b[0m     json\u001b[38;5;241m=\u001b[39mjson,\n\u001b[1;32m   1912\u001b[0m     params\u001b[38;5;241m=\u001b[39mparams,\n\u001b[1;32m   1913\u001b[0m     headers\u001b[38;5;241m=\u001b[39mheaders,\n\u001b[1;32m   1914\u001b[0m     cookies\u001b[38;5;241m=\u001b[39mcookies,\n\u001b[1;32m   1915\u001b[0m     auth\u001b[38;5;241m=\u001b[39mauth,\n\u001b[1;32m   1916\u001b[0m     follow_redirects\u001b[38;5;241m=\u001b[39mfollow_redirects,\n\u001b[1;32m   1917\u001b[0m     timeout\u001b[38;5;241m=\u001b[39mtimeout,\n\u001b[1;32m   1918\u001b[0m     extensions\u001b[38;5;241m=\u001b[39mextensions,\n\u001b[1;32m   1919\u001b[0m )\n",
      "File \u001b[0;32m~/.venv/lib/python3.10/site-packages/httpx/_client.py:1585\u001b[0m, in \u001b[0;36mAsyncClient.request\u001b[0;34m(self, method, url, content, data, files, json, params, headers, cookies, auth, follow_redirects, timeout, extensions)\u001b[0m\n\u001b[1;32m   1572\u001b[0m request \u001b[38;5;241m=\u001b[39m \u001b[38;5;28mself\u001b[39m\u001b[38;5;241m.\u001b[39mbuild_request(\n\u001b[1;32m   1573\u001b[0m     method\u001b[38;5;241m=\u001b[39mmethod,\n\u001b[1;32m   1574\u001b[0m     url\u001b[38;5;241m=\u001b[39murl,\n\u001b[0;32m   (...)\u001b[0m\n\u001b[1;32m   1583\u001b[0m     extensions\u001b[38;5;241m=\u001b[39mextensions,\n\u001b[1;32m   1584\u001b[0m )\n\u001b[0;32m-> 1585\u001b[0m \u001b[38;5;28;01mreturn\u001b[39;00m \u001b[38;5;28;01mawait\u001b[39;00m \u001b[38;5;28mself\u001b[39m\u001b[38;5;241m.\u001b[39msend(request, auth\u001b[38;5;241m=\u001b[39mauth, follow_redirects\u001b[38;5;241m=\u001b[39mfollow_redirects)\n",
      "File \u001b[0;32m~/.venv/lib/python3.10/site-packages/httpx/_client.py:1674\u001b[0m, in \u001b[0;36mAsyncClient.send\u001b[0;34m(self, request, stream, auth, follow_redirects)\u001b[0m\n\u001b[1;32m   1672\u001b[0m auth \u001b[38;5;241m=\u001b[39m \u001b[38;5;28mself\u001b[39m\u001b[38;5;241m.\u001b[39m_build_request_auth(request, auth)\n\u001b[0;32m-> 1674\u001b[0m response \u001b[38;5;241m=\u001b[39m \u001b[38;5;28;01mawait\u001b[39;00m \u001b[38;5;28mself\u001b[39m\u001b[38;5;241m.\u001b[39m_send_handling_auth(\n\u001b[1;32m   1675\u001b[0m     request,\n\u001b[1;32m   1676\u001b[0m     auth\u001b[38;5;241m=\u001b[39mauth,\n\u001b[1;32m   1677\u001b[0m     follow_redirects\u001b[38;5;241m=\u001b[39mfollow_redirects,\n\u001b[1;32m   1678\u001b[0m     history\u001b[38;5;241m=\u001b[39m[],\n\u001b[1;32m   1679\u001b[0m )\n\u001b[1;32m   1680\u001b[0m \u001b[38;5;28;01mtry\u001b[39;00m:\n",
      "File \u001b[0;32m~/.venv/lib/python3.10/site-packages/httpx/_client.py:1702\u001b[0m, in \u001b[0;36mAsyncClient._send_handling_auth\u001b[0;34m(self, request, auth, follow_redirects, history)\u001b[0m\n\u001b[1;32m   1701\u001b[0m \u001b[38;5;28;01mwhile\u001b[39;00m \u001b[38;5;28;01mTrue\u001b[39;00m:\n\u001b[0;32m-> 1702\u001b[0m     response \u001b[38;5;241m=\u001b[39m \u001b[38;5;28;01mawait\u001b[39;00m \u001b[38;5;28mself\u001b[39m\u001b[38;5;241m.\u001b[39m_send_handling_redirects(\n\u001b[1;32m   1703\u001b[0m         request,\n\u001b[1;32m   1704\u001b[0m         follow_redirects\u001b[38;5;241m=\u001b[39mfollow_redirects,\n\u001b[1;32m   1705\u001b[0m         history\u001b[38;5;241m=\u001b[39mhistory,\n\u001b[1;32m   1706\u001b[0m     )\n\u001b[1;32m   1707\u001b[0m     \u001b[38;5;28;01mtry\u001b[39;00m:\n",
      "File \u001b[0;32m~/.venv/lib/python3.10/site-packages/httpx/_client.py:1739\u001b[0m, in \u001b[0;36mAsyncClient._send_handling_redirects\u001b[0;34m(self, request, follow_redirects, history)\u001b[0m\n\u001b[1;32m   1737\u001b[0m     \u001b[38;5;28;01mawait\u001b[39;00m hook(request)\n\u001b[0;32m-> 1739\u001b[0m response \u001b[38;5;241m=\u001b[39m \u001b[38;5;28;01mawait\u001b[39;00m \u001b[38;5;28mself\u001b[39m\u001b[38;5;241m.\u001b[39m_send_single_request(request)\n\u001b[1;32m   1740\u001b[0m \u001b[38;5;28;01mtry\u001b[39;00m:\n",
      "File \u001b[0;32m~/.venv/lib/python3.10/site-packages/httpx/_client.py:1776\u001b[0m, in \u001b[0;36mAsyncClient._send_single_request\u001b[0;34m(self, request)\u001b[0m\n\u001b[1;32m   1775\u001b[0m \u001b[38;5;28;01mwith\u001b[39;00m request_context(request\u001b[38;5;241m=\u001b[39mrequest):\n\u001b[0;32m-> 1776\u001b[0m     response \u001b[38;5;241m=\u001b[39m \u001b[38;5;28;01mawait\u001b[39;00m transport\u001b[38;5;241m.\u001b[39mhandle_async_request(request)\n\u001b[1;32m   1778\u001b[0m \u001b[38;5;28;01massert\u001b[39;00m \u001b[38;5;28misinstance\u001b[39m(response\u001b[38;5;241m.\u001b[39mstream, AsyncByteStream)\n",
      "File \u001b[0;32m~/.venv/lib/python3.10/site-packages/httpx/_transports/default.py:376\u001b[0m, in \u001b[0;36mAsyncHTTPTransport.handle_async_request\u001b[0;34m(self, request)\u001b[0m\n\u001b[1;32m    364\u001b[0m req \u001b[38;5;241m=\u001b[39m httpcore\u001b[38;5;241m.\u001b[39mRequest(\n\u001b[1;32m    365\u001b[0m     method\u001b[38;5;241m=\u001b[39mrequest\u001b[38;5;241m.\u001b[39mmethod,\n\u001b[1;32m    366\u001b[0m     url\u001b[38;5;241m=\u001b[39mhttpcore\u001b[38;5;241m.\u001b[39mURL(\n\u001b[0;32m   (...)\u001b[0m\n\u001b[1;32m    374\u001b[0m     extensions\u001b[38;5;241m=\u001b[39mrequest\u001b[38;5;241m.\u001b[39mextensions,\n\u001b[1;32m    375\u001b[0m )\n\u001b[0;32m--> 376\u001b[0m \u001b[38;5;28;01mwith\u001b[39;00m map_httpcore_exceptions():\n\u001b[1;32m    377\u001b[0m     resp \u001b[38;5;241m=\u001b[39m \u001b[38;5;28;01mawait\u001b[39;00m \u001b[38;5;28mself\u001b[39m\u001b[38;5;241m.\u001b[39m_pool\u001b[38;5;241m.\u001b[39mhandle_async_request(req)\n",
      "File \u001b[0;32m/usr/local/lib/python3.10/contextlib.py:153\u001b[0m, in \u001b[0;36m_GeneratorContextManager.__exit__\u001b[0;34m(self, typ, value, traceback)\u001b[0m\n\u001b[1;32m    152\u001b[0m \u001b[38;5;28;01mtry\u001b[39;00m:\n\u001b[0;32m--> 153\u001b[0m     \u001b[38;5;28;43mself\u001b[39;49m\u001b[38;5;241;43m.\u001b[39;49m\u001b[43mgen\u001b[49m\u001b[38;5;241;43m.\u001b[39;49m\u001b[43mthrow\u001b[49m\u001b[43m(\u001b[49m\u001b[43mtyp\u001b[49m\u001b[43m,\u001b[49m\u001b[43m \u001b[49m\u001b[43mvalue\u001b[49m\u001b[43m,\u001b[49m\u001b[43m \u001b[49m\u001b[43mtraceback\u001b[49m\u001b[43m)\u001b[49m\n\u001b[1;32m    154\u001b[0m \u001b[38;5;28;01mexcept\u001b[39;00m \u001b[38;5;167;01mStopIteration\u001b[39;00m \u001b[38;5;28;01mas\u001b[39;00m exc:\n\u001b[1;32m    155\u001b[0m     \u001b[38;5;66;03m# Suppress StopIteration *unless* it's the same exception that\u001b[39;00m\n\u001b[1;32m    156\u001b[0m     \u001b[38;5;66;03m# was passed to throw().  This prevents a StopIteration\u001b[39;00m\n\u001b[1;32m    157\u001b[0m     \u001b[38;5;66;03m# raised inside the \"with\" statement from being suppressed.\u001b[39;00m\n",
      "File \u001b[0;32m~/.venv/lib/python3.10/site-packages/httpx/_transports/default.py:89\u001b[0m, in \u001b[0;36mmap_httpcore_exceptions\u001b[0;34m()\u001b[0m\n\u001b[1;32m     88\u001b[0m message \u001b[38;5;241m=\u001b[39m \u001b[38;5;28mstr\u001b[39m(exc)\n\u001b[0;32m---> 89\u001b[0m \u001b[38;5;28;01mraise\u001b[39;00m mapped_exc(message) \u001b[38;5;28;01mfrom\u001b[39;00m \u001b[38;5;21;01mexc\u001b[39;00m\n",
      "\u001b[0;31mConnectError\u001b[0m: [Errno -2] Name or service not known",
      "\nDuring handling of the above exception, another exception occurred:\n",
      "\u001b[0;31mException\u001b[0m                                 Traceback (most recent call last)",
      "Cell \u001b[0;32mIn[1], line 28\u001b[0m\n\u001b[1;32m     26\u001b[0m handler\u001b[38;5;241m.\u001b[39mtool_prompts \u001b[38;5;241m=\u001b[39m{ \u001b[38;5;124m\"\u001b[39m\u001b[38;5;124mretrieval\u001b[39m\u001b[38;5;124m\"\u001b[39m: \u001b[38;5;124m\"\u001b[39m\u001b[38;5;124m👩‍🔬, use only the information provided to you by the user to answer the user\u001b[39m\u001b[38;5;124m'\u001b[39m\u001b[38;5;124m'\u001b[39m\u001b[38;5;124ms question. \u001b[39m\u001b[38;5;130;01m\\n\u001b[39;00m\u001b[38;5;124m            If the information is insufficient for 👩‍🔬 to derive an answer, just say \u001b[39m\u001b[38;5;124m'\u001b[39m\u001b[38;5;124m'\u001b[39m\u001b[38;5;124mI cannot find relevant information in my document store to answer the question correctly.\u001b[39m\u001b[38;5;124m'\u001b[39m\u001b[38;5;124m'\u001b[39m\u001b[38;5;124m \u001b[39m\u001b[38;5;130;01m\\n\u001b[39;00m\u001b[38;5;124m            👩‍🔬 is to provide an in-depth analysis to the question based only on the information provided by the user and nothing more.\u001b[39m\u001b[38;5;130;01m\\n\u001b[39;00m\u001b[38;5;124m            👩‍🔬 will give a real-life example to support illustrating your point and contrasting it with a counter-example. \u001b[39m\u001b[38;5;130;01m\\n\u001b[39;00m\u001b[38;5;124m            👩‍🔬 will also proofread and edit the content before responding. \u001b[39m\u001b[38;5;130;01m\\n\u001b[39;00m\u001b[38;5;124m            👩‍🔬 will provide your own reasoned subjective perspective, noting where your view differs from or expands on the contents.\u001b[39m\u001b[38;5;130;01m\\n\u001b[39;00m\u001b[38;5;124m            Rules:\u001b[39m\u001b[38;5;130;01m\\n\u001b[39;00m\u001b[38;5;124m                - Consolidate the materials provided by the user and then organise them point by point.\u001b[39m\u001b[38;5;130;01m\\n\u001b[39;00m\u001b[38;5;124m                - Provide as much details as you can extract from the materials provided by the user.\u001b[39m\u001b[38;5;130;01m\\n\u001b[39;00m\u001b[38;5;124m                - Begin your report by saying `According to my document store,...`\u001b[39m\u001b[38;5;130;01m\\n\u001b[39;00m\u001b[38;5;124m                - Always provide your answers in point form.\u001b[39m\u001b[38;5;124m\"\u001b[39m}\n\u001b[1;32m     27\u001b[0m handler\u001b[38;5;241m.\u001b[39mn_rag\u001b[38;5;241m=\u001b[39m\u001b[38;5;241m2\u001b[39m\n\u001b[0;32m---> 28\u001b[0m \u001b[43mhandler\u001b[49m\u001b[38;5;241;43m.\u001b[39;49m\u001b[43mon_RETRIEVAL\u001b[49m\u001b[43m(\u001b[49m\u001b[43m)\u001b[49m\n\u001b[1;32m     30\u001b[0m \u001b[38;5;28;01mfrom\u001b[39;00m \u001b[38;5;21;01mgai\u001b[39;00m\u001b[38;5;21;01m.\u001b[39;00m\u001b[38;5;21;01mlib\u001b[39;00m\u001b[38;5;21;01m.\u001b[39;00m\u001b[38;5;21;01mcommon\u001b[39;00m\u001b[38;5;21;01m.\u001b[39;00m\u001b[38;5;21;01mnotebook\u001b[39;00m \u001b[38;5;28;01mimport\u001b[39;00m highlight\n\u001b[1;32m     31\u001b[0m \u001b[38;5;28;01mfor\u001b[39;00m i \u001b[38;5;129;01min\u001b[39;00m \u001b[38;5;28mrange\u001b[39m(handler\u001b[38;5;241m.\u001b[39mn_rag):\n",
      "File \u001b[0;32m/workspaces/gai/gai-persona/src/gai/persona/fsm/handlers/use_RETRIEVAL_handler.py:56\u001b[0m, in \u001b[0;36muse_RETRIEVAL_handler.on_RETRIEVAL\u001b[0;34m(self)\u001b[0m\n\u001b[1;32m     53\u001b[0m \u001b[38;5;28;01mif\u001b[39;00m \u001b[38;5;28mhasattr\u001b[39m(\u001b[38;5;28mself\u001b[39m, \u001b[38;5;124m\"\u001b[39m\u001b[38;5;124mn_rag\u001b[39m\u001b[38;5;124m\"\u001b[39m):\n\u001b[1;32m     54\u001b[0m     n_results \u001b[38;5;241m=\u001b[39m \u001b[38;5;28mself\u001b[39m\u001b[38;5;241m.\u001b[39mn_rag\n\u001b[0;32m---> 56\u001b[0m \u001b[38;5;28mself\u001b[39m\u001b[38;5;241m.\u001b[39mchunks \u001b[38;5;241m=\u001b[39m \u001b[38;5;28;43mself\u001b[39;49m\u001b[38;5;241;43m.\u001b[39;49m\u001b[43mhandle_RETRIEVAL\u001b[49m\u001b[43m(\u001b[49m\n\u001b[1;32m     57\u001b[0m \u001b[43m    \u001b[49m\u001b[43mrag\u001b[49m\u001b[38;5;241;43m=\u001b[39;49m\u001b[43mrag\u001b[49m\u001b[43m,\u001b[49m\u001b[43m \u001b[49m\n\u001b[1;32m     58\u001b[0m \u001b[43m    \u001b[49m\u001b[43mcollection_name\u001b[49m\u001b[38;5;241;43m=\u001b[39;49m\u001b[43mcollection_name\u001b[49m\u001b[43m,\u001b[49m\u001b[43m \u001b[49m\n\u001b[1;32m     59\u001b[0m \u001b[43m    \u001b[49m\u001b[43msearch_query\u001b[49m\u001b[38;5;241;43m=\u001b[39;49m\u001b[43muser_message\u001b[49m\u001b[43m,\u001b[49m\n\u001b[1;32m     60\u001b[0m \u001b[43m    \u001b[49m\u001b[43mn_rag\u001b[49m\u001b[38;5;241;43m=\u001b[39;49m\u001b[43mn_rag\u001b[49m\u001b[43m)\u001b[49m\n\u001b[1;32m     61\u001b[0m \u001b[38;5;28mself\u001b[39m\u001b[38;5;241m.\u001b[39mcontent\u001b[38;5;241m=\u001b[39m\u001b[38;5;28mself\u001b[39m\u001b[38;5;241m.\u001b[39mchunks\n\u001b[1;32m     63\u001b[0m \u001b[38;5;66;03m# Prepare for GENERATE (aka tool_prompt)\u001b[39;00m\n\u001b[1;32m     64\u001b[0m \u001b[38;5;66;03m# system_prompt = \"\"\"👩‍🔬, use only the information provided to you by the user to answer the user''s question. \u001b[39;00m\n\u001b[1;32m     65\u001b[0m \u001b[38;5;66;03m#     If the information is insufficient for 👩‍🔬 to derive an answer, just say ''I cannot find relevant information in my document store to answer the question correctly.'' \u001b[39;00m\n\u001b[0;32m   (...)\u001b[0m\n\u001b[1;32m     74\u001b[0m \u001b[38;5;66;03m#         - Always provide your answers in point form.\u001b[39;00m\n\u001b[1;32m     75\u001b[0m \u001b[38;5;66;03m#     \"\"\"\u001b[39;00m\n",
      "File \u001b[0;32m/workspaces/gai/gai-persona/src/gai/persona/fsm/handlers/use_RETRIEVAL_handler.py:21\u001b[0m, in \u001b[0;36muse_RETRIEVAL_handler.handle_RETRIEVAL\u001b[0;34m(self, rag, collection_name, search_query, n_rag)\u001b[0m\n\u001b[1;32m     19\u001b[0m     \u001b[38;5;28;01mimport\u001b[39;00m \u001b[38;5;21;01mnest_asyncio\u001b[39;00m\n\u001b[1;32m     20\u001b[0m     nest_asyncio\u001b[38;5;241m.\u001b[39mapply()\n\u001b[0;32m---> 21\u001b[0m     \u001b[38;5;28;01mreturn\u001b[39;00m \u001b[43masyncio\u001b[49m\u001b[38;5;241;43m.\u001b[39;49m\u001b[43mrun\u001b[49m\u001b[43m(\u001b[49m\u001b[43masyncio\u001b[49m\u001b[38;5;241;43m.\u001b[39;49m\u001b[43mcreate_task\u001b[49m\u001b[43m(\u001b[49m\u001b[38;5;28;43mself\u001b[39;49m\u001b[38;5;241;43m.\u001b[39;49m\u001b[43m_retrieve\u001b[49m\u001b[43m(\u001b[49m\u001b[43mrag\u001b[49m\u001b[43m,\u001b[49m\u001b[43m \u001b[49m\u001b[43mcollection_name\u001b[49m\u001b[43m,\u001b[49m\u001b[43m \u001b[49m\u001b[43msearch_query\u001b[49m\u001b[43m,\u001b[49m\u001b[43m \u001b[49m\u001b[43mn_rag\u001b[49m\u001b[43m)\u001b[49m\u001b[43m)\u001b[49m\u001b[43m)\u001b[49m\n\u001b[1;32m     22\u001b[0m \u001b[38;5;28;01melse\u001b[39;00m:\n\u001b[1;32m     23\u001b[0m     \u001b[38;5;66;03m# No running loop, safe to use asyncio.run\u001b[39;00m\n\u001b[1;32m     24\u001b[0m     \u001b[38;5;28;01mreturn\u001b[39;00m asyncio\u001b[38;5;241m.\u001b[39mrun(\u001b[38;5;28mself\u001b[39m\u001b[38;5;241m.\u001b[39m_retrieve(rag, collection_name, search_query, n_rag))\n",
      "File \u001b[0;32m~/.venv/lib/python3.10/site-packages/nest_asyncio.py:30\u001b[0m, in \u001b[0;36m_patch_asyncio.<locals>.run\u001b[0;34m(main, debug)\u001b[0m\n\u001b[1;32m     28\u001b[0m task \u001b[38;5;241m=\u001b[39m asyncio\u001b[38;5;241m.\u001b[39mensure_future(main)\n\u001b[1;32m     29\u001b[0m \u001b[38;5;28;01mtry\u001b[39;00m:\n\u001b[0;32m---> 30\u001b[0m     \u001b[38;5;28;01mreturn\u001b[39;00m \u001b[43mloop\u001b[49m\u001b[38;5;241;43m.\u001b[39;49m\u001b[43mrun_until_complete\u001b[49m\u001b[43m(\u001b[49m\u001b[43mtask\u001b[49m\u001b[43m)\u001b[49m\n\u001b[1;32m     31\u001b[0m \u001b[38;5;28;01mfinally\u001b[39;00m:\n\u001b[1;32m     32\u001b[0m     \u001b[38;5;28;01mif\u001b[39;00m \u001b[38;5;129;01mnot\u001b[39;00m task\u001b[38;5;241m.\u001b[39mdone():\n",
      "File \u001b[0;32m~/.venv/lib/python3.10/site-packages/nest_asyncio.py:98\u001b[0m, in \u001b[0;36m_patch_loop.<locals>.run_until_complete\u001b[0;34m(self, future)\u001b[0m\n\u001b[1;32m     95\u001b[0m \u001b[38;5;28;01mif\u001b[39;00m \u001b[38;5;129;01mnot\u001b[39;00m f\u001b[38;5;241m.\u001b[39mdone():\n\u001b[1;32m     96\u001b[0m     \u001b[38;5;28;01mraise\u001b[39;00m \u001b[38;5;167;01mRuntimeError\u001b[39;00m(\n\u001b[1;32m     97\u001b[0m         \u001b[38;5;124m'\u001b[39m\u001b[38;5;124mEvent loop stopped before Future completed.\u001b[39m\u001b[38;5;124m'\u001b[39m)\n\u001b[0;32m---> 98\u001b[0m \u001b[38;5;28;01mreturn\u001b[39;00m \u001b[43mf\u001b[49m\u001b[38;5;241;43m.\u001b[39;49m\u001b[43mresult\u001b[49m\u001b[43m(\u001b[49m\u001b[43m)\u001b[49m\n",
      "File \u001b[0;32m/usr/local/lib/python3.10/asyncio/futures.py:201\u001b[0m, in \u001b[0;36mFuture.result\u001b[0;34m(self)\u001b[0m\n\u001b[1;32m    199\u001b[0m \u001b[38;5;28mself\u001b[39m\u001b[38;5;241m.\u001b[39m__log_traceback \u001b[38;5;241m=\u001b[39m \u001b[38;5;28;01mFalse\u001b[39;00m\n\u001b[1;32m    200\u001b[0m \u001b[38;5;28;01mif\u001b[39;00m \u001b[38;5;28mself\u001b[39m\u001b[38;5;241m.\u001b[39m_exception \u001b[38;5;129;01mis\u001b[39;00m \u001b[38;5;129;01mnot\u001b[39;00m \u001b[38;5;28;01mNone\u001b[39;00m:\n\u001b[0;32m--> 201\u001b[0m     \u001b[38;5;28;01mraise\u001b[39;00m \u001b[38;5;28mself\u001b[39m\u001b[38;5;241m.\u001b[39m_exception\u001b[38;5;241m.\u001b[39mwith_traceback(\u001b[38;5;28mself\u001b[39m\u001b[38;5;241m.\u001b[39m_exception_tb)\n\u001b[1;32m    202\u001b[0m \u001b[38;5;28;01mreturn\u001b[39;00m \u001b[38;5;28mself\u001b[39m\u001b[38;5;241m.\u001b[39m_result\n",
      "File \u001b[0;32m/usr/local/lib/python3.10/asyncio/tasks.py:234\u001b[0m, in \u001b[0;36mTask.__step\u001b[0;34m(***failed resolving arguments***)\u001b[0m\n\u001b[1;32m    232\u001b[0m         result \u001b[38;5;241m=\u001b[39m coro\u001b[38;5;241m.\u001b[39msend(\u001b[38;5;28;01mNone\u001b[39;00m)\n\u001b[1;32m    233\u001b[0m     \u001b[38;5;28;01melse\u001b[39;00m:\n\u001b[0;32m--> 234\u001b[0m         result \u001b[38;5;241m=\u001b[39m \u001b[43mcoro\u001b[49m\u001b[38;5;241;43m.\u001b[39;49m\u001b[43mthrow\u001b[49m\u001b[43m(\u001b[49m\u001b[43mexc\u001b[49m\u001b[43m)\u001b[49m\n\u001b[1;32m    235\u001b[0m \u001b[38;5;28;01mexcept\u001b[39;00m \u001b[38;5;167;01mStopIteration\u001b[39;00m \u001b[38;5;28;01mas\u001b[39;00m exc:\n\u001b[1;32m    236\u001b[0m     \u001b[38;5;28;01mif\u001b[39;00m \u001b[38;5;28mself\u001b[39m\u001b[38;5;241m.\u001b[39m_must_cancel:\n\u001b[1;32m    237\u001b[0m         \u001b[38;5;66;03m# Task is cancelled right before coro stops.\u001b[39;00m\n",
      "File \u001b[0;32m/workspaces/gai/gai-persona/src/gai/persona/fsm/handlers/use_RETRIEVAL_handler.py:28\u001b[0m, in \u001b[0;36muse_RETRIEVAL_handler._retrieve\u001b[0;34m(self, rag, collection_name, search_query, n_rag)\u001b[0m\n\u001b[1;32m     27\u001b[0m \u001b[38;5;28;01masync\u001b[39;00m \u001b[38;5;28;01mdef\u001b[39;00m \u001b[38;5;21m_retrieve\u001b[39m(\u001b[38;5;28mself\u001b[39m, rag: RagClientAsync, collection_name: \u001b[38;5;28mstr\u001b[39m, search_query: \u001b[38;5;28mstr\u001b[39m, n_rag: \u001b[38;5;28mint\u001b[39m):\n\u001b[0;32m---> 28\u001b[0m     response \u001b[38;5;241m=\u001b[39m \u001b[38;5;28;01mawait\u001b[39;00m rag\u001b[38;5;241m.\u001b[39mretrieve_async(collection_name\u001b[38;5;241m=\u001b[39mcollection_name, query_texts\u001b[38;5;241m=\u001b[39msearch_query, n_results\u001b[38;5;241m=\u001b[39mn_rag)\n\u001b[1;32m     30\u001b[0m     \u001b[38;5;28;01mif\u001b[39;00m \u001b[38;5;129;01mnot\u001b[39;00m response:\n\u001b[1;32m     31\u001b[0m         \u001b[38;5;28;01mraise\u001b[39;00m \u001b[38;5;167;01mException\u001b[39;00m(\u001b[38;5;124m\"\u001b[39m\u001b[38;5;124mon_Retrieve_Text: No documents retrieved.\u001b[39m\u001b[38;5;124m\"\u001b[39m)\n",
      "File \u001b[0;32m~/.venv/lib/python3.10/site-packages/gai/rag/client/rag_client_async.py:218\u001b[0m, in \u001b[0;36mRagClientAsync.retrieve_async\u001b[0;34m(self, collection_name, query_texts, n_results)\u001b[0m\n\u001b[1;32m    215\u001b[0m \u001b[38;5;28;01mif\u001b[39;00m n_results:\n\u001b[1;32m    216\u001b[0m     data[\u001b[38;5;124m\"\u001b[39m\u001b[38;5;124mn_results\u001b[39m\u001b[38;5;124m\"\u001b[39m] \u001b[38;5;241m=\u001b[39m n_results\n\u001b[0;32m--> 218\u001b[0m response \u001b[38;5;241m=\u001b[39m \u001b[38;5;28;01mawait\u001b[39;00m http_post_async(url, data\u001b[38;5;241m=\u001b[39mdata)\n\u001b[1;32m    219\u001b[0m \u001b[38;5;28;01mreturn\u001b[39;00m response\u001b[38;5;241m.\u001b[39mjson()[\u001b[38;5;124m\"\u001b[39m\u001b[38;5;124mretrieved\u001b[39m\u001b[38;5;124m\"\u001b[39m]\n",
      "File \u001b[0;32m~/.venv/lib/python3.10/site-packages/gai/lib/common/http_utils.py:201\u001b[0m, in \u001b[0;36mhttp_post_async\u001b[0;34m(url, data, files, timeout)\u001b[0m\n\u001b[1;32m    198\u001b[0m         \u001b[38;5;28;01mawait\u001b[39;00m _handle_failed_response_async(response)\n\u001b[1;32m    200\u001b[0m \u001b[38;5;28;01mexcept\u001b[39;00m httpx\u001b[38;5;241m.\u001b[39mConnectError \u001b[38;5;28;01mas\u001b[39;00m e:\n\u001b[0;32m--> 201\u001b[0m     \u001b[38;5;28;01mraise\u001b[39;00m \u001b[38;5;167;01mException\u001b[39;00m(\u001b[38;5;124m\"\u001b[39m\u001b[38;5;124mConnection Error. Is the service Running?\u001b[39m\u001b[38;5;124m\"\u001b[39m)\n\u001b[1;32m    202\u001b[0m \u001b[38;5;28;01mexcept\u001b[39;00m \u001b[38;5;167;01mException\u001b[39;00m \u001b[38;5;28;01mas\u001b[39;00m e:\n\u001b[1;32m    203\u001b[0m     logger\u001b[38;5;241m.\u001b[39merror(\u001b[38;5;124mf\u001b[39m\u001b[38;5;124m\"\u001b[39m\u001b[38;5;124mhttp_utils.http_post_async: \u001b[39m\u001b[38;5;132;01m{\u001b[39;00m\u001b[38;5;28mstr\u001b[39m(e)\u001b[38;5;132;01m}\u001b[39;00m\u001b[38;5;124m\"\u001b[39m)\n",
      "\u001b[0;31mException\u001b[0m: Connection Error. Is the service Running?"
     ]
    }
   ],
   "source": [
    "from gai.persona.fsm.handlers.use_RETRIEVAL_handler import use_RETRIEVAL_handler\n",
    "from gai.rag.client.rag_client_async import RagClientAsync\n",
    "rag=RagClientAsync({\n",
    "    \"type\": \"ttt\",\n",
    "    \"url\": \"http://gai-rag-svr:12036/gen/v1/rag\",\n",
    "})\n",
    "import nest_asyncio\n",
    "nest_asyncio.apply()\n",
    "handler = use_RETRIEVAL_handler()\n",
    "handler.rag=rag\n",
    "handler.collection_name=\"demo\"\n",
    "handler.user_message=\"Which of the stall sells char siew?\"\n",
    "# handler.tool_prompt = \"\"\"👩‍🔬, use only the information provided to you by the user to answer the user''s question. \n",
    "#             If the information is insufficient for 👩‍🔬 to derive an answer, just say ''I cannot find relevant information in my document store to answer the question correctly.'' \n",
    "#             👩‍🔬 is to provide an in-depth analysis to the question based only on the information provided by the user and nothing more.\n",
    "#             👩‍🔬 will give a real-life example to support illustrating your point and contrasting it with a counter-example. \n",
    "#             👩‍🔬 will also proofread and edit the content before responding. \n",
    "#             👩‍🔬 will provide your own reasoned subjective perspective, noting where your view differs from or expands on the contents.\n",
    "#             Rules:\n",
    "#                 - Consolidate the materials provided by the user and then organise them point by point.\n",
    "#                 - Provide as much details as you can extract from the materials provided by the user.\n",
    "#                 - Begin your report by saying `According to my document store,...`\n",
    "#                 - Always provide your answers in point form.\n",
    "#             \"\"\"\n",
    "handler.tool_name=\"retrieval\"\n",
    "handler.tool_prompts ={ \"retrieval\": \"👩‍🔬, use only the information provided to you by the user to answer the user''s question. \\n            If the information is insufficient for 👩‍🔬 to derive an answer, just say ''I cannot find relevant information in my document store to answer the question correctly.'' \\n            👩‍🔬 is to provide an in-depth analysis to the question based only on the information provided by the user and nothing more.\\n            👩‍🔬 will give a real-life example to support illustrating your point and contrasting it with a counter-example. \\n            👩‍🔬 will also proofread and edit the content before responding. \\n            👩‍🔬 will provide your own reasoned subjective perspective, noting where your view differs from or expands on the contents.\\n            Rules:\\n                - Consolidate the materials provided by the user and then organise them point by point.\\n                - Provide as much details as you can extract from the materials provided by the user.\\n                - Begin your report by saying `According to my document store,...`\\n                - Always provide your answers in point form.\"}\n",
    "handler.n_rag=2\n",
    "handler.on_RETRIEVAL()\n",
    "\n",
    "from gai.lib.common.notebook import highlight\n",
    "for i in range(handler.n_rag):\n",
    "    print(f\"RAG {i+1}\")\n",
    "    highlight(handler.content[i])\n",
    "\n"
   ]
  },
  {
   "cell_type": "markdown",
   "metadata": {},
   "source": [
    "b) for pdf file"
   ]
  },
  {
   "cell_type": "code",
   "execution_count": 3,
   "metadata": {},
   "outputs": [
    {
     "name": "stderr",
     "output_type": "stream",
     "text": [
      "\u001b[45m\u001b[30mDEBUG   \u001b[0m \u001b[35mhttppost:url=http://localhost:12036/gen/v1/rag/index-file\u001b[0m\n",
      "\u001b[45m\u001b[30mDEBUG   \u001b[0m \u001b[35mhttppost:data=None\u001b[0m\n",
      "\u001b[45m\u001b[30mDEBUG   \u001b[0m \u001b[35mhttppost:files={'file': ('ReAct-2210.03629.pdf',\n",
      "          <_io.BufferedReader name='/home/kakkoii1337/github/kakkoii1337/gai-core/gai-sdk/gai-persona/tests/integration_test/2_handlers/ReAct-2210.03629.pdf'>,\n",
      "          'application/pdf'),\n",
      " 'req': (None,\n",
      "         '{\"Id\":null,\"CollectionName\":\"demo\",\"FilePath\":\"/home/kakkoii1337/github/kakkoii1337/gai-core/gai-sdk/gai-persona/tests/integration_test/2_handlers/ReAct-2210.03629.pdf\",\"FileType\":\"\",\"Source\":\"\",\"ByteSize\":null,\"Title\":\"\",\"Abstract\":null,\"Authors\":\"\",\"Publisher\":\"\",\"PublishedDate\":\"\",\"Comments\":\"\",\"Keywords\":\"\",\"ChunkGroupId\":null,\"ChunkSize\":null,\"ChunkOverlap\":null,\"ChunkCount\":null}',\n",
      "         'application/json')}\u001b[0m\n"
     ]
    },
    {
     "data": {
      "text/plain": [
       "IndexedDocChunkIdsPydantic(DocumentId='Mm1GAmuGfs3VoA2sit0njabQGAZ75eyfszIkAxGY5e4', ChunkgroupId='b4180ce8-457e-4991-82c3-c33f3505ad47', ChunkIds=['1b385a56-df55-4c24-86c0-046c2b2751b2', '5d5190df-0cac-4007-953b-c3964bdea8a0', '6a9419ae-ee7a-4276-bde6-a48552c5fa40', '7f58f767-8c90-4455-811a-417d94249c32', '0b02b46d-801d-4609-bdd3-275d98b96517', '71320334-412a-4d7b-bbea-624bf11a1f3d', 'cd99348e-9b3a-43f8-b8d8-06852cfdbb82', '7432ff5f-dd21-4f34-a6c3-4982a9667fb2', '4dc622f2-d93d-4249-97ab-5210d956fcae', 'a32bfbf1-1689-431e-b14f-58cc215cecdd', '5a1f765a-287a-4ba3-94bf-2c5210aaf6b5', '9c1a62b7-4080-4c56-860a-4f22ff2b8063', '2cf20fa1-b349-46b2-93ed-7e9f27679929', '67bdcbf8-a054-4b72-92ca-c8dec67e5d36', 'c2b192a9-6ae2-4842-93b4-5a57ca3ef5ce', '87d1da90-4944-44cc-b8bc-218a7fbb6672', '0832b901-acad-44cb-884d-b0a86ca575e2', 'bc45e2a5-adb6-4b26-be2d-2a2688bc4b0e', '9f4aa68b-88a4-42a6-9bbb-0d31cea02d66', '52788e81-a4e8-491e-9668-f98427691a9b', '40593e76-86a2-46d2-a335-cba87e311c1f', 'aa8bd17e-176e-4275-9269-911abfa490c1', '23088abf-1c50-4394-90fb-a4e4f66936d3', '6e01f52d-cb25-495d-a14d-b889b40d5cfe', '3fc6e7f2-491b-4b0e-8b5e-b5b0cd91a196', '9e2a1d71-12f8-451e-abe1-12c8e95f3e85', 'de2b97c7-09df-463a-a51e-7b53e234d184', 'f4303b47-030b-4f2c-b33f-7992b241c5b5', '1bc87481-da3d-4558-92e7-934313b2ddc2', '799dbb10-c7ed-4baf-a6fe-e5d401ca4e6d', '8d99a82f-cbe3-4819-9acb-b1f824bed51b', '575cba3f-71b4-4193-adc4-f6e55065c678', 'd0dde02a-4804-49d2-876c-bd021388ec61', '932caead-ea5d-4f95-87f7-54a0a2b7b6b6', '043e84d1-102b-4bc6-bc81-629342300e32', 'e66479c1-fbe7-4e82-ab1e-66f3f385d4b1', '18b4cf1c-6f8e-45a6-9f14-1c9eacd6b3c7', 'a07dc2d7-93b5-4ad1-a79e-1ffea277cb12', 'f19ac79b-b633-4685-8916-745c7bc2576d', '76595bcd-78a3-413d-aa7d-b2c6ce50ae49', '75bc880b-9f61-4287-8d70-7e7e6fe4fc56', 'cf9bb0bd-82ab-4b34-a894-833796f98a99', '8a5b6518-3f4d-4779-ae9f-85666758f343', 'befc74b3-1be6-49c9-9df3-b6764b5d4584', 'e98f5cc2-c057-4688-b874-3c83c6a0365c', '5820e0e4-1e88-48fb-8751-0b1c5c2392b8', '83ffaceb-1783-4aba-b5f1-83393e084dbd', 'f44fd890-3414-452c-8852-95d3b7480207', 'b256e3ba-bc3f-4d12-b7b1-eaaa2e150845', '3f5921f0-16a1-4fce-8948-c027c2d9b939', 'acb83c84-09e5-4949-bc92-c07ede898354', '493342f2-23ce-4dda-9061-e49fead5b543', '14af4e5e-b8b8-42b0-98a2-aed7fa956f1e', '7a886ea4-7653-427c-91ef-8d2c26fee2b9', '8c6388a1-8eb4-4f43-ae9d-dbad09272230', 'd3bc13d0-356e-445f-8128-00ff79b0e41a', '64c4fe83-b2d1-41c2-9cc5-a1490101c650', '524d6321-ca01-402c-825e-c80ec8cef5ae', 'aab622a6-98c0-4c47-b56f-123aad6cbc8f', '445c9e4d-e364-43d5-80d2-52c21be48164', 'cb502c2a-6de0-480d-bf8a-836f69e0eda4', 'e6143453-e546-4b88-a088-dd4e8b836b8f', '123c86ae-4435-4cb6-91e6-348b418a954c', 'c0d9042e-ef68-448e-b6e0-33bdebdea540', 'e60de344-33a0-4044-a60c-3bf11bd6c0da', 'd17edfa5-3901-42de-8d70-0dc92a19b78b', '1939af8f-e306-4ae8-a02a-7822d87a536e', 'e75f7c2d-2e35-4381-aa75-bb88afb1a01e', '5aaae925-46d2-496b-813b-8a904892f95c', '321cf028-4226-48b2-b30f-88b31a092e3d', '65206dc3-622a-4c81-9b96-7d0b67db469e', 'b999b59b-2a5f-4e32-b24e-683fdd97001a', 'c3945abb-f0ce-425b-af9d-0f766b97bf4d', 'f6ba47bf-5570-4167-9c75-bf2aea4bb7c4', '041a451f-1464-4a96-b6c9-09a897b912c1', '539643e8-ce25-4b51-91f6-1e6e2d0ac16b', '3f95e6ba-0244-414c-99f6-179d6aefb820', 'a48edffa-76e6-4c57-a14b-a1fcf1b0f696', '4140564d-3982-4378-9be7-b4ae332869de', '32c7b24e-a203-44d6-8b89-d1e66da1a58f', 'c49e59a3-37e2-4857-bab8-675782e33ef4', '5e9e92d2-3a75-424d-a4da-100b1bf36bb3', '8de8ae31-5416-42df-8b14-c296d7a5e599', '0386fbb4-953b-4191-8bb4-80071969a3fd', '79f61244-e753-4bf5-9f0c-14b999c79a6e', 'a376fcf9-c8db-42e8-8254-a20b78af3ff8', '866b8d0a-59a9-49bf-a0bc-7b9217b7d8d5', 'dfa490b2-1083-4f64-90fe-c42133c35a62', '95b929e5-2920-4b05-8862-7704ed38fa81', 'c0a6a500-db0f-424b-a861-d65851896537', '10e96e88-bf82-4d82-8cad-177572f6a3eb', '7f5e5e0f-6223-4bba-8aba-827a5ffda53e', '795e2c60-6d7b-4751-87ef-383804aff9c2', '9dfc6a4b-b725-4631-9984-4f9e12ead324', '7f518fc5-67d4-4802-8ebf-f674f45504c9', 'c614bdde-d2c8-4dfe-a078-f461b444ad6e', '439a15d6-eac6-4707-abdf-4bff4dc980c9', '96c0d920-f7b1-47bc-9e59-c81c1fc6776e', 'd0f3d3b5-f4ef-4925-8671-f0a7f9c63878', '327ee2cb-a82b-4345-b759-f03a08317452', 'c17c362b-16ef-4b31-bbfd-b870cf2ddc9a', '7e7e3eba-8356-494c-a751-74866f7e1ea8', '6ab5e5f5-7af9-41e3-a74d-680022d01540', 'ac5e4dfb-dd63-4cfb-b2b6-474557327ba7', '308b12c4-10b5-41ee-adad-6e1cce610791', 'fb41d273-b83d-4004-a81b-e9387ee7f84e', '97422dab-14a1-4754-92b4-6d901821cda2', '15b12fe1-706b-4815-b4b1-2efa3308fe71', 'd0f0263d-ce2b-458f-9a49-7af10749edcb', 'b00b63b7-b355-47bb-85d1-be7e69571911', 'c9f73ac2-1e3b-47c6-ba16-06e2cec88cb0', 'd2105f34-b6e0-439d-9768-a12f652b47c1', '98a86265-0482-457a-868d-4a8e53586c88', '1dd3db5a-0fbf-4bef-83d6-4510d8a9edcd'])"
      ]
     },
     "execution_count": 3,
     "metadata": {},
     "output_type": "execute_result"
    }
   ],
   "source": [
    "# Index test doc\n",
    "import os\n",
    "os.environ[\"LOG_LEVEL\"]=\"DEBUG\"\n",
    "\n",
    "from gai.rag.client.rag_client_async import RagClientAsync\n",
    "rag = RagClientAsync({\n",
    "    \"type\": \"rag\",\n",
    "    \"url\": \"http://localhost:12036/gen/v1/rag\",\n",
    "    \"ws_url\": \"ws://localhost:12036/gen/v1/rag/index-file/ws\"\n",
    "})\n",
    "cwd = os.getcwd()\n",
    "\n",
    "await rag.index_document_async(collection_name=\"demo\", file_path=f\"{cwd}/ReAct-2210.03629.pdf\")"
   ]
  },
  {
   "cell_type": "code",
   "execution_count": 4,
   "metadata": {},
   "outputs": [
    {
     "name": "stderr",
     "output_type": "stream",
     "text": [
      "\u001b[45m\u001b[30mDEBUG   \u001b[0m \u001b[35mhttppost:url=http://localhost:12036/gen/v1/rag/retrieve\u001b[0m\n",
      "\u001b[45m\u001b[30mDEBUG   \u001b[0m \u001b[35mhttppost:data={'collection_name': 'demo',\n",
      " 'n_results': 4,\n",
      " 'query_texts': 'How does REACT differ from Chain-of-thought?'}\u001b[0m\n",
      "\u001b[45m\u001b[30mDEBUG   \u001b[0m \u001b[35mhttppost:files=None\u001b[0m\n"
     ]
    },
    {
     "name": "stdout",
     "output_type": "stream",
     "text": [
      "RAG 1\n"
     ]
    },
    {
     "data": {
      "text/html": [
       "<font color=\"yellow\">within a closed-loop system. Perhaps the closest prior work is Inner Monologue (IM), from Huang et al. (2022b), in which actions from an embodied agent are motivated by an eponymous “inner monologue”. However, IM’s “inner monologue” is limited to observations of the environment state and what needs to be completed by the agent for the goal to be satisﬁed. In contrast, the reasoning traces in ReAct for decision making is ﬂexible and sparse, allowing diverse reasoning types (see Section 2) to be induced for different tasks. To demonstrate the differences between ReAct and IM, and to highlight the importance of internal reasoning vs. simple reactions to external feedback, we ran an ablation experiment using a thought pattern composed of IM-like dense external feedback. As can be seen in Table 3, ReAct substantially outperforms IM-style prompting (ReAct-IM) (71 vs. 53 overall success rate), with consistent advantages on ﬁve out of six tasks. Qualitatively, we observed that ReAct-IM often</font>"
      ],
      "text/plain": [
       "<IPython.core.display.HTML object>"
      ]
     },
     "metadata": {},
     "output_type": "display_data"
    },
    {
     "name": "stdout",
     "output_type": "stream",
     "text": [
      "RAG 2\n"
     ]
    },
    {
     "data": {
      "text/html": [
       "<font color=\"yellow\">on how reasoning and acting can be combined in a synergistic manner for general task solving, and if such a combination can bring systematic beneﬁts compared to reasoning or acting alone. In this work, we present ReAct, a general paradigm to combine reasoning and acting with language models for solving diverse language reasoning and decision making tasks (Figure 1). ReAct prompts LLMs to generate both verbal reasoning traces and actions pertaining to a task in an interleaved manner, which allows the model to perform dynamic reasoning to create, maintain, and adjust high-level plans for acting (reason to act), while also interact with the external environments (e.g. Wikipedia) to incorporate additional information into reasoning (act to reason). 2 Published as a conference paper at ICLR 2023 We conduct empirical evaluations of ReAct and state-of-the-art baselines on four diverse benchmarks: question answering (HotPotQA, Yang et al., 2018), fact veriﬁcation (Fever, Thorne et al., 2018),</font>"
      ],
      "text/plain": [
       "<IPython.core.display.HTML object>"
      ]
     },
     "metadata": {},
     "output_type": "display_data"
    }
   ],
   "source": [
    "from gai.persona.fsm.handlers.use_RETRIEVAL_handler import use_RETRIEVAL_handler\n",
    "from gai.rag.client.rag_client_async import RagClientAsync\n",
    "rag=RagClientAsync({\n",
    "    \"type\": \"ttt\",\n",
    "    \"url\": \"http://localhost:12036/gen/v1/rag\",\n",
    "})\n",
    "import nest_asyncio\n",
    "nest_asyncio.apply()\n",
    "handler = use_RETRIEVAL_handler()\n",
    "handler.rag=rag\n",
    "handler.collection_name=\"demo\"\n",
    "handler.user_message=\"How does REACT differ from Chain-of-thought?\"\n",
    "handler.tool_name=\"retrieval\"\n",
    "handler.tool_prompts ={ \"retrieval\": \"👩‍🔬, use only the information provided to you by the user to answer the user''s question. \\n            If the information is insufficient for 👩‍🔬 to derive an answer, just say ''I cannot find relevant information in my document store to answer the question correctly.'' \\n            👩‍🔬 is to provide an in-depth analysis to the question based only on the information provided by the user and nothing more.\\n            👩‍🔬 will give a real-life example to support illustrating your point and contrasting it with a counter-example. \\n            👩‍🔬 will also proofread and edit the content before responding. \\n            👩‍🔬 will provide your own reasoned subjective perspective, noting where your view differs from or expands on the contents.\\n            Rules:\\n                - Consolidate the materials provided by the user and then organise them point by point.\\n                - Provide as much details as you can extract from the materials provided by the user.\\n                - Begin your report by saying `According to my document store,...`\\n                - Always provide your answers in point form.\"}\n",
    "handler.n_rag=2\n",
    "handler.on_RETRIEVAL()\n",
    "\n",
    "from gai.lib.common.notebook import highlight\n",
    "for i in range(handler.n_rag):\n",
    "    print(f\"RAG {i+1}\")\n",
    "    highlight(handler.content[i])\n",
    "\n"
   ]
  }
 ],
 "metadata": {
  "kernelspec": {
   "display_name": ".venv",
   "language": "python",
   "name": "python3"
  },
  "language_info": {
   "codemirror_mode": {
    "name": "ipython",
    "version": 3
   },
   "file_extension": ".py",
   "mimetype": "text/x-python",
   "name": "python",
   "nbconvert_exporter": "python",
   "pygments_lexer": "ipython3",
   "version": "3.10.14"
  }
 },
 "nbformat": 4,
 "nbformat_minor": 2
}
