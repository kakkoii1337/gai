{
 "cells": [
  {
   "cell_type": "markdown",
   "metadata": {},
   "source": [
    "### on_SCRAPE_handler"
   ]
  },
  {
   "cell_type": "code",
   "execution_count": 1,
   "metadata": {},
   "outputs": [
    {
     "name": "stderr",
     "output_type": "stream",
     "text": [
      "\u001b[42m\u001b[30mINFO    \u001b[0m \u001b[32mon_SCRAPE_handler: scraped https://guide.michelin.com/sg/en/best-of/where-to-find-the-best-chicken-rice-in-singapore\u001b[0m\n",
      "\u001b[42m\u001b[30mINFO    \u001b[0m \u001b[32mon_SCRAPE_handler: scraped https://guide.michelin.com/sg/en/singapore-region/singapore/restaurant/tian-tian-hainanese-chicken-rice\u001b[0m\n",
      "\u001b[42m\u001b[30mINFO    \u001b[0m \u001b[32mon_SCRAPE_handler: scraped https://guide.michelin.com/th/en/singapore-region/singapore/restaurant/ji-de-lai-hainanese-chicken-rice\u001b[0m\n",
      "\u001b[42m\u001b[30mINFO    \u001b[0m \u001b[32mon_SCRAPE_handler: scraped https://www.reddit.com/r/askSingapore/comments/15egzfm/best_hainan_chicken_rice_in_singapore/\u001b[0m\n"
     ]
    },
    {
     "data": {
      "text/plain": [
       "['/tmp/chunks/6f88c022911c4496b8a1023db497bc53',\n",
       " '/tmp/chunks/386ecdd6df05494eba7f91821668ce48',\n",
       " '/tmp/chunks/50011c8944364d8c975fc100b596e14c',\n",
       " '/tmp/chunks/559606f630f24dfb96c2eb39972438c1']"
      ]
     },
     "execution_count": 1,
     "metadata": {},
     "output_type": "execute_result"
    }
   ],
   "source": [
    "from gai.persona.fsm.handlers.use_SCRAPE_handler import use_SCRAPE_handler\n",
    "handler = use_SCRAPE_handler()\n",
    "urls = [{'title': 'Where to Find the Best Chicken Rice in Singapore - MICHELIN Guideguide.michelin.com › best-of › where-to-find-the-best-chicken-rice-in-sing...',\n",
    "  'url': 'https://guide.michelin.com/sg/en/best-of/where-to-find-the-best-chicken-rice-in-singapore'},\n",
    " {'title': 'Tian Tian Hainanese Chicken...',\n",
    "  'url': 'https://guide.michelin.com/sg/en/singapore-region/singapore/restaurant/tian-tian-hainanese-chicken-rice'},\n",
    " {'title': 'Ji De Lai Hainanese Chicken...',\n",
    "  'url': 'https://guide.michelin.com/th/en/singapore-region/singapore/restaurant/ji-de-lai-hainanese-chicken-rice'},\n",
    " {'title': 'Best Hainan chicken rice in Singapore? : r/askSingapore - Redditwww.reddit.com › askSingapore › comments › best_hainan_chicken_rice_i...',\n",
    "  'url': 'https://www.reddit.com/r/askSingapore/comments/15egzfm/best_hainan_chicken_rice_in_singapore/'}]\n",
    "urls = [link[\"url\"] for link in urls]\n",
    "scraped_dirs=handler.handle_SCRAPE(urls=urls)\n",
    "scraped_dirs"
   ]
  }
 ],
 "metadata": {
  "kernelspec": {
   "display_name": ".venv",
   "language": "python",
   "name": "python3"
  },
  "language_info": {
   "codemirror_mode": {
    "name": "ipython",
    "version": 3
   },
   "file_extension": ".py",
   "mimetype": "text/x-python",
   "name": "python",
   "nbconvert_exporter": "python",
   "pygments_lexer": "ipython3",
   "version": "3.10.14"
  }
 },
 "nbformat": 4,
 "nbformat_minor": 2
}
