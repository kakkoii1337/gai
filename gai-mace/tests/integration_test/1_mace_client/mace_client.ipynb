{
 "cells": [
  {
   "cell_type": "markdown",
   "metadata": {},
   "source": [
    "# Multi-Agent Collaboration Environment"
   ]
  },
  {
   "cell_type": "markdown",
   "metadata": {},
   "source": [
    "## 1. Roll Call\n",
    "\n",
    "This demo will show how remote agents can be discovered and participate in a multi-agent dialogue asynchronously without orchestration.\n",
    "\n",
    "Start server1:\n",
    "> python main.py --mode=node --persona=Sara\n",
    "\n",
    "Start server2:\n",
    "> python main.py --mode=node --persona=Diana\n",
    "\n",
    "Start server3:\n",
    "> python main.py --mode=node --persona=George\n"
   ]
  },
  {
   "cell_type": "code",
   "execution_count": null,
   "metadata": {},
   "outputs": [
    {
     "name": "stderr",
     "output_type": "stream",
     "text": [
      "\u001b[42m\u001b[30mINFO    \u001b[0m \u001b[32mGaiNetNode.connect: Ready.\u001b[0m\n",
      "\u001b[42m\u001b[30mINFO    \u001b[0m \u001b[32mstart rollcall\u001b[0m\n"
     ]
    },
    {
     "name": "stderr",
     "output_type": "stream",
     "text": [
      "\u001b[45m\u001b[30mDEBUG   \u001b[0m \u001b[35mmace_client.rollcall_handler: {'Name': 'Diana', 'ClassName': 'Assistant', 'AgentDescription': 'Hi there! I am an Assistant class generative AI agent.', 'AgentShortDesc': None, 'Image64': '...', 'Image128': '...'}\u001b[0m\n",
      "\u001b[45m\u001b[30mDEBUG   \u001b[0m \u001b[35mmace_client.rollcall_handler: Diana\u001b[0m\n"
     ]
    }
   ],
   "source": [
    "from gai.mace.user.mace_client import MaceClient\n",
    "from gai.lib.common.logging import getLogger\n",
    "logger = getLogger(__name__)\n",
    "user = await MaceClient.create(servers=\"nats://nats01:4222\")\n",
    "await user.subscribe()\n",
    "await user.rollcall()\n",
    "\n",
    "import base64\n",
    "import json\n",
    "from IPython.display import Image, display\n",
    "for msg in user.rollcall_messages:\n",
    "    data=json.loads(msg[\"data\"])\n",
    "    name=data[\"Name\"]\n",
    "    short_desc=data[\"AgentShortDesc\"]\n",
    "    long_desc=data[\"AgentDescription\"]\n",
    "    class_name=data[\"ClassName\"]\n",
    "    image_base64=data[\"Image128\"]\n",
    "    image_binary = base64.b64decode(image_base64)\n",
    "    print(name)\n",
    "    display(Image(data=image_binary))"
   ]
  },
  {
   "cell_type": "markdown",
   "metadata": {},
   "source": [
    "---\n",
    "## 2. Dialogue\n",
    "\n",
    "This demo will show two examples of how to orchestrate a multi-agent dialogue asynchronously using a sequence diagram.\n",
    "\n",
    "### 2a) Connecting to MACE and Setting up the UI\n"
   ]
  },
  {
   "cell_type": "code",
   "execution_count": 2,
   "metadata": {},
   "outputs": [
    {
     "name": "stderr",
     "output_type": "stream",
     "text": [
      "\u001b[42m\u001b[30mINFO    \u001b[0m \u001b[32mGaiNetNode.connect: Ready.\u001b[0m\n"
     ]
    }
   ],
   "source": [
    "# Start a connection\n",
    "\n",
    "from gai.mace.user.mace_client import MaceClient\n",
    "from gai.lib.common.logging import getLogger\n",
    "logger = getLogger(__name__)\n",
    "user = await MaceClient.create(servers=\"nats://nats01:4222\")\n",
    "await user.clear_dialogue()\n",
    "\n",
    "# Register a callback\n",
    "\n",
    "from IPython.display import display, Markdown, clear_output\n",
    "from nats.aio.msg import Msg\n",
    "import json\n",
    "from gai.mace.pydantic.FlowMessagePydantic import FlowMessagePydantic\n",
    "from gai.lib.dialogue.dialogue_store import DialogueStore\n",
    "\n",
    "displayed_output=None\n",
    "sara_text=\"\"\n",
    "diana_text=\"\"\n",
    "george_text=\"\"\n",
    "\n",
    "async def on_chat(msg: Msg):\n",
    "    global displayed_output,sara_text,diana_text,george_text\n",
    "    data = msg.data.decode()\n",
    "    data = json.loads(data)\n",
    "    pydantic = FlowMessagePydantic(**data)\n",
    "\n",
    "    # The following code is used mainly for formatting the data for display in notebook.\n",
    "\n",
    "    if pydantic.Chunk == \"\\n\":\n",
    "        pydantic.Chunk = \"<br>\"\n",
    "\n",
    "    if pydantic.Chunk:\n",
    "        if pydantic.Sender == \"Sara\":\n",
    "            sara_text+=pydantic.Chunk\n",
    "        if pydantic.Sender == \"Diana\":\n",
    "            diana_text+=pydantic.Chunk\n",
    "        if pydantic.Sender == \"George\":\n",
    "            george_text+=pydantic.Chunk\n",
    "    \n",
    "    if pydantic.ChunkNo == \"<eom>\":\n",
    "        if pydantic.Sender == \"Sara\":\n",
    "            sara_text+=\"<br><br>\"\n",
    "        if pydantic.Sender == \"Diana\":\n",
    "            diana_text+=\"<br><br>\"\n",
    "        if pydantic.Sender == \"George\":\n",
    "            george_text+=\"<br><br>\"\n",
    "\n",
    "        # Save dialogue\n",
    "        content=\"\"\n",
    "        content=user._strip_xml(content)\n",
    "        message_id=DialogueStore.create_message_id(pydantic.DialogueId,pydantic.RoundNo,pydantic.TurnNo,\"B\")\n",
    "        MaceClient.dialogue_store.add_assistant_message(message_id=message_id,name=pydantic.Sender, content=content)\n",
    "\n",
    "\n",
    "    # Clear previous output and update with new data\n",
    "    clear_output(wait=True)\n",
    "    displayed_output.update(Markdown(f\"|Sara|Diana|George|\\n|---|---|---|\\n| {sara_text} | {diana_text} | {george_text} |\\n\"))\n",
    "\n",
    "def show():\n",
    "    global displayed_output, sara_text, diana_text, george_text\n",
    "    displayed_output = display(Markdown(\"\"), display_id=True)\n",
    "    sara_text=\"\"\n",
    "    diana_text=\"\"\n",
    "    george_text=\"\"\n"
   ]
  },
  {
   "cell_type": "markdown",
   "metadata": {},
   "source": [
    "### 2b) Polling\n",
    "\n",
    "User will send the same message to each agents in a round-robin way. For example, self-introductions. The instruction to every agent is the same, ie. introduce yourself.\n",
    "\n",
    "```mermaid\n",
    "sequenceDiagram\n",
    "        User->>Sara: null\n",
    "        User->>Diana: null\n",
    "        User->>Christine: null\n",
    "```"
   ]
  },
  {
   "cell_type": "code",
   "execution_count": null,
   "metadata": {},
   "outputs": [
    {
     "data": {
      "text/markdown": [
       "|Sara|Diana|George|\n",
       "|---|---|---|\n",
       "| <Sara> |  |  |\n"
      ],
      "text/plain": [
       "<IPython.core.display.Markdown object>"
      ]
     },
     "metadata": {},
     "output_type": "display_data"
    },
    {
     "name": "stderr",
     "output_type": "stream",
     "text": [
      "\u001b[42m\u001b[30mINFO    \u001b[0m \u001b[32mstart rollcall\u001b[0m\n",
      "\u001b[42m\u001b[30mINFO    \u001b[0m \u001b[32mSara:Hello, I am Sara, your trusty assistant. I'm here to ensure your day runs smoothly and all your tasks are completed with precision. With my meticulous nature, I will leave no stone unturned in delivering the most accurate results. Additionally, my helpful demeanor will always guide you towards the best solutions.\n",
      "\u001b[0m\n",
      "\u001b[42m\u001b[30mINFO    \u001b[0m \u001b[32m\n",
      "User:\n",
      "Introduce yourself.\u001b[0m\n"
     ]
    }
   ],
   "source": [
    "\n",
    "show()\n",
    "await user.subscribe(async_chat_handler=on_chat)\n",
    "step=await user.dialogue(msg=\"Introduce yourself.\")\n",
    "while step:\n",
    "    step=await user.next()"
   ]
  },
  {
   "cell_type": "code",
   "execution_count": null,
   "metadata": {},
   "outputs": [
    {
     "name": "stdout",
     "output_type": "stream",
     "text": [
      "User->>George\n",
      "User->>Diana\n",
      "User->>Sara\n",
      "\n"
     ]
    },
    {
     "data": {
      "text/plain": [
       "[DialogueMessagePydantic(Id='00000000-0000-0000-0000-000000000000:2:1B', DialogueId='00000000-0000-0000-0000-000000000000', Order=6, OwnerId=None, Role='assistant', Name='Sara', Content='', Monologue=None, Timestamp=1730613279, ImageUrl='http://localhost:12033/api/v1/persona/Sara/thumbnail'),\n",
       " DialogueMessagePydantic(Id='00000000-0000-0000-0000-000000000000:2:2B', DialogueId='00000000-0000-0000-0000-000000000000', Order=7, OwnerId=None, Role='assistant', Name='George', Content='', Monologue=None, Timestamp=1730613283, ImageUrl='http://localhost:12033/api/v1/persona/George/thumbnail'),\n",
       " DialogueMessagePydantic(Id='00000000-0000-0000-0000-000000000000:3:0A', DialogueId='00000000-0000-0000-0000-000000000000', Order=8, OwnerId='00000000-0000-0000-0000-000000000000', Role='user', Name='user', Content='Help me plan a trip to Greece.', Monologue=None, Timestamp=1730613336, ImageUrl=None),\n",
       " DialogueMessagePydantic(Id='00000000-0000-0000-0000-000000000000:3:0B', DialogueId='00000000-0000-0000-0000-000000000000', Order=9, OwnerId=None, Role='assistant', Name='Sara', Content='', Monologue=None, Timestamp=1730613341, ImageUrl='http://localhost:12033/api/v1/persona/Sara/thumbnail'),\n",
       " DialogueMessagePydantic(Id='00000000-0000-0000-0000-000000000000:3:1B', DialogueId='00000000-0000-0000-0000-000000000000', Order=10, OwnerId=None, Role='assistant', Name='Diana', Content='', Monologue=None, Timestamp=1730613348, ImageUrl='http://localhost:12033/api/v1/persona/Diana/thumbnail'),\n",
       " DialogueMessagePydantic(Id='00000000-0000-0000-0000-000000000000:3:2B', DialogueId='00000000-0000-0000-0000-000000000000', Order=11, OwnerId=None, Role='assistant', Name='George', Content='', Monologue=None, Timestamp=1730613370, ImageUrl='http://localhost:12033/api/v1/persona/George/thumbnail'),\n",
       " DialogueMessagePydantic(Id='00000000-0000-0000-0000-000000000000:4:0A', DialogueId='00000000-0000-0000-0000-000000000000', Order=12, OwnerId='00000000-0000-0000-0000-000000000000', Role='user', Name='user', Content='Introduce yourself.', Monologue=None, Timestamp=1730613420, ImageUrl=None),\n",
       " DialogueMessagePydantic(Id='00000000-0000-0000-0000-000000000000:4:2B', DialogueId='00000000-0000-0000-0000-000000000000', Order=13, OwnerId=None, Role='assistant', Name='Sara', Content='', Monologue=None, Timestamp=1730613424, ImageUrl='http://localhost:12033/api/v1/persona/Sara/thumbnail'),\n",
       " DialogueMessagePydantic(Id='00000000-0000-0000-0000-000000000000:4:1B', DialogueId='00000000-0000-0000-0000-000000000000', Order=14, OwnerId=None, Role='assistant', Name='Diana', Content='', Monologue=None, Timestamp=1730613432, ImageUrl='http://localhost:12033/api/v1/persona/Diana/thumbnail'),\n",
       " DialogueMessagePydantic(Id='00000000-0000-0000-0000-000000000000:4:0B', DialogueId='00000000-0000-0000-0000-000000000000', Order=15, OwnerId=None, Role='assistant', Name='George', Content='', Monologue=None, Timestamp=1730613447, ImageUrl='http://localhost:12033/api/v1/persona/George/thumbnail')]"
      ]
     },
     "execution_count": 22,
     "metadata": {},
     "output_type": "execute_result"
    }
   ],
   "source": [
    "print(user.dialogue_state[\"flow_diagram\"])\n",
    "user.dialogue_store.list_dialogue_messages()"
   ]
  },
  {
   "cell_type": "markdown",
   "metadata": {},
   "source": [
    "### 3b) Pipelining\n",
    "\n",
    "User only send message to the first agent and subsequent agents will build upon the response. For example, story telling. Story telling involved the next agent building upon the story started by the previous agent.\n",
    "\n",
    "```mermaid\n",
    "sequenceDiagram\n",
    "        User->>Sara: null\n",
    "        Sara->>Diana: null\n",
    "        Diana->>Christine: null\n",
    "```\n"
   ]
  },
  {
   "cell_type": "code",
   "execution_count": 20,
   "metadata": {},
   "outputs": [
    {
     "data": {
      "text/markdown": [
       "|Sara|Diana|George|\n",
       "|---|---|---|\n",
       "| <Sara>Of course, I'd be happy to help you plan a trip to Greece. Let's start with some basic information. When are you planning to travel? Are you looking for a solo trip, or will there be others joining you? What are your interests and preferences during your travels? For example, do you prefer sightseeing, adventure activities, relaxing on the beach, or trying local cuisine? This information will help me provide a more personalized plan for your trip.</Sara><br><br> | <Diana>Yes, my turn to be the Devil's Advocate has indeed arrived. Looking at the user's request for help in planning a trip to Greece, I feel compelled to point out a potential flaw in their plans. It seems they may be overlooking the importance of understanding the customs and traditions of the country they are visiting. It’s essential to respect cultural differences to create a positive experience for everyone involved. Not being aware of these could lead to misunderstandings or even faux pas which could ruin the trip. So, I suggest that they spend some time researching not just the tourist attractions, but also the local culture and customs of Greece. This will certainly add depth to their travel plans and make their trip more enjoyable and enriching.</Diana><br><br> | <George>Hello! I'm an AI assistant. Based on your conversation, it seems like you're interested in planning a trip to Greece and need some information about it. I found a comprehensive Greece travel guide that includes topics such as popular activities, destinations, transportation, visa requirements, and money and costs. It covers a wide range of topics to help you plan your trip effectively. Would you like me to provide more specific information on any of these topics or assist you with something else?</George><br><br> |\n"
      ],
      "text/plain": [
       "<IPython.core.display.Markdown object>"
      ]
     },
     "metadata": {},
     "output_type": "display_data"
    }
   ],
   "source": [
    "show()\n",
    "seq_diagram = \"\"\"\n",
    "    sequenceDiagram\n",
    "        User->>Sara\n",
    "        Sara->>Diana\n",
    "        Diana->>George\n",
    "\"\"\"\n",
    "step=await user.dialogue(msg=\"Help me plan a trip to Greece.\",flow_diagram=seq_diagram)\n",
    "while step:\n",
    "    step=await user.next()"
   ]
  },
  {
   "cell_type": "code",
   "execution_count": 5,
   "metadata": {},
   "outputs": [
    {
     "name": "stdout",
     "output_type": "stream",
     "text": [
      "User->>Sara\n",
      "User->>Diana\n",
      "\n"
     ]
    },
    {
     "data": {
      "text/plain": [
       "[DialogueMessagePydantic(Id='00000000-0000-0000-0000-000000000000:1:0A', DialogueId='00000000-0000-0000-0000-000000000000', Order=0, OwnerId='00000000-0000-0000-0000-000000000000', Role='user', Name='user', Content='Introduce yourself.', Monologue=None, Timestamp=1730596913, ImageUrl=None),\n",
       " DialogueMessagePydantic(Id='00000000-0000-0000-0000-000000000000:1:0B', DialogueId='00000000-0000-0000-0000-000000000000', Order=1, OwnerId=None, Role='assistant', Name='Sara', Content='', Monologue=None, Timestamp=1730596918, ImageUrl='http://localhost:12033/api/v1/persona/Sara/thumbnail'),\n",
       " DialogueMessagePydantic(Id='00000000-0000-0000-0000-000000000000:1:1B', DialogueId='00000000-0000-0000-0000-000000000000', Order=2, OwnerId=None, Role='assistant', Name='Diana', Content='', Monologue=None, Timestamp=1730596926, ImageUrl='http://localhost:12033/api/v1/persona/Diana/thumbnail')]"
      ]
     },
     "execution_count": 5,
     "metadata": {},
     "output_type": "execute_result"
    }
   ],
   "source": [
    "print(user.dialogue_state[\"flow_diagram\"])\n",
    "user.dialogue_store.list_dialogue_messages()"
   ]
  },
  {
   "cell_type": "markdown",
   "metadata": {},
   "source": [
    "### 3c) Chat\n",
    "\n",
    "Simply directing the message to any persona's name."
   ]
  },
  {
   "cell_type": "code",
   "execution_count": 3,
   "metadata": {},
   "outputs": [
    {
     "data": {
      "text/markdown": [],
      "text/plain": [
       "<IPython.core.display.Markdown object>"
      ]
     },
     "metadata": {},
     "output_type": "display_data"
    },
    {
     "name": "stderr",
     "output_type": "stream",
     "text": [
      "\u001b[42m\u001b[30mINFO    \u001b[0m \u001b[32mstart rollcall\u001b[0m\n"
     ]
    },
    {
     "ename": "AttributeError",
     "evalue": "'NoneType' object has no attribute 'Dest'",
     "output_type": "error",
     "traceback": [
      "\u001b[0;31m---------------------------------------------------------------------------\u001b[0m",
      "\u001b[0;31mAttributeError\u001b[0m                            Traceback (most recent call last)",
      "Cell \u001b[0;32mIn[3], line 2\u001b[0m\n\u001b[1;32m      1\u001b[0m show()\n\u001b[0;32m----> 2\u001b[0m message_id\u001b[38;5;241m=\u001b[39m\u001b[38;5;28;01mawait\u001b[39;00m user\u001b[38;5;241m.\u001b[39mdialogue(msg\u001b[38;5;241m=\u001b[39m\u001b[38;5;124m\"\u001b[39m\u001b[38;5;124mDiana, what do you think?\u001b[39m\u001b[38;5;124m\"\u001b[39m)\n",
      "File \u001b[0;32m/workspaces/gai/gai-mace/src/gai/mace/user/mace_client.py:201\u001b[0m, in \u001b[0;36mMaceClient.dialogue\u001b[0;34m(self, msg, flow_diagram)\u001b[0m\n\u001b[1;32m    192\u001b[0m turn \u001b[38;5;241m=\u001b[39m plan\u001b[38;5;241m.\u001b[39mget_turn(turn_no\u001b[38;5;241m=\u001b[39mDialogueStore\u001b[38;5;241m.\u001b[39mturn_no)\n\u001b[1;32m    194\u001b[0m \u001b[38;5;66;03m# prepare message\u001b[39;00m\n\u001b[1;32m    195\u001b[0m message \u001b[38;5;241m=\u001b[39m FlowMessagePydantic(\n\u001b[1;32m    196\u001b[0m     DialogueId\u001b[38;5;241m=\u001b[39mDialogueStore\u001b[38;5;241m.\u001b[39mdialogue_id,\n\u001b[1;32m    197\u001b[0m     RoundNo\u001b[38;5;241m=\u001b[39mDialogueStore\u001b[38;5;241m.\u001b[39mround_no,\n\u001b[1;32m    198\u001b[0m     TurnNo\u001b[38;5;241m=\u001b[39mDialogueStore\u001b[38;5;241m.\u001b[39mturn_no,\n\u001b[1;32m    199\u001b[0m     FlowDiagram\u001b[38;5;241m=\u001b[39mflow_diagram,\n\u001b[1;32m    200\u001b[0m     Sender\u001b[38;5;241m=\u001b[39m\u001b[38;5;28mself\u001b[39m\u001b[38;5;241m.\u001b[39mnode_name,\n\u001b[0;32m--> 201\u001b[0m     Recipient\u001b[38;5;241m=\u001b[39m\u001b[43mturn\u001b[49m\u001b[38;5;241;43m.\u001b[39;49m\u001b[43mDest\u001b[49m,\n\u001b[1;32m    202\u001b[0m     Content\u001b[38;5;241m=\u001b[39mmsg,\n\u001b[1;32m    203\u001b[0m     DialogueMessages\u001b[38;5;241m=\u001b[39m[msg\u001b[38;5;241m.\u001b[39mdict() \u001b[38;5;28;01mfor\u001b[39;00m msg \u001b[38;5;129;01min\u001b[39;00m MaceClient\u001b[38;5;241m.\u001b[39mdialogue_store\u001b[38;5;241m.\u001b[39mlist_dialogue_messages()]\n\u001b[1;32m    204\u001b[0m )\n\u001b[1;32m    205\u001b[0m logger\u001b[38;5;241m.\u001b[39minfo(\u001b[38;5;124mf\u001b[39m\u001b[38;5;124m\"\u001b[39m\u001b[38;5;130;01m\\n\u001b[39;00m\u001b[38;5;124mUser:\u001b[39m\u001b[38;5;130;01m\\n\u001b[39;00m\u001b[38;5;132;01m{\u001b[39;00mmessage\u001b[38;5;241m.\u001b[39mContent\u001b[38;5;132;01m}\u001b[39;00m\u001b[38;5;124m\"\u001b[39m)\n\u001b[1;32m    207\u001b[0m \u001b[38;5;66;03m# send message\u001b[39;00m\n",
      "\u001b[0;31mAttributeError\u001b[0m: 'NoneType' object has no attribute 'Dest'"
     ]
    }
   ],
   "source": [
    "show()\n",
    "message_id=await user.dialogue(msg=\"Diana, what do you think?\")\n"
   ]
  },
  {
   "cell_type": "code",
   "execution_count": 7,
   "metadata": {},
   "outputs": [
    {
     "data": {
      "text/markdown": [
       "|Sara|Diana|George|\n",
       "|---|---|---|\n",
       "|  | <Diana> |  |\n"
      ],
      "text/plain": [
       "<IPython.core.display.Markdown object>"
      ]
     },
     "metadata": {},
     "output_type": "display_data"
    }
   ],
   "source": [
    "show()\n",
    "message_id=await user.dialogue(msg=\"George, please scour for other information that can be useful to us\")\n"
   ]
  },
  {
   "cell_type": "code",
   "execution_count": null,
   "metadata": {},
   "outputs": [],
   "source": [
    "show()\n",
    "message_id=await user.dialogue(msg=\"Sara, please summarise our plan in markup\")"
   ]
  }
 ],
 "metadata": {
  "kernelspec": {
   "display_name": ".venv",
   "language": "python",
   "name": "python3"
  },
  "language_info": {
   "codemirror_mode": {
    "name": "ipython",
    "version": 3
   },
   "file_extension": ".py",
   "mimetype": "text/x-python",
   "name": "python",
   "nbconvert_exporter": "python",
   "pygments_lexer": "ipython3",
   "version": "3.10.14"
  }
 },
 "nbformat": 4,
 "nbformat_minor": 2
}
