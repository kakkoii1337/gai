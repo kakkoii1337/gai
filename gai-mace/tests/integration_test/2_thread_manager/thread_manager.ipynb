{
 "cells": [
  {
   "cell_type": "markdown",
   "metadata": {},
   "source": [
    "Thread Starter"
   ]
  },
  {
   "cell_type": "code",
   "execution_count": null,
   "metadata": {},
   "outputs": [
    {
     "name": "stdout",
     "output_type": "stream",
     "text": [
      "Thread Worker-1 stopped.\n",
      "Thread Worker-2 stopped.\n",
      "Thread Worker-3 stopped.\n"
     ]
    }
   ],
   "source": [
    "from gai.mace.node.thread_manager import ThreadManagerSingleton\n",
    "from TestServer import TestServer\n",
    "thread_monitor = ThreadManagerSingleton.GetInstance()\n",
    "thread_monitor.run_thread(\"Worker-1\", TestServer(\"Worker-1\").serve)\n",
    "thread_monitor.run_thread(\"Worker-2\", TestServer(\"Worker-2\").serve)\n",
    "thread_monitor.run_thread(\"Worker-3\", TestServer(\"Worker-3\").serve)"
   ]
  },
  {
   "cell_type": "markdown",
   "metadata": {},
   "source": [
    "Thread Stopper"
   ]
  },
  {
   "cell_type": "code",
   "execution_count": 7,
   "metadata": {},
   "outputs": [
    {
     "name": "stdout",
     "output_type": "stream",
     "text": [
      "Thread Worker-1 marked to stop.\n"
     ]
    }
   ],
   "source": [
    "from gai.mace.node.thread_manager import ThreadManagerSingleton\n",
    "tm = ThreadManagerSingleton.GetInstance()\n",
    "tm.stop_thread(\"Worker-1\")\n"
   ]
  },
  {
   "cell_type": "code",
   "execution_count": 8,
   "metadata": {},
   "outputs": [
    {
     "name": "stdout",
     "output_type": "stream",
     "text": [
      "Thread Worker-2 marked to stop.\n"
     ]
    }
   ],
   "source": [
    "from gai.mace.node.thread_manager import ThreadManagerSingleton\n",
    "tm = ThreadManagerSingleton.GetInstance()\n",
    "tm.stop_thread(\"Worker-2\")\n"
   ]
  },
  {
   "cell_type": "code",
   "execution_count": 9,
   "metadata": {},
   "outputs": [
    {
     "name": "stdout",
     "output_type": "stream",
     "text": [
      "Thread Worker-3 marked to stop.\n"
     ]
    }
   ],
   "source": [
    "from gai.mace.node.thread_manager import ThreadManagerSingleton\n",
    "tm = ThreadManagerSingleton.GetInstance()\n",
    "tm.stop_thread(\"Worker-3\")\n"
   ]
  }
 ],
 "metadata": {
  "kernelspec": {
   "display_name": ".venv",
   "language": "python",
   "name": "python3"
  },
  "language_info": {
   "codemirror_mode": {
    "name": "ipython",
    "version": 3
   },
   "file_extension": ".py",
   "mimetype": "text/x-python",
   "name": "python",
   "nbconvert_exporter": "python",
   "pygments_lexer": "ipython3",
   "version": "3.10.14"
  }
 },
 "nbformat": 4,
 "nbformat_minor": 2
}
