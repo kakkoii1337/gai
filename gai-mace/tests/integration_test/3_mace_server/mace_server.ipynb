{
 "cells": [
  {
   "cell_type": "markdown",
   "metadata": {},
   "source": [
    "### a) Start a thread running a Custom Persona (User)"
   ]
  },
  {
   "cell_type": "code",
   "execution_count": 1,
   "metadata": {},
   "outputs": [
    {
     "name": "stderr",
     "output_type": "stream",
     "text": [
      "\u001b[42m\u001b[30mINFO    \u001b[0m \u001b[32mGaiNetNode.connect: Ready.\u001b[0m\n",
      "\u001b[42m\u001b[30mINFO    \u001b[0m \u001b[32mMaceServer.listen: Server is starting to serve.\u001b[0m\n"
     ]
    }
   ],
   "source": [
    "import os\n",
    "\n",
    "from gai.persona.persona_builder import PersonaBuilder\n",
    "here = os.path.dirname(os.path.abspath(__name__))\n",
    "import_dir=os.path.join(here,\"../../../src/gai/mace/node/persona/data/Diana\")\n",
    "builder = PersonaBuilder()\n",
    "builder = await builder.import_async(import_dir=import_dir)\n",
    "persona = builder.build()\n",
    "nats = \"nats://nats01:4222\"\n",
    "\n",
    "from gai.mace.node.mace_server import MaceServer\n",
    "node = await MaceServer.create(servers=nats, persona=persona,is_user=True)\n",
    "\n",
    "from gai.mace.node.thread_manager import ThreadManagerSingleton\n",
    "tm = ThreadManagerSingleton.GetInstance()\n",
    "tm.run_thread(\"User\", node.serve)"
   ]
  },
  {
   "cell_type": "markdown",
   "metadata": {},
   "source": [
    "### b) Test response"
   ]
  },
  {
   "cell_type": "markdown",
   "metadata": {},
   "source": [
    "rollcall"
   ]
  },
  {
   "cell_type": "code",
   "execution_count": 10,
   "metadata": {},
   "outputs": [
    {
     "name": "stderr",
     "output_type": "stream",
     "text": [
      "\u001b[42m\u001b[30mINFO    \u001b[0m \u001b[32mGaiNetNode.connect: Ready.\u001b[0m\n",
      "\u001b[42m\u001b[30mINFO    \u001b[0m \u001b[32mstart rollcall\u001b[0m\n",
      "\u001b[45m\u001b[30mDEBUG   \u001b[0m \u001b[35mmace_client.rollcall_handler: {'Name': 'Diana', 'ClassName': 'Assistant', 'AgentDescription': 'Hi there! I am an Assistant class generative AI agent.', 'AgentShortDesc': None, 'Image64': '...', 'Image128': '...'}\u001b[0m\n",
      "\u001b[45m\u001b[30mDEBUG   \u001b[0m \u001b[35mmace_client.rollcall_handler: Diana\u001b[0m\n",
      "\u001b[45m\u001b[30mDEBUG   \u001b[0m \u001b[35mmace_client.rollcall_handler: {'Name': 'George', 'ClassName': 'Assistant', 'AgentDescription': 'Hi there! I am an Assistant class generative AI agent.', 'AgentShortDesc': None, 'Image64': '...', 'Image128': '...'}\u001b[0m\n",
      "\u001b[45m\u001b[30mDEBUG   \u001b[0m \u001b[35mmace_client.rollcall_handler: George\u001b[0m\n",
      "\u001b[45m\u001b[30mDEBUG   \u001b[0m \u001b[35mmace_client.rollcall_handler: {'Name': 'Sara', 'ClassName': 'Assistant', 'AgentDescription': 'Hi there! I am an Assistant class generative AI agent.', 'AgentShortDesc': None, 'Image64': '...', 'Image128': '...'}\u001b[0m\n",
      "\u001b[45m\u001b[30mDEBUG   \u001b[0m \u001b[35mmace_client.rollcall_handler: Sara\u001b[0m\n",
      "\u001b[42m\u001b[30mINFO    \u001b[0m \u001b[32mDiana:Hi there! I am an Assistant class generative AI agent.\u001b[0m\n",
      "\u001b[42m\u001b[30mINFO    \u001b[0m \u001b[32mGeorge:Hi there! I am an Assistant class generative AI agent.\u001b[0m\n",
      "\u001b[42m\u001b[30mINFO    \u001b[0m \u001b[32mSara:Hi there! I am an Assistant class generative AI agent.\u001b[0m\n"
     ]
    },
    {
     "name": "stderr",
     "output_type": "stream",
     "text": [
      "\u001b[45m\u001b[30mDEBUG   \u001b[0m \u001b[35mmace_client.rollcall_handler: {'Name': 'Diana', 'ClassName': 'Assistant', 'AgentDescription': 'Hi there! I am an Assistant class generative AI agent.', 'AgentShortDesc': None, 'Image64': '...', 'Image128': '...'}\u001b[0m\n",
      "\u001b[45m\u001b[30mDEBUG   \u001b[0m \u001b[35mmace_client.rollcall_handler: Diana\u001b[0m\n"
     ]
    }
   ],
   "source": [
    "from gai.mace.user.mace_client import MaceClient\n",
    "from gai.lib.common.logging import getLogger\n",
    "logger = getLogger(__name__)\n",
    "user = await MaceClient.create(servers=\"nats://nats01:4222\")\n",
    "await user.subscribe()\n",
    "await user.rollcall()"
   ]
  },
  {
   "cell_type": "markdown",
   "metadata": {},
   "source": [
    "direct message"
   ]
  },
  {
   "cell_type": "code",
   "execution_count": null,
   "metadata": {},
   "outputs": [
    {
     "name": "stderr",
     "output_type": "stream",
     "text": [
      "\u001b[42m\u001b[30mINFO    \u001b[0m \u001b[32mGaiNetNode.connect: Ready.\u001b[0m\n",
      "\u001b[42m\u001b[30mINFO    \u001b[0m \u001b[32m\n",
      "User:\n",
      "Roses are red. \u001b[0m\n"
     ]
    },
    {
     "name": "stdout",
     "output_type": "stream",
     "text": [
      "None<Sara>Indeed, roses are red. I have encountered this information in my database. Is there anything else you would like to share or discuss? </Sara>"
     ]
    }
   ],
   "source": [
    "from gai.mace.user.mace_client import MaceClient\n",
    "import json\n",
    "async def on_chat(msg):\n",
    "    print(json.loads(msg.data.decode())[\"Chunk\"], end=\"\", flush=True)\n",
    "user = await MaceClient.create(servers=\"nats://nats01:4222\")\n",
    "await user.subscribe(async_chat_handler=on_chat)\n",
    "res=await user.dialogue(msg=\"Roses are red. \",flow_diagram=\"User->>Sara\")\n"
   ]
  },
  {
   "cell_type": "markdown",
   "metadata": {},
   "source": [
    "### c) Remove the Custom Persona"
   ]
  },
  {
   "cell_type": "code",
   "execution_count": 3,
   "metadata": {},
   "outputs": [
    {
     "name": "stdout",
     "output_type": "stream",
     "text": [
      "Thread User marked to stop.\n"
     ]
    }
   ],
   "source": [
    "from gai.mace.node.thread_manager import ThreadManagerSingleton\n",
    "tm = ThreadManagerSingleton.GetInstance()\n",
    "tm.stop_thread(\"User\")"
   ]
  }
 ],
 "metadata": {
  "kernelspec": {
   "display_name": ".venv",
   "language": "python",
   "name": "python3"
  },
  "language_info": {
   "codemirror_mode": {
    "name": "ipython",
    "version": 3
   },
   "file_extension": ".py",
   "mimetype": "text/x-python",
   "name": "python",
   "nbconvert_exporter": "python",
   "pygments_lexer": "ipython3",
   "version": "3.10.14"
  }
 },
 "nbformat": 4,
 "nbformat_minor": 2
}
